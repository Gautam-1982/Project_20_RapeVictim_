{
 "cells": [
  {
   "cell_type": "code",
   "execution_count": 2,
   "metadata": {},
   "outputs": [],
   "source": [
    "import pandas as pd"
   ]
  },
  {
   "cell_type": "code",
   "execution_count": 3,
   "metadata": {},
   "outputs": [
    {
     "data": {
      "text/html": [
       "<div>\n",
       "<style scoped>\n",
       "    .dataframe tbody tr th:only-of-type {\n",
       "        vertical-align: middle;\n",
       "    }\n",
       "\n",
       "    .dataframe tbody tr th {\n",
       "        vertical-align: top;\n",
       "    }\n",
       "\n",
       "    .dataframe thead th {\n",
       "        text-align: right;\n",
       "    }\n",
       "</style>\n",
       "<table border=\"1\" class=\"dataframe\">\n",
       "  <thead>\n",
       "    <tr style=\"text-align: right;\">\n",
       "      <th></th>\n",
       "      <th>Area_Name</th>\n",
       "      <th>Year</th>\n",
       "      <th>Subgroup</th>\n",
       "      <th>Rape_Cases_Reported</th>\n",
       "      <th>Victims_Above_50_Yrs</th>\n",
       "      <th>Victims_Between_10-14_Yrs</th>\n",
       "      <th>Victims_Between_14-18_Yrs</th>\n",
       "      <th>Victims_Between_18-30_Yrs</th>\n",
       "      <th>Victims_Between_30-50_Yrs</th>\n",
       "      <th>Victims_of_Rape_Total</th>\n",
       "      <th>Victims_Upto_10_Yrs</th>\n",
       "    </tr>\n",
       "  </thead>\n",
       "  <tbody>\n",
       "    <tr>\n",
       "      <th>0</th>\n",
       "      <td>Andaman &amp; Nicobar Islands</td>\n",
       "      <td>2001</td>\n",
       "      <td>Total Rape Victims</td>\n",
       "      <td>3</td>\n",
       "      <td>0</td>\n",
       "      <td>0</td>\n",
       "      <td>3</td>\n",
       "      <td>0</td>\n",
       "      <td>0</td>\n",
       "      <td>3</td>\n",
       "      <td>0</td>\n",
       "    </tr>\n",
       "    <tr>\n",
       "      <th>1</th>\n",
       "      <td>Andaman &amp; Nicobar Islands</td>\n",
       "      <td>2001</td>\n",
       "      <td>Victims of Incest Rape</td>\n",
       "      <td>1</td>\n",
       "      <td>0</td>\n",
       "      <td>0</td>\n",
       "      <td>1</td>\n",
       "      <td>0</td>\n",
       "      <td>0</td>\n",
       "      <td>1</td>\n",
       "      <td>0</td>\n",
       "    </tr>\n",
       "    <tr>\n",
       "      <th>2</th>\n",
       "      <td>Andaman &amp; Nicobar Islands</td>\n",
       "      <td>2001</td>\n",
       "      <td>Victims of Other Rape</td>\n",
       "      <td>2</td>\n",
       "      <td>0</td>\n",
       "      <td>0</td>\n",
       "      <td>2</td>\n",
       "      <td>0</td>\n",
       "      <td>0</td>\n",
       "      <td>2</td>\n",
       "      <td>0</td>\n",
       "    </tr>\n",
       "    <tr>\n",
       "      <th>3</th>\n",
       "      <td>Andaman &amp; Nicobar Islands</td>\n",
       "      <td>2002</td>\n",
       "      <td>Total Rape Victims</td>\n",
       "      <td>2</td>\n",
       "      <td>0</td>\n",
       "      <td>0</td>\n",
       "      <td>1</td>\n",
       "      <td>1</td>\n",
       "      <td>0</td>\n",
       "      <td>2</td>\n",
       "      <td>0</td>\n",
       "    </tr>\n",
       "    <tr>\n",
       "      <th>4</th>\n",
       "      <td>Andaman &amp; Nicobar Islands</td>\n",
       "      <td>2002</td>\n",
       "      <td>Victims of Incest Rape</td>\n",
       "      <td>0</td>\n",
       "      <td>0</td>\n",
       "      <td>0</td>\n",
       "      <td>0</td>\n",
       "      <td>0</td>\n",
       "      <td>0</td>\n",
       "      <td>0</td>\n",
       "      <td>0</td>\n",
       "    </tr>\n",
       "    <tr>\n",
       "      <th>...</th>\n",
       "      <td>...</td>\n",
       "      <td>...</td>\n",
       "      <td>...</td>\n",
       "      <td>...</td>\n",
       "      <td>...</td>\n",
       "      <td>...</td>\n",
       "      <td>...</td>\n",
       "      <td>...</td>\n",
       "      <td>...</td>\n",
       "      <td>...</td>\n",
       "      <td>...</td>\n",
       "    </tr>\n",
       "    <tr>\n",
       "      <th>1045</th>\n",
       "      <td>West Bengal</td>\n",
       "      <td>2009</td>\n",
       "      <td>Victims of Incest Rape</td>\n",
       "      <td>3</td>\n",
       "      <td>0</td>\n",
       "      <td>0</td>\n",
       "      <td>1</td>\n",
       "      <td>1</td>\n",
       "      <td>1</td>\n",
       "      <td>3</td>\n",
       "      <td>0</td>\n",
       "    </tr>\n",
       "    <tr>\n",
       "      <th>1046</th>\n",
       "      <td>West Bengal</td>\n",
       "      <td>2009</td>\n",
       "      <td>Victims of Other Rape</td>\n",
       "      <td>2333</td>\n",
       "      <td>0</td>\n",
       "      <td>18</td>\n",
       "      <td>84</td>\n",
       "      <td>1834</td>\n",
       "      <td>391</td>\n",
       "      <td>2333</td>\n",
       "      <td>6</td>\n",
       "    </tr>\n",
       "    <tr>\n",
       "      <th>1047</th>\n",
       "      <td>West Bengal</td>\n",
       "      <td>2010</td>\n",
       "      <td>Total Rape Victims</td>\n",
       "      <td>2311</td>\n",
       "      <td>0</td>\n",
       "      <td>22</td>\n",
       "      <td>51</td>\n",
       "      <td>1779</td>\n",
       "      <td>459</td>\n",
       "      <td>2311</td>\n",
       "      <td>0</td>\n",
       "    </tr>\n",
       "    <tr>\n",
       "      <th>1048</th>\n",
       "      <td>West Bengal</td>\n",
       "      <td>2010</td>\n",
       "      <td>Victims of Incest Rape</td>\n",
       "      <td>4</td>\n",
       "      <td>0</td>\n",
       "      <td>1</td>\n",
       "      <td>0</td>\n",
       "      <td>2</td>\n",
       "      <td>1</td>\n",
       "      <td>4</td>\n",
       "      <td>0</td>\n",
       "    </tr>\n",
       "    <tr>\n",
       "      <th>1049</th>\n",
       "      <td>West Bengal</td>\n",
       "      <td>2010</td>\n",
       "      <td>Victims of Other Rape</td>\n",
       "      <td>2307</td>\n",
       "      <td>0</td>\n",
       "      <td>21</td>\n",
       "      <td>51</td>\n",
       "      <td>1777</td>\n",
       "      <td>458</td>\n",
       "      <td>2307</td>\n",
       "      <td>0</td>\n",
       "    </tr>\n",
       "  </tbody>\n",
       "</table>\n",
       "<p>1050 rows × 11 columns</p>\n",
       "</div>"
      ],
      "text/plain": [
       "                      Area_Name  Year                Subgroup  \\\n",
       "0     Andaman & Nicobar Islands  2001      Total Rape Victims   \n",
       "1     Andaman & Nicobar Islands  2001  Victims of Incest Rape   \n",
       "2     Andaman & Nicobar Islands  2001   Victims of Other Rape   \n",
       "3     Andaman & Nicobar Islands  2002      Total Rape Victims   \n",
       "4     Andaman & Nicobar Islands  2002  Victims of Incest Rape   \n",
       "...                         ...   ...                     ...   \n",
       "1045                West Bengal  2009  Victims of Incest Rape   \n",
       "1046                West Bengal  2009   Victims of Other Rape   \n",
       "1047                West Bengal  2010      Total Rape Victims   \n",
       "1048                West Bengal  2010  Victims of Incest Rape   \n",
       "1049                West Bengal  2010   Victims of Other Rape   \n",
       "\n",
       "      Rape_Cases_Reported  Victims_Above_50_Yrs  Victims_Between_10-14_Yrs  \\\n",
       "0                       3                     0                          0   \n",
       "1                       1                     0                          0   \n",
       "2                       2                     0                          0   \n",
       "3                       2                     0                          0   \n",
       "4                       0                     0                          0   \n",
       "...                   ...                   ...                        ...   \n",
       "1045                    3                     0                          0   \n",
       "1046                 2333                     0                         18   \n",
       "1047                 2311                     0                         22   \n",
       "1048                    4                     0                          1   \n",
       "1049                 2307                     0                         21   \n",
       "\n",
       "      Victims_Between_14-18_Yrs  Victims_Between_18-30_Yrs  \\\n",
       "0                             3                          0   \n",
       "1                             1                          0   \n",
       "2                             2                          0   \n",
       "3                             1                          1   \n",
       "4                             0                          0   \n",
       "...                         ...                        ...   \n",
       "1045                          1                          1   \n",
       "1046                         84                       1834   \n",
       "1047                         51                       1779   \n",
       "1048                          0                          2   \n",
       "1049                         51                       1777   \n",
       "\n",
       "      Victims_Between_30-50_Yrs  Victims_of_Rape_Total  Victims_Upto_10_Yrs  \n",
       "0                             0                      3                    0  \n",
       "1                             0                      1                    0  \n",
       "2                             0                      2                    0  \n",
       "3                             0                      2                    0  \n",
       "4                             0                      0                    0  \n",
       "...                         ...                    ...                  ...  \n",
       "1045                          1                      3                    0  \n",
       "1046                        391                   2333                    6  \n",
       "1047                        459                   2311                    0  \n",
       "1048                          1                      4                    0  \n",
       "1049                        458                   2307                    0  \n",
       "\n",
       "[1050 rows x 11 columns]"
      ]
     },
     "execution_count": 3,
     "metadata": {},
     "output_type": "execute_result"
    }
   ],
   "source": [
    "df=pd.read_csv(\"Project_20.csv\")\n",
    "df"
   ]
  },
  {
   "cell_type": "code",
   "execution_count": 4,
   "metadata": {},
   "outputs": [
    {
     "data": {
      "text/html": [
       "<div>\n",
       "<style scoped>\n",
       "    .dataframe tbody tr th:only-of-type {\n",
       "        vertical-align: middle;\n",
       "    }\n",
       "\n",
       "    .dataframe tbody tr th {\n",
       "        vertical-align: top;\n",
       "    }\n",
       "\n",
       "    .dataframe thead th {\n",
       "        text-align: right;\n",
       "    }\n",
       "</style>\n",
       "<table border=\"1\" class=\"dataframe\">\n",
       "  <thead>\n",
       "    <tr style=\"text-align: right;\">\n",
       "      <th></th>\n",
       "      <th>Area_Name</th>\n",
       "      <th>Year</th>\n",
       "      <th>Subgroup</th>\n",
       "      <th>Rape_Cases_Reported</th>\n",
       "      <th>Victims_Above_50_Yrs</th>\n",
       "      <th>Victims_Between_10-14_Yrs</th>\n",
       "      <th>Victims_Between_14-18_Yrs</th>\n",
       "      <th>Victims_Between_18-30_Yrs</th>\n",
       "      <th>Victims_Between_30-50_Yrs</th>\n",
       "      <th>Victims_of_Rape_Total</th>\n",
       "      <th>Victims_Upto_10_Yrs</th>\n",
       "    </tr>\n",
       "  </thead>\n",
       "  <tbody>\n",
       "    <tr>\n",
       "      <th>0</th>\n",
       "      <td>Andaman &amp; Nicobar Islands</td>\n",
       "      <td>2001</td>\n",
       "      <td>Total Rape Victims</td>\n",
       "      <td>3</td>\n",
       "      <td>0</td>\n",
       "      <td>0</td>\n",
       "      <td>3</td>\n",
       "      <td>0</td>\n",
       "      <td>0</td>\n",
       "      <td>3</td>\n",
       "      <td>0</td>\n",
       "    </tr>\n",
       "    <tr>\n",
       "      <th>1</th>\n",
       "      <td>Andaman &amp; Nicobar Islands</td>\n",
       "      <td>2001</td>\n",
       "      <td>Victims of Incest Rape</td>\n",
       "      <td>1</td>\n",
       "      <td>0</td>\n",
       "      <td>0</td>\n",
       "      <td>1</td>\n",
       "      <td>0</td>\n",
       "      <td>0</td>\n",
       "      <td>1</td>\n",
       "      <td>0</td>\n",
       "    </tr>\n",
       "    <tr>\n",
       "      <th>2</th>\n",
       "      <td>Andaman &amp; Nicobar Islands</td>\n",
       "      <td>2001</td>\n",
       "      <td>Victims of Other Rape</td>\n",
       "      <td>2</td>\n",
       "      <td>0</td>\n",
       "      <td>0</td>\n",
       "      <td>2</td>\n",
       "      <td>0</td>\n",
       "      <td>0</td>\n",
       "      <td>2</td>\n",
       "      <td>0</td>\n",
       "    </tr>\n",
       "    <tr>\n",
       "      <th>3</th>\n",
       "      <td>Andaman &amp; Nicobar Islands</td>\n",
       "      <td>2002</td>\n",
       "      <td>Total Rape Victims</td>\n",
       "      <td>2</td>\n",
       "      <td>0</td>\n",
       "      <td>0</td>\n",
       "      <td>1</td>\n",
       "      <td>1</td>\n",
       "      <td>0</td>\n",
       "      <td>2</td>\n",
       "      <td>0</td>\n",
       "    </tr>\n",
       "    <tr>\n",
       "      <th>4</th>\n",
       "      <td>Andaman &amp; Nicobar Islands</td>\n",
       "      <td>2002</td>\n",
       "      <td>Victims of Incest Rape</td>\n",
       "      <td>0</td>\n",
       "      <td>0</td>\n",
       "      <td>0</td>\n",
       "      <td>0</td>\n",
       "      <td>0</td>\n",
       "      <td>0</td>\n",
       "      <td>0</td>\n",
       "      <td>0</td>\n",
       "    </tr>\n",
       "  </tbody>\n",
       "</table>\n",
       "</div>"
      ],
      "text/plain": [
       "                   Area_Name  Year                Subgroup  \\\n",
       "0  Andaman & Nicobar Islands  2001      Total Rape Victims   \n",
       "1  Andaman & Nicobar Islands  2001  Victims of Incest Rape   \n",
       "2  Andaman & Nicobar Islands  2001   Victims of Other Rape   \n",
       "3  Andaman & Nicobar Islands  2002      Total Rape Victims   \n",
       "4  Andaman & Nicobar Islands  2002  Victims of Incest Rape   \n",
       "\n",
       "   Rape_Cases_Reported  Victims_Above_50_Yrs  Victims_Between_10-14_Yrs  \\\n",
       "0                    3                     0                          0   \n",
       "1                    1                     0                          0   \n",
       "2                    2                     0                          0   \n",
       "3                    2                     0                          0   \n",
       "4                    0                     0                          0   \n",
       "\n",
       "   Victims_Between_14-18_Yrs  Victims_Between_18-30_Yrs  \\\n",
       "0                          3                          0   \n",
       "1                          1                          0   \n",
       "2                          2                          0   \n",
       "3                          1                          1   \n",
       "4                          0                          0   \n",
       "\n",
       "   Victims_Between_30-50_Yrs  Victims_of_Rape_Total  Victims_Upto_10_Yrs  \n",
       "0                          0                      3                    0  \n",
       "1                          0                      1                    0  \n",
       "2                          0                      2                    0  \n",
       "3                          0                      2                    0  \n",
       "4                          0                      0                    0  "
      ]
     },
     "execution_count": 4,
     "metadata": {},
     "output_type": "execute_result"
    }
   ],
   "source": [
    "df.head()"
   ]
  },
  {
   "cell_type": "code",
   "execution_count": 5,
   "metadata": {},
   "outputs": [
    {
     "data": {
      "text/plain": [
       "Index(['Area_Name', 'Year', 'Subgroup', 'Rape_Cases_Reported',\n",
       "       'Victims_Above_50_Yrs', 'Victims_Between_10-14_Yrs',\n",
       "       'Victims_Between_14-18_Yrs', 'Victims_Between_18-30_Yrs',\n",
       "       'Victims_Between_30-50_Yrs', 'Victims_of_Rape_Total',\n",
       "       'Victims_Upto_10_Yrs'],\n",
       "      dtype='object')"
      ]
     },
     "execution_count": 5,
     "metadata": {},
     "output_type": "execute_result"
    }
   ],
   "source": [
    "df.columns"
   ]
  },
  {
   "cell_type": "code",
   "execution_count": 6,
   "metadata": {},
   "outputs": [],
   "source": [
    "import numpy as np"
   ]
  },
  {
   "cell_type": "code",
   "execution_count": 7,
   "metadata": {},
   "outputs": [],
   "source": [
    "df['Rape_Cases_Reported']=df['Rape_Cases_Reported'].replace(0,np.NaN)\n",
    "df['Rape_Cases_Reported']=df['Rape_Cases_Reported'].fillna((df['Rape_Cases_Reported'].mean()))"
   ]
  },
  {
   "cell_type": "code",
   "execution_count": 8,
   "metadata": {},
   "outputs": [
    {
     "data": {
      "text/html": [
       "<div>\n",
       "<style scoped>\n",
       "    .dataframe tbody tr th:only-of-type {\n",
       "        vertical-align: middle;\n",
       "    }\n",
       "\n",
       "    .dataframe tbody tr th {\n",
       "        vertical-align: top;\n",
       "    }\n",
       "\n",
       "    .dataframe thead th {\n",
       "        text-align: right;\n",
       "    }\n",
       "</style>\n",
       "<table border=\"1\" class=\"dataframe\">\n",
       "  <thead>\n",
       "    <tr style=\"text-align: right;\">\n",
       "      <th></th>\n",
       "      <th>Area_Name</th>\n",
       "      <th>Year</th>\n",
       "      <th>Subgroup</th>\n",
       "      <th>Rape_Cases_Reported</th>\n",
       "      <th>Victims_Above_50_Yrs</th>\n",
       "      <th>Victims_Between_10-14_Yrs</th>\n",
       "      <th>Victims_Between_14-18_Yrs</th>\n",
       "      <th>Victims_Between_18-30_Yrs</th>\n",
       "      <th>Victims_Between_30-50_Yrs</th>\n",
       "      <th>Victims_of_Rape_Total</th>\n",
       "      <th>Victims_Upto_10_Yrs</th>\n",
       "    </tr>\n",
       "  </thead>\n",
       "  <tbody>\n",
       "    <tr>\n",
       "      <th>0</th>\n",
       "      <td>Andaman &amp; Nicobar Islands</td>\n",
       "      <td>2001</td>\n",
       "      <td>Total Rape Victims</td>\n",
       "      <td>3.000000</td>\n",
       "      <td>0</td>\n",
       "      <td>0</td>\n",
       "      <td>3</td>\n",
       "      <td>0</td>\n",
       "      <td>0</td>\n",
       "      <td>3</td>\n",
       "      <td>0</td>\n",
       "    </tr>\n",
       "    <tr>\n",
       "      <th>1</th>\n",
       "      <td>Andaman &amp; Nicobar Islands</td>\n",
       "      <td>2001</td>\n",
       "      <td>Victims of Incest Rape</td>\n",
       "      <td>1.000000</td>\n",
       "      <td>0</td>\n",
       "      <td>0</td>\n",
       "      <td>1</td>\n",
       "      <td>0</td>\n",
       "      <td>0</td>\n",
       "      <td>1</td>\n",
       "      <td>0</td>\n",
       "    </tr>\n",
       "    <tr>\n",
       "      <th>2</th>\n",
       "      <td>Andaman &amp; Nicobar Islands</td>\n",
       "      <td>2001</td>\n",
       "      <td>Victims of Other Rape</td>\n",
       "      <td>2.000000</td>\n",
       "      <td>0</td>\n",
       "      <td>0</td>\n",
       "      <td>2</td>\n",
       "      <td>0</td>\n",
       "      <td>0</td>\n",
       "      <td>2</td>\n",
       "      <td>0</td>\n",
       "    </tr>\n",
       "    <tr>\n",
       "      <th>3</th>\n",
       "      <td>Andaman &amp; Nicobar Islands</td>\n",
       "      <td>2002</td>\n",
       "      <td>Total Rape Victims</td>\n",
       "      <td>2.000000</td>\n",
       "      <td>0</td>\n",
       "      <td>0</td>\n",
       "      <td>1</td>\n",
       "      <td>1</td>\n",
       "      <td>0</td>\n",
       "      <td>2</td>\n",
       "      <td>0</td>\n",
       "    </tr>\n",
       "    <tr>\n",
       "      <th>4</th>\n",
       "      <td>Andaman &amp; Nicobar Islands</td>\n",
       "      <td>2002</td>\n",
       "      <td>Victims of Incest Rape</td>\n",
       "      <td>413.510337</td>\n",
       "      <td>0</td>\n",
       "      <td>0</td>\n",
       "      <td>0</td>\n",
       "      <td>0</td>\n",
       "      <td>0</td>\n",
       "      <td>0</td>\n",
       "      <td>0</td>\n",
       "    </tr>\n",
       "    <tr>\n",
       "      <th>...</th>\n",
       "      <td>...</td>\n",
       "      <td>...</td>\n",
       "      <td>...</td>\n",
       "      <td>...</td>\n",
       "      <td>...</td>\n",
       "      <td>...</td>\n",
       "      <td>...</td>\n",
       "      <td>...</td>\n",
       "      <td>...</td>\n",
       "      <td>...</td>\n",
       "      <td>...</td>\n",
       "    </tr>\n",
       "    <tr>\n",
       "      <th>1045</th>\n",
       "      <td>West Bengal</td>\n",
       "      <td>2009</td>\n",
       "      <td>Victims of Incest Rape</td>\n",
       "      <td>3.000000</td>\n",
       "      <td>0</td>\n",
       "      <td>0</td>\n",
       "      <td>1</td>\n",
       "      <td>1</td>\n",
       "      <td>1</td>\n",
       "      <td>3</td>\n",
       "      <td>0</td>\n",
       "    </tr>\n",
       "    <tr>\n",
       "      <th>1046</th>\n",
       "      <td>West Bengal</td>\n",
       "      <td>2009</td>\n",
       "      <td>Victims of Other Rape</td>\n",
       "      <td>2333.000000</td>\n",
       "      <td>0</td>\n",
       "      <td>18</td>\n",
       "      <td>84</td>\n",
       "      <td>1834</td>\n",
       "      <td>391</td>\n",
       "      <td>2333</td>\n",
       "      <td>6</td>\n",
       "    </tr>\n",
       "    <tr>\n",
       "      <th>1047</th>\n",
       "      <td>West Bengal</td>\n",
       "      <td>2010</td>\n",
       "      <td>Total Rape Victims</td>\n",
       "      <td>2311.000000</td>\n",
       "      <td>0</td>\n",
       "      <td>22</td>\n",
       "      <td>51</td>\n",
       "      <td>1779</td>\n",
       "      <td>459</td>\n",
       "      <td>2311</td>\n",
       "      <td>0</td>\n",
       "    </tr>\n",
       "    <tr>\n",
       "      <th>1048</th>\n",
       "      <td>West Bengal</td>\n",
       "      <td>2010</td>\n",
       "      <td>Victims of Incest Rape</td>\n",
       "      <td>4.000000</td>\n",
       "      <td>0</td>\n",
       "      <td>1</td>\n",
       "      <td>0</td>\n",
       "      <td>2</td>\n",
       "      <td>1</td>\n",
       "      <td>4</td>\n",
       "      <td>0</td>\n",
       "    </tr>\n",
       "    <tr>\n",
       "      <th>1049</th>\n",
       "      <td>West Bengal</td>\n",
       "      <td>2010</td>\n",
       "      <td>Victims of Other Rape</td>\n",
       "      <td>2307.000000</td>\n",
       "      <td>0</td>\n",
       "      <td>21</td>\n",
       "      <td>51</td>\n",
       "      <td>1777</td>\n",
       "      <td>458</td>\n",
       "      <td>2307</td>\n",
       "      <td>0</td>\n",
       "    </tr>\n",
       "  </tbody>\n",
       "</table>\n",
       "<p>1050 rows × 11 columns</p>\n",
       "</div>"
      ],
      "text/plain": [
       "                      Area_Name  Year                Subgroup  \\\n",
       "0     Andaman & Nicobar Islands  2001      Total Rape Victims   \n",
       "1     Andaman & Nicobar Islands  2001  Victims of Incest Rape   \n",
       "2     Andaman & Nicobar Islands  2001   Victims of Other Rape   \n",
       "3     Andaman & Nicobar Islands  2002      Total Rape Victims   \n",
       "4     Andaman & Nicobar Islands  2002  Victims of Incest Rape   \n",
       "...                         ...   ...                     ...   \n",
       "1045                West Bengal  2009  Victims of Incest Rape   \n",
       "1046                West Bengal  2009   Victims of Other Rape   \n",
       "1047                West Bengal  2010      Total Rape Victims   \n",
       "1048                West Bengal  2010  Victims of Incest Rape   \n",
       "1049                West Bengal  2010   Victims of Other Rape   \n",
       "\n",
       "      Rape_Cases_Reported  Victims_Above_50_Yrs  Victims_Between_10-14_Yrs  \\\n",
       "0                3.000000                     0                          0   \n",
       "1                1.000000                     0                          0   \n",
       "2                2.000000                     0                          0   \n",
       "3                2.000000                     0                          0   \n",
       "4              413.510337                     0                          0   \n",
       "...                   ...                   ...                        ...   \n",
       "1045             3.000000                     0                          0   \n",
       "1046          2333.000000                     0                         18   \n",
       "1047          2311.000000                     0                         22   \n",
       "1048             4.000000                     0                          1   \n",
       "1049          2307.000000                     0                         21   \n",
       "\n",
       "      Victims_Between_14-18_Yrs  Victims_Between_18-30_Yrs  \\\n",
       "0                             3                          0   \n",
       "1                             1                          0   \n",
       "2                             2                          0   \n",
       "3                             1                          1   \n",
       "4                             0                          0   \n",
       "...                         ...                        ...   \n",
       "1045                          1                          1   \n",
       "1046                         84                       1834   \n",
       "1047                         51                       1779   \n",
       "1048                          0                          2   \n",
       "1049                         51                       1777   \n",
       "\n",
       "      Victims_Between_30-50_Yrs  Victims_of_Rape_Total  Victims_Upto_10_Yrs  \n",
       "0                             0                      3                    0  \n",
       "1                             0                      1                    0  \n",
       "2                             0                      2                    0  \n",
       "3                             0                      2                    0  \n",
       "4                             0                      0                    0  \n",
       "...                         ...                    ...                  ...  \n",
       "1045                          1                      3                    0  \n",
       "1046                        391                   2333                    6  \n",
       "1047                        459                   2311                    0  \n",
       "1048                          1                      4                    0  \n",
       "1049                        458                   2307                    0  \n",
       "\n",
       "[1050 rows x 11 columns]"
      ]
     },
     "execution_count": 8,
     "metadata": {},
     "output_type": "execute_result"
    }
   ],
   "source": [
    "df"
   ]
  },
  {
   "cell_type": "code",
   "execution_count": 9,
   "metadata": {},
   "outputs": [],
   "source": [
    "df['Victims_Above_50_Yrs']=df['Victims_Above_50_Yrs'].replace(0,np.NaN)\n",
    "df['Victims_Above_50_Yrs']=df['Victims_Above_50_Yrs'].fillna((df['Victims_Above_50_Yrs'].mean()))"
   ]
  },
  {
   "cell_type": "code",
   "execution_count": 10,
   "metadata": {},
   "outputs": [
    {
     "data": {
      "text/html": [
       "<div>\n",
       "<style scoped>\n",
       "    .dataframe tbody tr th:only-of-type {\n",
       "        vertical-align: middle;\n",
       "    }\n",
       "\n",
       "    .dataframe tbody tr th {\n",
       "        vertical-align: top;\n",
       "    }\n",
       "\n",
       "    .dataframe thead th {\n",
       "        text-align: right;\n",
       "    }\n",
       "</style>\n",
       "<table border=\"1\" class=\"dataframe\">\n",
       "  <thead>\n",
       "    <tr style=\"text-align: right;\">\n",
       "      <th></th>\n",
       "      <th>Area_Name</th>\n",
       "      <th>Year</th>\n",
       "      <th>Subgroup</th>\n",
       "      <th>Rape_Cases_Reported</th>\n",
       "      <th>Victims_Above_50_Yrs</th>\n",
       "      <th>Victims_Between_10-14_Yrs</th>\n",
       "      <th>Victims_Between_14-18_Yrs</th>\n",
       "      <th>Victims_Between_18-30_Yrs</th>\n",
       "      <th>Victims_Between_30-50_Yrs</th>\n",
       "      <th>Victims_of_Rape_Total</th>\n",
       "      <th>Victims_Upto_10_Yrs</th>\n",
       "    </tr>\n",
       "  </thead>\n",
       "  <tbody>\n",
       "    <tr>\n",
       "      <th>0</th>\n",
       "      <td>Andaman &amp; Nicobar Islands</td>\n",
       "      <td>2001</td>\n",
       "      <td>Total Rape Victims</td>\n",
       "      <td>3.000000</td>\n",
       "      <td>5.97561</td>\n",
       "      <td>0</td>\n",
       "      <td>3</td>\n",
       "      <td>0</td>\n",
       "      <td>0</td>\n",
       "      <td>3</td>\n",
       "      <td>0</td>\n",
       "    </tr>\n",
       "    <tr>\n",
       "      <th>1</th>\n",
       "      <td>Andaman &amp; Nicobar Islands</td>\n",
       "      <td>2001</td>\n",
       "      <td>Victims of Incest Rape</td>\n",
       "      <td>1.000000</td>\n",
       "      <td>5.97561</td>\n",
       "      <td>0</td>\n",
       "      <td>1</td>\n",
       "      <td>0</td>\n",
       "      <td>0</td>\n",
       "      <td>1</td>\n",
       "      <td>0</td>\n",
       "    </tr>\n",
       "    <tr>\n",
       "      <th>2</th>\n",
       "      <td>Andaman &amp; Nicobar Islands</td>\n",
       "      <td>2001</td>\n",
       "      <td>Victims of Other Rape</td>\n",
       "      <td>2.000000</td>\n",
       "      <td>5.97561</td>\n",
       "      <td>0</td>\n",
       "      <td>2</td>\n",
       "      <td>0</td>\n",
       "      <td>0</td>\n",
       "      <td>2</td>\n",
       "      <td>0</td>\n",
       "    </tr>\n",
       "    <tr>\n",
       "      <th>3</th>\n",
       "      <td>Andaman &amp; Nicobar Islands</td>\n",
       "      <td>2002</td>\n",
       "      <td>Total Rape Victims</td>\n",
       "      <td>2.000000</td>\n",
       "      <td>5.97561</td>\n",
       "      <td>0</td>\n",
       "      <td>1</td>\n",
       "      <td>1</td>\n",
       "      <td>0</td>\n",
       "      <td>2</td>\n",
       "      <td>0</td>\n",
       "    </tr>\n",
       "    <tr>\n",
       "      <th>4</th>\n",
       "      <td>Andaman &amp; Nicobar Islands</td>\n",
       "      <td>2002</td>\n",
       "      <td>Victims of Incest Rape</td>\n",
       "      <td>413.510337</td>\n",
       "      <td>5.97561</td>\n",
       "      <td>0</td>\n",
       "      <td>0</td>\n",
       "      <td>0</td>\n",
       "      <td>0</td>\n",
       "      <td>0</td>\n",
       "      <td>0</td>\n",
       "    </tr>\n",
       "    <tr>\n",
       "      <th>...</th>\n",
       "      <td>...</td>\n",
       "      <td>...</td>\n",
       "      <td>...</td>\n",
       "      <td>...</td>\n",
       "      <td>...</td>\n",
       "      <td>...</td>\n",
       "      <td>...</td>\n",
       "      <td>...</td>\n",
       "      <td>...</td>\n",
       "      <td>...</td>\n",
       "      <td>...</td>\n",
       "    </tr>\n",
       "    <tr>\n",
       "      <th>1045</th>\n",
       "      <td>West Bengal</td>\n",
       "      <td>2009</td>\n",
       "      <td>Victims of Incest Rape</td>\n",
       "      <td>3.000000</td>\n",
       "      <td>5.97561</td>\n",
       "      <td>0</td>\n",
       "      <td>1</td>\n",
       "      <td>1</td>\n",
       "      <td>1</td>\n",
       "      <td>3</td>\n",
       "      <td>0</td>\n",
       "    </tr>\n",
       "    <tr>\n",
       "      <th>1046</th>\n",
       "      <td>West Bengal</td>\n",
       "      <td>2009</td>\n",
       "      <td>Victims of Other Rape</td>\n",
       "      <td>2333.000000</td>\n",
       "      <td>5.97561</td>\n",
       "      <td>18</td>\n",
       "      <td>84</td>\n",
       "      <td>1834</td>\n",
       "      <td>391</td>\n",
       "      <td>2333</td>\n",
       "      <td>6</td>\n",
       "    </tr>\n",
       "    <tr>\n",
       "      <th>1047</th>\n",
       "      <td>West Bengal</td>\n",
       "      <td>2010</td>\n",
       "      <td>Total Rape Victims</td>\n",
       "      <td>2311.000000</td>\n",
       "      <td>5.97561</td>\n",
       "      <td>22</td>\n",
       "      <td>51</td>\n",
       "      <td>1779</td>\n",
       "      <td>459</td>\n",
       "      <td>2311</td>\n",
       "      <td>0</td>\n",
       "    </tr>\n",
       "    <tr>\n",
       "      <th>1048</th>\n",
       "      <td>West Bengal</td>\n",
       "      <td>2010</td>\n",
       "      <td>Victims of Incest Rape</td>\n",
       "      <td>4.000000</td>\n",
       "      <td>5.97561</td>\n",
       "      <td>1</td>\n",
       "      <td>0</td>\n",
       "      <td>2</td>\n",
       "      <td>1</td>\n",
       "      <td>4</td>\n",
       "      <td>0</td>\n",
       "    </tr>\n",
       "    <tr>\n",
       "      <th>1049</th>\n",
       "      <td>West Bengal</td>\n",
       "      <td>2010</td>\n",
       "      <td>Victims of Other Rape</td>\n",
       "      <td>2307.000000</td>\n",
       "      <td>5.97561</td>\n",
       "      <td>21</td>\n",
       "      <td>51</td>\n",
       "      <td>1777</td>\n",
       "      <td>458</td>\n",
       "      <td>2307</td>\n",
       "      <td>0</td>\n",
       "    </tr>\n",
       "  </tbody>\n",
       "</table>\n",
       "<p>1050 rows × 11 columns</p>\n",
       "</div>"
      ],
      "text/plain": [
       "                      Area_Name  Year                Subgroup  \\\n",
       "0     Andaman & Nicobar Islands  2001      Total Rape Victims   \n",
       "1     Andaman & Nicobar Islands  2001  Victims of Incest Rape   \n",
       "2     Andaman & Nicobar Islands  2001   Victims of Other Rape   \n",
       "3     Andaman & Nicobar Islands  2002      Total Rape Victims   \n",
       "4     Andaman & Nicobar Islands  2002  Victims of Incest Rape   \n",
       "...                         ...   ...                     ...   \n",
       "1045                West Bengal  2009  Victims of Incest Rape   \n",
       "1046                West Bengal  2009   Victims of Other Rape   \n",
       "1047                West Bengal  2010      Total Rape Victims   \n",
       "1048                West Bengal  2010  Victims of Incest Rape   \n",
       "1049                West Bengal  2010   Victims of Other Rape   \n",
       "\n",
       "      Rape_Cases_Reported  Victims_Above_50_Yrs  Victims_Between_10-14_Yrs  \\\n",
       "0                3.000000               5.97561                          0   \n",
       "1                1.000000               5.97561                          0   \n",
       "2                2.000000               5.97561                          0   \n",
       "3                2.000000               5.97561                          0   \n",
       "4              413.510337               5.97561                          0   \n",
       "...                   ...                   ...                        ...   \n",
       "1045             3.000000               5.97561                          0   \n",
       "1046          2333.000000               5.97561                         18   \n",
       "1047          2311.000000               5.97561                         22   \n",
       "1048             4.000000               5.97561                          1   \n",
       "1049          2307.000000               5.97561                         21   \n",
       "\n",
       "      Victims_Between_14-18_Yrs  Victims_Between_18-30_Yrs  \\\n",
       "0                             3                          0   \n",
       "1                             1                          0   \n",
       "2                             2                          0   \n",
       "3                             1                          1   \n",
       "4                             0                          0   \n",
       "...                         ...                        ...   \n",
       "1045                          1                          1   \n",
       "1046                         84                       1834   \n",
       "1047                         51                       1779   \n",
       "1048                          0                          2   \n",
       "1049                         51                       1777   \n",
       "\n",
       "      Victims_Between_30-50_Yrs  Victims_of_Rape_Total  Victims_Upto_10_Yrs  \n",
       "0                             0                      3                    0  \n",
       "1                             0                      1                    0  \n",
       "2                             0                      2                    0  \n",
       "3                             0                      2                    0  \n",
       "4                             0                      0                    0  \n",
       "...                         ...                    ...                  ...  \n",
       "1045                          1                      3                    0  \n",
       "1046                        391                   2333                    6  \n",
       "1047                        459                   2311                    0  \n",
       "1048                          1                      4                    0  \n",
       "1049                        458                   2307                    0  \n",
       "\n",
       "[1050 rows x 11 columns]"
      ]
     },
     "execution_count": 10,
     "metadata": {},
     "output_type": "execute_result"
    }
   ],
   "source": [
    "df"
   ]
  },
  {
   "cell_type": "code",
   "execution_count": 11,
   "metadata": {},
   "outputs": [],
   "source": [
    "df['Victims_Between_10-14_Yrs']=df['Victims_Between_10-14_Yrs'].replace(0,np.NaN)\n",
    "df['Victims_Between_10-14_Yrs']=df['Victims_Between_10-14_Yrs'].fillna((df['Victims_Between_10-14_Yrs'].mean()))"
   ]
  },
  {
   "cell_type": "code",
   "execution_count": 12,
   "metadata": {},
   "outputs": [
    {
     "data": {
      "text/html": [
       "<div>\n",
       "<style scoped>\n",
       "    .dataframe tbody tr th:only-of-type {\n",
       "        vertical-align: middle;\n",
       "    }\n",
       "\n",
       "    .dataframe tbody tr th {\n",
       "        vertical-align: top;\n",
       "    }\n",
       "\n",
       "    .dataframe thead th {\n",
       "        text-align: right;\n",
       "    }\n",
       "</style>\n",
       "<table border=\"1\" class=\"dataframe\">\n",
       "  <thead>\n",
       "    <tr style=\"text-align: right;\">\n",
       "      <th></th>\n",
       "      <th>Area_Name</th>\n",
       "      <th>Year</th>\n",
       "      <th>Subgroup</th>\n",
       "      <th>Rape_Cases_Reported</th>\n",
       "      <th>Victims_Above_50_Yrs</th>\n",
       "      <th>Victims_Between_10-14_Yrs</th>\n",
       "      <th>Victims_Between_14-18_Yrs</th>\n",
       "      <th>Victims_Between_18-30_Yrs</th>\n",
       "      <th>Victims_Between_30-50_Yrs</th>\n",
       "      <th>Victims_of_Rape_Total</th>\n",
       "      <th>Victims_Upto_10_Yrs</th>\n",
       "    </tr>\n",
       "  </thead>\n",
       "  <tbody>\n",
       "    <tr>\n",
       "      <th>0</th>\n",
       "      <td>Andaman &amp; Nicobar Islands</td>\n",
       "      <td>2001</td>\n",
       "      <td>Total Rape Victims</td>\n",
       "      <td>3.000000</td>\n",
       "      <td>5.97561</td>\n",
       "      <td>35.947902</td>\n",
       "      <td>3</td>\n",
       "      <td>0</td>\n",
       "      <td>0</td>\n",
       "      <td>3</td>\n",
       "      <td>0</td>\n",
       "    </tr>\n",
       "    <tr>\n",
       "      <th>1</th>\n",
       "      <td>Andaman &amp; Nicobar Islands</td>\n",
       "      <td>2001</td>\n",
       "      <td>Victims of Incest Rape</td>\n",
       "      <td>1.000000</td>\n",
       "      <td>5.97561</td>\n",
       "      <td>35.947902</td>\n",
       "      <td>1</td>\n",
       "      <td>0</td>\n",
       "      <td>0</td>\n",
       "      <td>1</td>\n",
       "      <td>0</td>\n",
       "    </tr>\n",
       "    <tr>\n",
       "      <th>2</th>\n",
       "      <td>Andaman &amp; Nicobar Islands</td>\n",
       "      <td>2001</td>\n",
       "      <td>Victims of Other Rape</td>\n",
       "      <td>2.000000</td>\n",
       "      <td>5.97561</td>\n",
       "      <td>35.947902</td>\n",
       "      <td>2</td>\n",
       "      <td>0</td>\n",
       "      <td>0</td>\n",
       "      <td>2</td>\n",
       "      <td>0</td>\n",
       "    </tr>\n",
       "    <tr>\n",
       "      <th>3</th>\n",
       "      <td>Andaman &amp; Nicobar Islands</td>\n",
       "      <td>2002</td>\n",
       "      <td>Total Rape Victims</td>\n",
       "      <td>2.000000</td>\n",
       "      <td>5.97561</td>\n",
       "      <td>35.947902</td>\n",
       "      <td>1</td>\n",
       "      <td>1</td>\n",
       "      <td>0</td>\n",
       "      <td>2</td>\n",
       "      <td>0</td>\n",
       "    </tr>\n",
       "    <tr>\n",
       "      <th>4</th>\n",
       "      <td>Andaman &amp; Nicobar Islands</td>\n",
       "      <td>2002</td>\n",
       "      <td>Victims of Incest Rape</td>\n",
       "      <td>413.510337</td>\n",
       "      <td>5.97561</td>\n",
       "      <td>35.947902</td>\n",
       "      <td>0</td>\n",
       "      <td>0</td>\n",
       "      <td>0</td>\n",
       "      <td>0</td>\n",
       "      <td>0</td>\n",
       "    </tr>\n",
       "    <tr>\n",
       "      <th>...</th>\n",
       "      <td>...</td>\n",
       "      <td>...</td>\n",
       "      <td>...</td>\n",
       "      <td>...</td>\n",
       "      <td>...</td>\n",
       "      <td>...</td>\n",
       "      <td>...</td>\n",
       "      <td>...</td>\n",
       "      <td>...</td>\n",
       "      <td>...</td>\n",
       "      <td>...</td>\n",
       "    </tr>\n",
       "    <tr>\n",
       "      <th>1045</th>\n",
       "      <td>West Bengal</td>\n",
       "      <td>2009</td>\n",
       "      <td>Victims of Incest Rape</td>\n",
       "      <td>3.000000</td>\n",
       "      <td>5.97561</td>\n",
       "      <td>35.947902</td>\n",
       "      <td>1</td>\n",
       "      <td>1</td>\n",
       "      <td>1</td>\n",
       "      <td>3</td>\n",
       "      <td>0</td>\n",
       "    </tr>\n",
       "    <tr>\n",
       "      <th>1046</th>\n",
       "      <td>West Bengal</td>\n",
       "      <td>2009</td>\n",
       "      <td>Victims of Other Rape</td>\n",
       "      <td>2333.000000</td>\n",
       "      <td>5.97561</td>\n",
       "      <td>18.000000</td>\n",
       "      <td>84</td>\n",
       "      <td>1834</td>\n",
       "      <td>391</td>\n",
       "      <td>2333</td>\n",
       "      <td>6</td>\n",
       "    </tr>\n",
       "    <tr>\n",
       "      <th>1047</th>\n",
       "      <td>West Bengal</td>\n",
       "      <td>2010</td>\n",
       "      <td>Total Rape Victims</td>\n",
       "      <td>2311.000000</td>\n",
       "      <td>5.97561</td>\n",
       "      <td>22.000000</td>\n",
       "      <td>51</td>\n",
       "      <td>1779</td>\n",
       "      <td>459</td>\n",
       "      <td>2311</td>\n",
       "      <td>0</td>\n",
       "    </tr>\n",
       "    <tr>\n",
       "      <th>1048</th>\n",
       "      <td>West Bengal</td>\n",
       "      <td>2010</td>\n",
       "      <td>Victims of Incest Rape</td>\n",
       "      <td>4.000000</td>\n",
       "      <td>5.97561</td>\n",
       "      <td>1.000000</td>\n",
       "      <td>0</td>\n",
       "      <td>2</td>\n",
       "      <td>1</td>\n",
       "      <td>4</td>\n",
       "      <td>0</td>\n",
       "    </tr>\n",
       "    <tr>\n",
       "      <th>1049</th>\n",
       "      <td>West Bengal</td>\n",
       "      <td>2010</td>\n",
       "      <td>Victims of Other Rape</td>\n",
       "      <td>2307.000000</td>\n",
       "      <td>5.97561</td>\n",
       "      <td>21.000000</td>\n",
       "      <td>51</td>\n",
       "      <td>1777</td>\n",
       "      <td>458</td>\n",
       "      <td>2307</td>\n",
       "      <td>0</td>\n",
       "    </tr>\n",
       "  </tbody>\n",
       "</table>\n",
       "<p>1050 rows × 11 columns</p>\n",
       "</div>"
      ],
      "text/plain": [
       "                      Area_Name  Year                Subgroup  \\\n",
       "0     Andaman & Nicobar Islands  2001      Total Rape Victims   \n",
       "1     Andaman & Nicobar Islands  2001  Victims of Incest Rape   \n",
       "2     Andaman & Nicobar Islands  2001   Victims of Other Rape   \n",
       "3     Andaman & Nicobar Islands  2002      Total Rape Victims   \n",
       "4     Andaman & Nicobar Islands  2002  Victims of Incest Rape   \n",
       "...                         ...   ...                     ...   \n",
       "1045                West Bengal  2009  Victims of Incest Rape   \n",
       "1046                West Bengal  2009   Victims of Other Rape   \n",
       "1047                West Bengal  2010      Total Rape Victims   \n",
       "1048                West Bengal  2010  Victims of Incest Rape   \n",
       "1049                West Bengal  2010   Victims of Other Rape   \n",
       "\n",
       "      Rape_Cases_Reported  Victims_Above_50_Yrs  Victims_Between_10-14_Yrs  \\\n",
       "0                3.000000               5.97561                  35.947902   \n",
       "1                1.000000               5.97561                  35.947902   \n",
       "2                2.000000               5.97561                  35.947902   \n",
       "3                2.000000               5.97561                  35.947902   \n",
       "4              413.510337               5.97561                  35.947902   \n",
       "...                   ...                   ...                        ...   \n",
       "1045             3.000000               5.97561                  35.947902   \n",
       "1046          2333.000000               5.97561                  18.000000   \n",
       "1047          2311.000000               5.97561                  22.000000   \n",
       "1048             4.000000               5.97561                   1.000000   \n",
       "1049          2307.000000               5.97561                  21.000000   \n",
       "\n",
       "      Victims_Between_14-18_Yrs  Victims_Between_18-30_Yrs  \\\n",
       "0                             3                          0   \n",
       "1                             1                          0   \n",
       "2                             2                          0   \n",
       "3                             1                          1   \n",
       "4                             0                          0   \n",
       "...                         ...                        ...   \n",
       "1045                          1                          1   \n",
       "1046                         84                       1834   \n",
       "1047                         51                       1779   \n",
       "1048                          0                          2   \n",
       "1049                         51                       1777   \n",
       "\n",
       "      Victims_Between_30-50_Yrs  Victims_of_Rape_Total  Victims_Upto_10_Yrs  \n",
       "0                             0                      3                    0  \n",
       "1                             0                      1                    0  \n",
       "2                             0                      2                    0  \n",
       "3                             0                      2                    0  \n",
       "4                             0                      0                    0  \n",
       "...                         ...                    ...                  ...  \n",
       "1045                          1                      3                    0  \n",
       "1046                        391                   2333                    6  \n",
       "1047                        459                   2311                    0  \n",
       "1048                          1                      4                    0  \n",
       "1049                        458                   2307                    0  \n",
       "\n",
       "[1050 rows x 11 columns]"
      ]
     },
     "execution_count": 12,
     "metadata": {},
     "output_type": "execute_result"
    }
   ],
   "source": [
    "df"
   ]
  },
  {
   "cell_type": "code",
   "execution_count": 13,
   "metadata": {},
   "outputs": [],
   "source": [
    "df['Victims_Between_14-18_Yrs']=df['Victims_Between_14-18_Yrs'].replace(0,np.NaN)\n",
    "df['Victims_Between_14-18_Yrs']=df['Victims_Between_14-18_Yrs'].fillna((df['Victims_Between_14-18_Yrs'].mean()))\n"
   ]
  },
  {
   "cell_type": "code",
   "execution_count": 14,
   "metadata": {},
   "outputs": [
    {
     "data": {
      "text/html": [
       "<div>\n",
       "<style scoped>\n",
       "    .dataframe tbody tr th:only-of-type {\n",
       "        vertical-align: middle;\n",
       "    }\n",
       "\n",
       "    .dataframe tbody tr th {\n",
       "        vertical-align: top;\n",
       "    }\n",
       "\n",
       "    .dataframe thead th {\n",
       "        text-align: right;\n",
       "    }\n",
       "</style>\n",
       "<table border=\"1\" class=\"dataframe\">\n",
       "  <thead>\n",
       "    <tr style=\"text-align: right;\">\n",
       "      <th></th>\n",
       "      <th>Area_Name</th>\n",
       "      <th>Year</th>\n",
       "      <th>Subgroup</th>\n",
       "      <th>Rape_Cases_Reported</th>\n",
       "      <th>Victims_Above_50_Yrs</th>\n",
       "      <th>Victims_Between_10-14_Yrs</th>\n",
       "      <th>Victims_Between_14-18_Yrs</th>\n",
       "      <th>Victims_Between_18-30_Yrs</th>\n",
       "      <th>Victims_Between_30-50_Yrs</th>\n",
       "      <th>Victims_of_Rape_Total</th>\n",
       "      <th>Victims_Upto_10_Yrs</th>\n",
       "    </tr>\n",
       "  </thead>\n",
       "  <tbody>\n",
       "    <tr>\n",
       "      <th>0</th>\n",
       "      <td>Andaman &amp; Nicobar Islands</td>\n",
       "      <td>2001</td>\n",
       "      <td>Total Rape Victims</td>\n",
       "      <td>3.000000</td>\n",
       "      <td>5.97561</td>\n",
       "      <td>35.947902</td>\n",
       "      <td>3.000000</td>\n",
       "      <td>0</td>\n",
       "      <td>0</td>\n",
       "      <td>3</td>\n",
       "      <td>0</td>\n",
       "    </tr>\n",
       "    <tr>\n",
       "      <th>1</th>\n",
       "      <td>Andaman &amp; Nicobar Islands</td>\n",
       "      <td>2001</td>\n",
       "      <td>Victims of Incest Rape</td>\n",
       "      <td>1.000000</td>\n",
       "      <td>5.97561</td>\n",
       "      <td>35.947902</td>\n",
       "      <td>1.000000</td>\n",
       "      <td>0</td>\n",
       "      <td>0</td>\n",
       "      <td>1</td>\n",
       "      <td>0</td>\n",
       "    </tr>\n",
       "    <tr>\n",
       "      <th>2</th>\n",
       "      <td>Andaman &amp; Nicobar Islands</td>\n",
       "      <td>2001</td>\n",
       "      <td>Victims of Other Rape</td>\n",
       "      <td>2.000000</td>\n",
       "      <td>5.97561</td>\n",
       "      <td>35.947902</td>\n",
       "      <td>2.000000</td>\n",
       "      <td>0</td>\n",
       "      <td>0</td>\n",
       "      <td>2</td>\n",
       "      <td>0</td>\n",
       "    </tr>\n",
       "    <tr>\n",
       "      <th>3</th>\n",
       "      <td>Andaman &amp; Nicobar Islands</td>\n",
       "      <td>2002</td>\n",
       "      <td>Total Rape Victims</td>\n",
       "      <td>2.000000</td>\n",
       "      <td>5.97561</td>\n",
       "      <td>35.947902</td>\n",
       "      <td>1.000000</td>\n",
       "      <td>1</td>\n",
       "      <td>0</td>\n",
       "      <td>2</td>\n",
       "      <td>0</td>\n",
       "    </tr>\n",
       "    <tr>\n",
       "      <th>4</th>\n",
       "      <td>Andaman &amp; Nicobar Islands</td>\n",
       "      <td>2002</td>\n",
       "      <td>Victims of Incest Rape</td>\n",
       "      <td>413.510337</td>\n",
       "      <td>5.97561</td>\n",
       "      <td>35.947902</td>\n",
       "      <td>73.925729</td>\n",
       "      <td>0</td>\n",
       "      <td>0</td>\n",
       "      <td>0</td>\n",
       "      <td>0</td>\n",
       "    </tr>\n",
       "    <tr>\n",
       "      <th>...</th>\n",
       "      <td>...</td>\n",
       "      <td>...</td>\n",
       "      <td>...</td>\n",
       "      <td>...</td>\n",
       "      <td>...</td>\n",
       "      <td>...</td>\n",
       "      <td>...</td>\n",
       "      <td>...</td>\n",
       "      <td>...</td>\n",
       "      <td>...</td>\n",
       "      <td>...</td>\n",
       "    </tr>\n",
       "    <tr>\n",
       "      <th>1045</th>\n",
       "      <td>West Bengal</td>\n",
       "      <td>2009</td>\n",
       "      <td>Victims of Incest Rape</td>\n",
       "      <td>3.000000</td>\n",
       "      <td>5.97561</td>\n",
       "      <td>35.947902</td>\n",
       "      <td>1.000000</td>\n",
       "      <td>1</td>\n",
       "      <td>1</td>\n",
       "      <td>3</td>\n",
       "      <td>0</td>\n",
       "    </tr>\n",
       "    <tr>\n",
       "      <th>1046</th>\n",
       "      <td>West Bengal</td>\n",
       "      <td>2009</td>\n",
       "      <td>Victims of Other Rape</td>\n",
       "      <td>2333.000000</td>\n",
       "      <td>5.97561</td>\n",
       "      <td>18.000000</td>\n",
       "      <td>84.000000</td>\n",
       "      <td>1834</td>\n",
       "      <td>391</td>\n",
       "      <td>2333</td>\n",
       "      <td>6</td>\n",
       "    </tr>\n",
       "    <tr>\n",
       "      <th>1047</th>\n",
       "      <td>West Bengal</td>\n",
       "      <td>2010</td>\n",
       "      <td>Total Rape Victims</td>\n",
       "      <td>2311.000000</td>\n",
       "      <td>5.97561</td>\n",
       "      <td>22.000000</td>\n",
       "      <td>51.000000</td>\n",
       "      <td>1779</td>\n",
       "      <td>459</td>\n",
       "      <td>2311</td>\n",
       "      <td>0</td>\n",
       "    </tr>\n",
       "    <tr>\n",
       "      <th>1048</th>\n",
       "      <td>West Bengal</td>\n",
       "      <td>2010</td>\n",
       "      <td>Victims of Incest Rape</td>\n",
       "      <td>4.000000</td>\n",
       "      <td>5.97561</td>\n",
       "      <td>1.000000</td>\n",
       "      <td>73.925729</td>\n",
       "      <td>2</td>\n",
       "      <td>1</td>\n",
       "      <td>4</td>\n",
       "      <td>0</td>\n",
       "    </tr>\n",
       "    <tr>\n",
       "      <th>1049</th>\n",
       "      <td>West Bengal</td>\n",
       "      <td>2010</td>\n",
       "      <td>Victims of Other Rape</td>\n",
       "      <td>2307.000000</td>\n",
       "      <td>5.97561</td>\n",
       "      <td>21.000000</td>\n",
       "      <td>51.000000</td>\n",
       "      <td>1777</td>\n",
       "      <td>458</td>\n",
       "      <td>2307</td>\n",
       "      <td>0</td>\n",
       "    </tr>\n",
       "  </tbody>\n",
       "</table>\n",
       "<p>1050 rows × 11 columns</p>\n",
       "</div>"
      ],
      "text/plain": [
       "                      Area_Name  Year                Subgroup  \\\n",
       "0     Andaman & Nicobar Islands  2001      Total Rape Victims   \n",
       "1     Andaman & Nicobar Islands  2001  Victims of Incest Rape   \n",
       "2     Andaman & Nicobar Islands  2001   Victims of Other Rape   \n",
       "3     Andaman & Nicobar Islands  2002      Total Rape Victims   \n",
       "4     Andaman & Nicobar Islands  2002  Victims of Incest Rape   \n",
       "...                         ...   ...                     ...   \n",
       "1045                West Bengal  2009  Victims of Incest Rape   \n",
       "1046                West Bengal  2009   Victims of Other Rape   \n",
       "1047                West Bengal  2010      Total Rape Victims   \n",
       "1048                West Bengal  2010  Victims of Incest Rape   \n",
       "1049                West Bengal  2010   Victims of Other Rape   \n",
       "\n",
       "      Rape_Cases_Reported  Victims_Above_50_Yrs  Victims_Between_10-14_Yrs  \\\n",
       "0                3.000000               5.97561                  35.947902   \n",
       "1                1.000000               5.97561                  35.947902   \n",
       "2                2.000000               5.97561                  35.947902   \n",
       "3                2.000000               5.97561                  35.947902   \n",
       "4              413.510337               5.97561                  35.947902   \n",
       "...                   ...                   ...                        ...   \n",
       "1045             3.000000               5.97561                  35.947902   \n",
       "1046          2333.000000               5.97561                  18.000000   \n",
       "1047          2311.000000               5.97561                  22.000000   \n",
       "1048             4.000000               5.97561                   1.000000   \n",
       "1049          2307.000000               5.97561                  21.000000   \n",
       "\n",
       "      Victims_Between_14-18_Yrs  Victims_Between_18-30_Yrs  \\\n",
       "0                      3.000000                          0   \n",
       "1                      1.000000                          0   \n",
       "2                      2.000000                          0   \n",
       "3                      1.000000                          1   \n",
       "4                     73.925729                          0   \n",
       "...                         ...                        ...   \n",
       "1045                   1.000000                          1   \n",
       "1046                  84.000000                       1834   \n",
       "1047                  51.000000                       1779   \n",
       "1048                  73.925729                          2   \n",
       "1049                  51.000000                       1777   \n",
       "\n",
       "      Victims_Between_30-50_Yrs  Victims_of_Rape_Total  Victims_Upto_10_Yrs  \n",
       "0                             0                      3                    0  \n",
       "1                             0                      1                    0  \n",
       "2                             0                      2                    0  \n",
       "3                             0                      2                    0  \n",
       "4                             0                      0                    0  \n",
       "...                         ...                    ...                  ...  \n",
       "1045                          1                      3                    0  \n",
       "1046                        391                   2333                    6  \n",
       "1047                        459                   2311                    0  \n",
       "1048                          1                      4                    0  \n",
       "1049                        458                   2307                    0  \n",
       "\n",
       "[1050 rows x 11 columns]"
      ]
     },
     "execution_count": 14,
     "metadata": {},
     "output_type": "execute_result"
    }
   ],
   "source": [
    "df"
   ]
  },
  {
   "cell_type": "code",
   "execution_count": 15,
   "metadata": {},
   "outputs": [],
   "source": [
    "df['Victims_Between_18-30_Yrs']=df['Victims_Between_18-30_Yrs'].replace(0,np.NaN)\n",
    "df['Victims_Between_18-30_Yrs']=df['Victims_Between_18-30_Yrs'].fillna((df['Victims_Between_18-30_Yrs'].mean()))"
   ]
  },
  {
   "cell_type": "code",
   "execution_count": 16,
   "metadata": {},
   "outputs": [
    {
     "data": {
      "text/html": [
       "<div>\n",
       "<style scoped>\n",
       "    .dataframe tbody tr th:only-of-type {\n",
       "        vertical-align: middle;\n",
       "    }\n",
       "\n",
       "    .dataframe tbody tr th {\n",
       "        vertical-align: top;\n",
       "    }\n",
       "\n",
       "    .dataframe thead th {\n",
       "        text-align: right;\n",
       "    }\n",
       "</style>\n",
       "<table border=\"1\" class=\"dataframe\">\n",
       "  <thead>\n",
       "    <tr style=\"text-align: right;\">\n",
       "      <th></th>\n",
       "      <th>Area_Name</th>\n",
       "      <th>Year</th>\n",
       "      <th>Subgroup</th>\n",
       "      <th>Rape_Cases_Reported</th>\n",
       "      <th>Victims_Above_50_Yrs</th>\n",
       "      <th>Victims_Between_10-14_Yrs</th>\n",
       "      <th>Victims_Between_14-18_Yrs</th>\n",
       "      <th>Victims_Between_18-30_Yrs</th>\n",
       "      <th>Victims_Between_30-50_Yrs</th>\n",
       "      <th>Victims_of_Rape_Total</th>\n",
       "      <th>Victims_Upto_10_Yrs</th>\n",
       "    </tr>\n",
       "  </thead>\n",
       "  <tbody>\n",
       "    <tr>\n",
       "      <th>0</th>\n",
       "      <td>Andaman &amp; Nicobar Islands</td>\n",
       "      <td>2001</td>\n",
       "      <td>Total Rape Victims</td>\n",
       "      <td>3.000000</td>\n",
       "      <td>5.97561</td>\n",
       "      <td>35.947902</td>\n",
       "      <td>3.000000</td>\n",
       "      <td>267.444976</td>\n",
       "      <td>0</td>\n",
       "      <td>3</td>\n",
       "      <td>0</td>\n",
       "    </tr>\n",
       "    <tr>\n",
       "      <th>1</th>\n",
       "      <td>Andaman &amp; Nicobar Islands</td>\n",
       "      <td>2001</td>\n",
       "      <td>Victims of Incest Rape</td>\n",
       "      <td>1.000000</td>\n",
       "      <td>5.97561</td>\n",
       "      <td>35.947902</td>\n",
       "      <td>1.000000</td>\n",
       "      <td>267.444976</td>\n",
       "      <td>0</td>\n",
       "      <td>1</td>\n",
       "      <td>0</td>\n",
       "    </tr>\n",
       "    <tr>\n",
       "      <th>2</th>\n",
       "      <td>Andaman &amp; Nicobar Islands</td>\n",
       "      <td>2001</td>\n",
       "      <td>Victims of Other Rape</td>\n",
       "      <td>2.000000</td>\n",
       "      <td>5.97561</td>\n",
       "      <td>35.947902</td>\n",
       "      <td>2.000000</td>\n",
       "      <td>267.444976</td>\n",
       "      <td>0</td>\n",
       "      <td>2</td>\n",
       "      <td>0</td>\n",
       "    </tr>\n",
       "    <tr>\n",
       "      <th>3</th>\n",
       "      <td>Andaman &amp; Nicobar Islands</td>\n",
       "      <td>2002</td>\n",
       "      <td>Total Rape Victims</td>\n",
       "      <td>2.000000</td>\n",
       "      <td>5.97561</td>\n",
       "      <td>35.947902</td>\n",
       "      <td>1.000000</td>\n",
       "      <td>1.000000</td>\n",
       "      <td>0</td>\n",
       "      <td>2</td>\n",
       "      <td>0</td>\n",
       "    </tr>\n",
       "    <tr>\n",
       "      <th>4</th>\n",
       "      <td>Andaman &amp; Nicobar Islands</td>\n",
       "      <td>2002</td>\n",
       "      <td>Victims of Incest Rape</td>\n",
       "      <td>413.510337</td>\n",
       "      <td>5.97561</td>\n",
       "      <td>35.947902</td>\n",
       "      <td>73.925729</td>\n",
       "      <td>267.444976</td>\n",
       "      <td>0</td>\n",
       "      <td>0</td>\n",
       "      <td>0</td>\n",
       "    </tr>\n",
       "    <tr>\n",
       "      <th>...</th>\n",
       "      <td>...</td>\n",
       "      <td>...</td>\n",
       "      <td>...</td>\n",
       "      <td>...</td>\n",
       "      <td>...</td>\n",
       "      <td>...</td>\n",
       "      <td>...</td>\n",
       "      <td>...</td>\n",
       "      <td>...</td>\n",
       "      <td>...</td>\n",
       "      <td>...</td>\n",
       "    </tr>\n",
       "    <tr>\n",
       "      <th>1045</th>\n",
       "      <td>West Bengal</td>\n",
       "      <td>2009</td>\n",
       "      <td>Victims of Incest Rape</td>\n",
       "      <td>3.000000</td>\n",
       "      <td>5.97561</td>\n",
       "      <td>35.947902</td>\n",
       "      <td>1.000000</td>\n",
       "      <td>1.000000</td>\n",
       "      <td>1</td>\n",
       "      <td>3</td>\n",
       "      <td>0</td>\n",
       "    </tr>\n",
       "    <tr>\n",
       "      <th>1046</th>\n",
       "      <td>West Bengal</td>\n",
       "      <td>2009</td>\n",
       "      <td>Victims of Other Rape</td>\n",
       "      <td>2333.000000</td>\n",
       "      <td>5.97561</td>\n",
       "      <td>18.000000</td>\n",
       "      <td>84.000000</td>\n",
       "      <td>1834.000000</td>\n",
       "      <td>391</td>\n",
       "      <td>2333</td>\n",
       "      <td>6</td>\n",
       "    </tr>\n",
       "    <tr>\n",
       "      <th>1047</th>\n",
       "      <td>West Bengal</td>\n",
       "      <td>2010</td>\n",
       "      <td>Total Rape Victims</td>\n",
       "      <td>2311.000000</td>\n",
       "      <td>5.97561</td>\n",
       "      <td>22.000000</td>\n",
       "      <td>51.000000</td>\n",
       "      <td>1779.000000</td>\n",
       "      <td>459</td>\n",
       "      <td>2311</td>\n",
       "      <td>0</td>\n",
       "    </tr>\n",
       "    <tr>\n",
       "      <th>1048</th>\n",
       "      <td>West Bengal</td>\n",
       "      <td>2010</td>\n",
       "      <td>Victims of Incest Rape</td>\n",
       "      <td>4.000000</td>\n",
       "      <td>5.97561</td>\n",
       "      <td>1.000000</td>\n",
       "      <td>73.925729</td>\n",
       "      <td>2.000000</td>\n",
       "      <td>1</td>\n",
       "      <td>4</td>\n",
       "      <td>0</td>\n",
       "    </tr>\n",
       "    <tr>\n",
       "      <th>1049</th>\n",
       "      <td>West Bengal</td>\n",
       "      <td>2010</td>\n",
       "      <td>Victims of Other Rape</td>\n",
       "      <td>2307.000000</td>\n",
       "      <td>5.97561</td>\n",
       "      <td>21.000000</td>\n",
       "      <td>51.000000</td>\n",
       "      <td>1777.000000</td>\n",
       "      <td>458</td>\n",
       "      <td>2307</td>\n",
       "      <td>0</td>\n",
       "    </tr>\n",
       "  </tbody>\n",
       "</table>\n",
       "<p>1050 rows × 11 columns</p>\n",
       "</div>"
      ],
      "text/plain": [
       "                      Area_Name  Year                Subgroup  \\\n",
       "0     Andaman & Nicobar Islands  2001      Total Rape Victims   \n",
       "1     Andaman & Nicobar Islands  2001  Victims of Incest Rape   \n",
       "2     Andaman & Nicobar Islands  2001   Victims of Other Rape   \n",
       "3     Andaman & Nicobar Islands  2002      Total Rape Victims   \n",
       "4     Andaman & Nicobar Islands  2002  Victims of Incest Rape   \n",
       "...                         ...   ...                     ...   \n",
       "1045                West Bengal  2009  Victims of Incest Rape   \n",
       "1046                West Bengal  2009   Victims of Other Rape   \n",
       "1047                West Bengal  2010      Total Rape Victims   \n",
       "1048                West Bengal  2010  Victims of Incest Rape   \n",
       "1049                West Bengal  2010   Victims of Other Rape   \n",
       "\n",
       "      Rape_Cases_Reported  Victims_Above_50_Yrs  Victims_Between_10-14_Yrs  \\\n",
       "0                3.000000               5.97561                  35.947902   \n",
       "1                1.000000               5.97561                  35.947902   \n",
       "2                2.000000               5.97561                  35.947902   \n",
       "3                2.000000               5.97561                  35.947902   \n",
       "4              413.510337               5.97561                  35.947902   \n",
       "...                   ...                   ...                        ...   \n",
       "1045             3.000000               5.97561                  35.947902   \n",
       "1046          2333.000000               5.97561                  18.000000   \n",
       "1047          2311.000000               5.97561                  22.000000   \n",
       "1048             4.000000               5.97561                   1.000000   \n",
       "1049          2307.000000               5.97561                  21.000000   \n",
       "\n",
       "      Victims_Between_14-18_Yrs  Victims_Between_18-30_Yrs  \\\n",
       "0                      3.000000                 267.444976   \n",
       "1                      1.000000                 267.444976   \n",
       "2                      2.000000                 267.444976   \n",
       "3                      1.000000                   1.000000   \n",
       "4                     73.925729                 267.444976   \n",
       "...                         ...                        ...   \n",
       "1045                   1.000000                   1.000000   \n",
       "1046                  84.000000                1834.000000   \n",
       "1047                  51.000000                1779.000000   \n",
       "1048                  73.925729                   2.000000   \n",
       "1049                  51.000000                1777.000000   \n",
       "\n",
       "      Victims_Between_30-50_Yrs  Victims_of_Rape_Total  Victims_Upto_10_Yrs  \n",
       "0                             0                      3                    0  \n",
       "1                             0                      1                    0  \n",
       "2                             0                      2                    0  \n",
       "3                             0                      2                    0  \n",
       "4                             0                      0                    0  \n",
       "...                         ...                    ...                  ...  \n",
       "1045                          1                      3                    0  \n",
       "1046                        391                   2333                    6  \n",
       "1047                        459                   2311                    0  \n",
       "1048                          1                      4                    0  \n",
       "1049                        458                   2307                    0  \n",
       "\n",
       "[1050 rows x 11 columns]"
      ]
     },
     "execution_count": 16,
     "metadata": {},
     "output_type": "execute_result"
    }
   ],
   "source": [
    "df"
   ]
  },
  {
   "cell_type": "code",
   "execution_count": 17,
   "metadata": {},
   "outputs": [],
   "source": [
    "df['Victims_Between_30-50_Yrs']=df['Victims_Between_30-50_Yrs'].replace(0,np.NaN)\n",
    "df['Victims_Between_30-50_Yrs']=df['Victims_Between_30-50_Yrs'].fillna((df['Victims_Between_30-50_Yrs'].mean()))"
   ]
  },
  {
   "cell_type": "code",
   "execution_count": 18,
   "metadata": {},
   "outputs": [
    {
     "data": {
      "text/html": [
       "<div>\n",
       "<style scoped>\n",
       "    .dataframe tbody tr th:only-of-type {\n",
       "        vertical-align: middle;\n",
       "    }\n",
       "\n",
       "    .dataframe tbody tr th {\n",
       "        vertical-align: top;\n",
       "    }\n",
       "\n",
       "    .dataframe thead th {\n",
       "        text-align: right;\n",
       "    }\n",
       "</style>\n",
       "<table border=\"1\" class=\"dataframe\">\n",
       "  <thead>\n",
       "    <tr style=\"text-align: right;\">\n",
       "      <th></th>\n",
       "      <th>Area_Name</th>\n",
       "      <th>Year</th>\n",
       "      <th>Subgroup</th>\n",
       "      <th>Rape_Cases_Reported</th>\n",
       "      <th>Victims_Above_50_Yrs</th>\n",
       "      <th>Victims_Between_10-14_Yrs</th>\n",
       "      <th>Victims_Between_14-18_Yrs</th>\n",
       "      <th>Victims_Between_18-30_Yrs</th>\n",
       "      <th>Victims_Between_30-50_Yrs</th>\n",
       "      <th>Victims_of_Rape_Total</th>\n",
       "      <th>Victims_Upto_10_Yrs</th>\n",
       "    </tr>\n",
       "  </thead>\n",
       "  <tbody>\n",
       "    <tr>\n",
       "      <th>0</th>\n",
       "      <td>Andaman &amp; Nicobar Islands</td>\n",
       "      <td>2001</td>\n",
       "      <td>Total Rape Victims</td>\n",
       "      <td>3.000000</td>\n",
       "      <td>5.97561</td>\n",
       "      <td>35.947902</td>\n",
       "      <td>3.000000</td>\n",
       "      <td>267.444976</td>\n",
       "      <td>92.332847</td>\n",
       "      <td>3</td>\n",
       "      <td>0</td>\n",
       "    </tr>\n",
       "    <tr>\n",
       "      <th>1</th>\n",
       "      <td>Andaman &amp; Nicobar Islands</td>\n",
       "      <td>2001</td>\n",
       "      <td>Victims of Incest Rape</td>\n",
       "      <td>1.000000</td>\n",
       "      <td>5.97561</td>\n",
       "      <td>35.947902</td>\n",
       "      <td>1.000000</td>\n",
       "      <td>267.444976</td>\n",
       "      <td>92.332847</td>\n",
       "      <td>1</td>\n",
       "      <td>0</td>\n",
       "    </tr>\n",
       "    <tr>\n",
       "      <th>2</th>\n",
       "      <td>Andaman &amp; Nicobar Islands</td>\n",
       "      <td>2001</td>\n",
       "      <td>Victims of Other Rape</td>\n",
       "      <td>2.000000</td>\n",
       "      <td>5.97561</td>\n",
       "      <td>35.947902</td>\n",
       "      <td>2.000000</td>\n",
       "      <td>267.444976</td>\n",
       "      <td>92.332847</td>\n",
       "      <td>2</td>\n",
       "      <td>0</td>\n",
       "    </tr>\n",
       "    <tr>\n",
       "      <th>3</th>\n",
       "      <td>Andaman &amp; Nicobar Islands</td>\n",
       "      <td>2002</td>\n",
       "      <td>Total Rape Victims</td>\n",
       "      <td>2.000000</td>\n",
       "      <td>5.97561</td>\n",
       "      <td>35.947902</td>\n",
       "      <td>1.000000</td>\n",
       "      <td>1.000000</td>\n",
       "      <td>92.332847</td>\n",
       "      <td>2</td>\n",
       "      <td>0</td>\n",
       "    </tr>\n",
       "    <tr>\n",
       "      <th>4</th>\n",
       "      <td>Andaman &amp; Nicobar Islands</td>\n",
       "      <td>2002</td>\n",
       "      <td>Victims of Incest Rape</td>\n",
       "      <td>413.510337</td>\n",
       "      <td>5.97561</td>\n",
       "      <td>35.947902</td>\n",
       "      <td>73.925729</td>\n",
       "      <td>267.444976</td>\n",
       "      <td>92.332847</td>\n",
       "      <td>0</td>\n",
       "      <td>0</td>\n",
       "    </tr>\n",
       "    <tr>\n",
       "      <th>...</th>\n",
       "      <td>...</td>\n",
       "      <td>...</td>\n",
       "      <td>...</td>\n",
       "      <td>...</td>\n",
       "      <td>...</td>\n",
       "      <td>...</td>\n",
       "      <td>...</td>\n",
       "      <td>...</td>\n",
       "      <td>...</td>\n",
       "      <td>...</td>\n",
       "      <td>...</td>\n",
       "    </tr>\n",
       "    <tr>\n",
       "      <th>1045</th>\n",
       "      <td>West Bengal</td>\n",
       "      <td>2009</td>\n",
       "      <td>Victims of Incest Rape</td>\n",
       "      <td>3.000000</td>\n",
       "      <td>5.97561</td>\n",
       "      <td>35.947902</td>\n",
       "      <td>1.000000</td>\n",
       "      <td>1.000000</td>\n",
       "      <td>1.000000</td>\n",
       "      <td>3</td>\n",
       "      <td>0</td>\n",
       "    </tr>\n",
       "    <tr>\n",
       "      <th>1046</th>\n",
       "      <td>West Bengal</td>\n",
       "      <td>2009</td>\n",
       "      <td>Victims of Other Rape</td>\n",
       "      <td>2333.000000</td>\n",
       "      <td>5.97561</td>\n",
       "      <td>18.000000</td>\n",
       "      <td>84.000000</td>\n",
       "      <td>1834.000000</td>\n",
       "      <td>391.000000</td>\n",
       "      <td>2333</td>\n",
       "      <td>6</td>\n",
       "    </tr>\n",
       "    <tr>\n",
       "      <th>1047</th>\n",
       "      <td>West Bengal</td>\n",
       "      <td>2010</td>\n",
       "      <td>Total Rape Victims</td>\n",
       "      <td>2311.000000</td>\n",
       "      <td>5.97561</td>\n",
       "      <td>22.000000</td>\n",
       "      <td>51.000000</td>\n",
       "      <td>1779.000000</td>\n",
       "      <td>459.000000</td>\n",
       "      <td>2311</td>\n",
       "      <td>0</td>\n",
       "    </tr>\n",
       "    <tr>\n",
       "      <th>1048</th>\n",
       "      <td>West Bengal</td>\n",
       "      <td>2010</td>\n",
       "      <td>Victims of Incest Rape</td>\n",
       "      <td>4.000000</td>\n",
       "      <td>5.97561</td>\n",
       "      <td>1.000000</td>\n",
       "      <td>73.925729</td>\n",
       "      <td>2.000000</td>\n",
       "      <td>1.000000</td>\n",
       "      <td>4</td>\n",
       "      <td>0</td>\n",
       "    </tr>\n",
       "    <tr>\n",
       "      <th>1049</th>\n",
       "      <td>West Bengal</td>\n",
       "      <td>2010</td>\n",
       "      <td>Victims of Other Rape</td>\n",
       "      <td>2307.000000</td>\n",
       "      <td>5.97561</td>\n",
       "      <td>21.000000</td>\n",
       "      <td>51.000000</td>\n",
       "      <td>1777.000000</td>\n",
       "      <td>458.000000</td>\n",
       "      <td>2307</td>\n",
       "      <td>0</td>\n",
       "    </tr>\n",
       "  </tbody>\n",
       "</table>\n",
       "<p>1050 rows × 11 columns</p>\n",
       "</div>"
      ],
      "text/plain": [
       "                      Area_Name  Year                Subgroup  \\\n",
       "0     Andaman & Nicobar Islands  2001      Total Rape Victims   \n",
       "1     Andaman & Nicobar Islands  2001  Victims of Incest Rape   \n",
       "2     Andaman & Nicobar Islands  2001   Victims of Other Rape   \n",
       "3     Andaman & Nicobar Islands  2002      Total Rape Victims   \n",
       "4     Andaman & Nicobar Islands  2002  Victims of Incest Rape   \n",
       "...                         ...   ...                     ...   \n",
       "1045                West Bengal  2009  Victims of Incest Rape   \n",
       "1046                West Bengal  2009   Victims of Other Rape   \n",
       "1047                West Bengal  2010      Total Rape Victims   \n",
       "1048                West Bengal  2010  Victims of Incest Rape   \n",
       "1049                West Bengal  2010   Victims of Other Rape   \n",
       "\n",
       "      Rape_Cases_Reported  Victims_Above_50_Yrs  Victims_Between_10-14_Yrs  \\\n",
       "0                3.000000               5.97561                  35.947902   \n",
       "1                1.000000               5.97561                  35.947902   \n",
       "2                2.000000               5.97561                  35.947902   \n",
       "3                2.000000               5.97561                  35.947902   \n",
       "4              413.510337               5.97561                  35.947902   \n",
       "...                   ...                   ...                        ...   \n",
       "1045             3.000000               5.97561                  35.947902   \n",
       "1046          2333.000000               5.97561                  18.000000   \n",
       "1047          2311.000000               5.97561                  22.000000   \n",
       "1048             4.000000               5.97561                   1.000000   \n",
       "1049          2307.000000               5.97561                  21.000000   \n",
       "\n",
       "      Victims_Between_14-18_Yrs  Victims_Between_18-30_Yrs  \\\n",
       "0                      3.000000                 267.444976   \n",
       "1                      1.000000                 267.444976   \n",
       "2                      2.000000                 267.444976   \n",
       "3                      1.000000                   1.000000   \n",
       "4                     73.925729                 267.444976   \n",
       "...                         ...                        ...   \n",
       "1045                   1.000000                   1.000000   \n",
       "1046                  84.000000                1834.000000   \n",
       "1047                  51.000000                1779.000000   \n",
       "1048                  73.925729                   2.000000   \n",
       "1049                  51.000000                1777.000000   \n",
       "\n",
       "      Victims_Between_30-50_Yrs  Victims_of_Rape_Total  Victims_Upto_10_Yrs  \n",
       "0                     92.332847                      3                    0  \n",
       "1                     92.332847                      1                    0  \n",
       "2                     92.332847                      2                    0  \n",
       "3                     92.332847                      2                    0  \n",
       "4                     92.332847                      0                    0  \n",
       "...                         ...                    ...                  ...  \n",
       "1045                   1.000000                      3                    0  \n",
       "1046                 391.000000                   2333                    6  \n",
       "1047                 459.000000                   2311                    0  \n",
       "1048                   1.000000                      4                    0  \n",
       "1049                 458.000000                   2307                    0  \n",
       "\n",
       "[1050 rows x 11 columns]"
      ]
     },
     "execution_count": 18,
     "metadata": {},
     "output_type": "execute_result"
    }
   ],
   "source": [
    "df"
   ]
  },
  {
   "cell_type": "code",
   "execution_count": 19,
   "metadata": {},
   "outputs": [],
   "source": [
    "df['Victims_of_Rape_Total']=df['Victims_of_Rape_Total'].replace(0,np.NaN)\n",
    "df['Victims_of_Rape_Total']=df['Victims_of_Rape_Total'].fillna((df['Victims_of_Rape_Total'].mean()))"
   ]
  },
  {
   "cell_type": "code",
   "execution_count": 20,
   "metadata": {},
   "outputs": [
    {
     "data": {
      "text/html": [
       "<div>\n",
       "<style scoped>\n",
       "    .dataframe tbody tr th:only-of-type {\n",
       "        vertical-align: middle;\n",
       "    }\n",
       "\n",
       "    .dataframe tbody tr th {\n",
       "        vertical-align: top;\n",
       "    }\n",
       "\n",
       "    .dataframe thead th {\n",
       "        text-align: right;\n",
       "    }\n",
       "</style>\n",
       "<table border=\"1\" class=\"dataframe\">\n",
       "  <thead>\n",
       "    <tr style=\"text-align: right;\">\n",
       "      <th></th>\n",
       "      <th>Area_Name</th>\n",
       "      <th>Year</th>\n",
       "      <th>Subgroup</th>\n",
       "      <th>Rape_Cases_Reported</th>\n",
       "      <th>Victims_Above_50_Yrs</th>\n",
       "      <th>Victims_Between_10-14_Yrs</th>\n",
       "      <th>Victims_Between_14-18_Yrs</th>\n",
       "      <th>Victims_Between_18-30_Yrs</th>\n",
       "      <th>Victims_Between_30-50_Yrs</th>\n",
       "      <th>Victims_of_Rape_Total</th>\n",
       "      <th>Victims_Upto_10_Yrs</th>\n",
       "    </tr>\n",
       "  </thead>\n",
       "  <tbody>\n",
       "    <tr>\n",
       "      <th>0</th>\n",
       "      <td>Andaman &amp; Nicobar Islands</td>\n",
       "      <td>2001</td>\n",
       "      <td>Total Rape Victims</td>\n",
       "      <td>3.000000</td>\n",
       "      <td>5.97561</td>\n",
       "      <td>35.947902</td>\n",
       "      <td>3.000000</td>\n",
       "      <td>267.444976</td>\n",
       "      <td>92.332847</td>\n",
       "      <td>3.000000</td>\n",
       "      <td>0</td>\n",
       "    </tr>\n",
       "    <tr>\n",
       "      <th>1</th>\n",
       "      <td>Andaman &amp; Nicobar Islands</td>\n",
       "      <td>2001</td>\n",
       "      <td>Victims of Incest Rape</td>\n",
       "      <td>1.000000</td>\n",
       "      <td>5.97561</td>\n",
       "      <td>35.947902</td>\n",
       "      <td>1.000000</td>\n",
       "      <td>267.444976</td>\n",
       "      <td>92.332847</td>\n",
       "      <td>1.000000</td>\n",
       "      <td>0</td>\n",
       "    </tr>\n",
       "    <tr>\n",
       "      <th>2</th>\n",
       "      <td>Andaman &amp; Nicobar Islands</td>\n",
       "      <td>2001</td>\n",
       "      <td>Victims of Other Rape</td>\n",
       "      <td>2.000000</td>\n",
       "      <td>5.97561</td>\n",
       "      <td>35.947902</td>\n",
       "      <td>2.000000</td>\n",
       "      <td>267.444976</td>\n",
       "      <td>92.332847</td>\n",
       "      <td>2.000000</td>\n",
       "      <td>0</td>\n",
       "    </tr>\n",
       "    <tr>\n",
       "      <th>3</th>\n",
       "      <td>Andaman &amp; Nicobar Islands</td>\n",
       "      <td>2002</td>\n",
       "      <td>Total Rape Victims</td>\n",
       "      <td>2.000000</td>\n",
       "      <td>5.97561</td>\n",
       "      <td>35.947902</td>\n",
       "      <td>1.000000</td>\n",
       "      <td>1.000000</td>\n",
       "      <td>92.332847</td>\n",
       "      <td>2.000000</td>\n",
       "      <td>0</td>\n",
       "    </tr>\n",
       "    <tr>\n",
       "      <th>4</th>\n",
       "      <td>Andaman &amp; Nicobar Islands</td>\n",
       "      <td>2002</td>\n",
       "      <td>Victims of Incest Rape</td>\n",
       "      <td>413.510337</td>\n",
       "      <td>5.97561</td>\n",
       "      <td>35.947902</td>\n",
       "      <td>73.925729</td>\n",
       "      <td>267.444976</td>\n",
       "      <td>92.332847</td>\n",
       "      <td>413.828074</td>\n",
       "      <td>0</td>\n",
       "    </tr>\n",
       "    <tr>\n",
       "      <th>...</th>\n",
       "      <td>...</td>\n",
       "      <td>...</td>\n",
       "      <td>...</td>\n",
       "      <td>...</td>\n",
       "      <td>...</td>\n",
       "      <td>...</td>\n",
       "      <td>...</td>\n",
       "      <td>...</td>\n",
       "      <td>...</td>\n",
       "      <td>...</td>\n",
       "      <td>...</td>\n",
       "    </tr>\n",
       "    <tr>\n",
       "      <th>1045</th>\n",
       "      <td>West Bengal</td>\n",
       "      <td>2009</td>\n",
       "      <td>Victims of Incest Rape</td>\n",
       "      <td>3.000000</td>\n",
       "      <td>5.97561</td>\n",
       "      <td>35.947902</td>\n",
       "      <td>1.000000</td>\n",
       "      <td>1.000000</td>\n",
       "      <td>1.000000</td>\n",
       "      <td>3.000000</td>\n",
       "      <td>0</td>\n",
       "    </tr>\n",
       "    <tr>\n",
       "      <th>1046</th>\n",
       "      <td>West Bengal</td>\n",
       "      <td>2009</td>\n",
       "      <td>Victims of Other Rape</td>\n",
       "      <td>2333.000000</td>\n",
       "      <td>5.97561</td>\n",
       "      <td>18.000000</td>\n",
       "      <td>84.000000</td>\n",
       "      <td>1834.000000</td>\n",
       "      <td>391.000000</td>\n",
       "      <td>2333.000000</td>\n",
       "      <td>6</td>\n",
       "    </tr>\n",
       "    <tr>\n",
       "      <th>1047</th>\n",
       "      <td>West Bengal</td>\n",
       "      <td>2010</td>\n",
       "      <td>Total Rape Victims</td>\n",
       "      <td>2311.000000</td>\n",
       "      <td>5.97561</td>\n",
       "      <td>22.000000</td>\n",
       "      <td>51.000000</td>\n",
       "      <td>1779.000000</td>\n",
       "      <td>459.000000</td>\n",
       "      <td>2311.000000</td>\n",
       "      <td>0</td>\n",
       "    </tr>\n",
       "    <tr>\n",
       "      <th>1048</th>\n",
       "      <td>West Bengal</td>\n",
       "      <td>2010</td>\n",
       "      <td>Victims of Incest Rape</td>\n",
       "      <td>4.000000</td>\n",
       "      <td>5.97561</td>\n",
       "      <td>1.000000</td>\n",
       "      <td>73.925729</td>\n",
       "      <td>2.000000</td>\n",
       "      <td>1.000000</td>\n",
       "      <td>4.000000</td>\n",
       "      <td>0</td>\n",
       "    </tr>\n",
       "    <tr>\n",
       "      <th>1049</th>\n",
       "      <td>West Bengal</td>\n",
       "      <td>2010</td>\n",
       "      <td>Victims of Other Rape</td>\n",
       "      <td>2307.000000</td>\n",
       "      <td>5.97561</td>\n",
       "      <td>21.000000</td>\n",
       "      <td>51.000000</td>\n",
       "      <td>1777.000000</td>\n",
       "      <td>458.000000</td>\n",
       "      <td>2307.000000</td>\n",
       "      <td>0</td>\n",
       "    </tr>\n",
       "  </tbody>\n",
       "</table>\n",
       "<p>1050 rows × 11 columns</p>\n",
       "</div>"
      ],
      "text/plain": [
       "                      Area_Name  Year                Subgroup  \\\n",
       "0     Andaman & Nicobar Islands  2001      Total Rape Victims   \n",
       "1     Andaman & Nicobar Islands  2001  Victims of Incest Rape   \n",
       "2     Andaman & Nicobar Islands  2001   Victims of Other Rape   \n",
       "3     Andaman & Nicobar Islands  2002      Total Rape Victims   \n",
       "4     Andaman & Nicobar Islands  2002  Victims of Incest Rape   \n",
       "...                         ...   ...                     ...   \n",
       "1045                West Bengal  2009  Victims of Incest Rape   \n",
       "1046                West Bengal  2009   Victims of Other Rape   \n",
       "1047                West Bengal  2010      Total Rape Victims   \n",
       "1048                West Bengal  2010  Victims of Incest Rape   \n",
       "1049                West Bengal  2010   Victims of Other Rape   \n",
       "\n",
       "      Rape_Cases_Reported  Victims_Above_50_Yrs  Victims_Between_10-14_Yrs  \\\n",
       "0                3.000000               5.97561                  35.947902   \n",
       "1                1.000000               5.97561                  35.947902   \n",
       "2                2.000000               5.97561                  35.947902   \n",
       "3                2.000000               5.97561                  35.947902   \n",
       "4              413.510337               5.97561                  35.947902   \n",
       "...                   ...                   ...                        ...   \n",
       "1045             3.000000               5.97561                  35.947902   \n",
       "1046          2333.000000               5.97561                  18.000000   \n",
       "1047          2311.000000               5.97561                  22.000000   \n",
       "1048             4.000000               5.97561                   1.000000   \n",
       "1049          2307.000000               5.97561                  21.000000   \n",
       "\n",
       "      Victims_Between_14-18_Yrs  Victims_Between_18-30_Yrs  \\\n",
       "0                      3.000000                 267.444976   \n",
       "1                      1.000000                 267.444976   \n",
       "2                      2.000000                 267.444976   \n",
       "3                      1.000000                   1.000000   \n",
       "4                     73.925729                 267.444976   \n",
       "...                         ...                        ...   \n",
       "1045                   1.000000                   1.000000   \n",
       "1046                  84.000000                1834.000000   \n",
       "1047                  51.000000                1779.000000   \n",
       "1048                  73.925729                   2.000000   \n",
       "1049                  51.000000                1777.000000   \n",
       "\n",
       "      Victims_Between_30-50_Yrs  Victims_of_Rape_Total  Victims_Upto_10_Yrs  \n",
       "0                     92.332847               3.000000                    0  \n",
       "1                     92.332847               1.000000                    0  \n",
       "2                     92.332847               2.000000                    0  \n",
       "3                     92.332847               2.000000                    0  \n",
       "4                     92.332847             413.828074                    0  \n",
       "...                         ...                    ...                  ...  \n",
       "1045                   1.000000               3.000000                    0  \n",
       "1046                 391.000000            2333.000000                    6  \n",
       "1047                 459.000000            2311.000000                    0  \n",
       "1048                   1.000000               4.000000                    0  \n",
       "1049                 458.000000            2307.000000                    0  \n",
       "\n",
       "[1050 rows x 11 columns]"
      ]
     },
     "execution_count": 20,
     "metadata": {},
     "output_type": "execute_result"
    }
   ],
   "source": [
    "df"
   ]
  },
  {
   "cell_type": "code",
   "execution_count": 21,
   "metadata": {},
   "outputs": [],
   "source": [
    "df['Victims_of_Rape_Total']=df['Victims_of_Rape_Total'].replace(0,np.NaN)\n",
    "df['Victims_of_Rape_Total']=df['Victims_of_Rape_Total'].fillna((df['Victims_of_Rape_Total'].mean()))"
   ]
  },
  {
   "cell_type": "code",
   "execution_count": 22,
   "metadata": {},
   "outputs": [
    {
     "data": {
      "text/html": [
       "<div>\n",
       "<style scoped>\n",
       "    .dataframe tbody tr th:only-of-type {\n",
       "        vertical-align: middle;\n",
       "    }\n",
       "\n",
       "    .dataframe tbody tr th {\n",
       "        vertical-align: top;\n",
       "    }\n",
       "\n",
       "    .dataframe thead th {\n",
       "        text-align: right;\n",
       "    }\n",
       "</style>\n",
       "<table border=\"1\" class=\"dataframe\">\n",
       "  <thead>\n",
       "    <tr style=\"text-align: right;\">\n",
       "      <th></th>\n",
       "      <th>Area_Name</th>\n",
       "      <th>Year</th>\n",
       "      <th>Subgroup</th>\n",
       "      <th>Rape_Cases_Reported</th>\n",
       "      <th>Victims_Above_50_Yrs</th>\n",
       "      <th>Victims_Between_10-14_Yrs</th>\n",
       "      <th>Victims_Between_14-18_Yrs</th>\n",
       "      <th>Victims_Between_18-30_Yrs</th>\n",
       "      <th>Victims_Between_30-50_Yrs</th>\n",
       "      <th>Victims_of_Rape_Total</th>\n",
       "      <th>Victims_Upto_10_Yrs</th>\n",
       "    </tr>\n",
       "  </thead>\n",
       "  <tbody>\n",
       "    <tr>\n",
       "      <th>0</th>\n",
       "      <td>Andaman &amp; Nicobar Islands</td>\n",
       "      <td>2001</td>\n",
       "      <td>Total Rape Victims</td>\n",
       "      <td>3.000000</td>\n",
       "      <td>5.97561</td>\n",
       "      <td>35.947902</td>\n",
       "      <td>3.000000</td>\n",
       "      <td>267.444976</td>\n",
       "      <td>92.332847</td>\n",
       "      <td>3.000000</td>\n",
       "      <td>0</td>\n",
       "    </tr>\n",
       "    <tr>\n",
       "      <th>1</th>\n",
       "      <td>Andaman &amp; Nicobar Islands</td>\n",
       "      <td>2001</td>\n",
       "      <td>Victims of Incest Rape</td>\n",
       "      <td>1.000000</td>\n",
       "      <td>5.97561</td>\n",
       "      <td>35.947902</td>\n",
       "      <td>1.000000</td>\n",
       "      <td>267.444976</td>\n",
       "      <td>92.332847</td>\n",
       "      <td>1.000000</td>\n",
       "      <td>0</td>\n",
       "    </tr>\n",
       "    <tr>\n",
       "      <th>2</th>\n",
       "      <td>Andaman &amp; Nicobar Islands</td>\n",
       "      <td>2001</td>\n",
       "      <td>Victims of Other Rape</td>\n",
       "      <td>2.000000</td>\n",
       "      <td>5.97561</td>\n",
       "      <td>35.947902</td>\n",
       "      <td>2.000000</td>\n",
       "      <td>267.444976</td>\n",
       "      <td>92.332847</td>\n",
       "      <td>2.000000</td>\n",
       "      <td>0</td>\n",
       "    </tr>\n",
       "    <tr>\n",
       "      <th>3</th>\n",
       "      <td>Andaman &amp; Nicobar Islands</td>\n",
       "      <td>2002</td>\n",
       "      <td>Total Rape Victims</td>\n",
       "      <td>2.000000</td>\n",
       "      <td>5.97561</td>\n",
       "      <td>35.947902</td>\n",
       "      <td>1.000000</td>\n",
       "      <td>1.000000</td>\n",
       "      <td>92.332847</td>\n",
       "      <td>2.000000</td>\n",
       "      <td>0</td>\n",
       "    </tr>\n",
       "    <tr>\n",
       "      <th>4</th>\n",
       "      <td>Andaman &amp; Nicobar Islands</td>\n",
       "      <td>2002</td>\n",
       "      <td>Victims of Incest Rape</td>\n",
       "      <td>413.510337</td>\n",
       "      <td>5.97561</td>\n",
       "      <td>35.947902</td>\n",
       "      <td>73.925729</td>\n",
       "      <td>267.444976</td>\n",
       "      <td>92.332847</td>\n",
       "      <td>413.828074</td>\n",
       "      <td>0</td>\n",
       "    </tr>\n",
       "    <tr>\n",
       "      <th>...</th>\n",
       "      <td>...</td>\n",
       "      <td>...</td>\n",
       "      <td>...</td>\n",
       "      <td>...</td>\n",
       "      <td>...</td>\n",
       "      <td>...</td>\n",
       "      <td>...</td>\n",
       "      <td>...</td>\n",
       "      <td>...</td>\n",
       "      <td>...</td>\n",
       "      <td>...</td>\n",
       "    </tr>\n",
       "    <tr>\n",
       "      <th>1045</th>\n",
       "      <td>West Bengal</td>\n",
       "      <td>2009</td>\n",
       "      <td>Victims of Incest Rape</td>\n",
       "      <td>3.000000</td>\n",
       "      <td>5.97561</td>\n",
       "      <td>35.947902</td>\n",
       "      <td>1.000000</td>\n",
       "      <td>1.000000</td>\n",
       "      <td>1.000000</td>\n",
       "      <td>3.000000</td>\n",
       "      <td>0</td>\n",
       "    </tr>\n",
       "    <tr>\n",
       "      <th>1046</th>\n",
       "      <td>West Bengal</td>\n",
       "      <td>2009</td>\n",
       "      <td>Victims of Other Rape</td>\n",
       "      <td>2333.000000</td>\n",
       "      <td>5.97561</td>\n",
       "      <td>18.000000</td>\n",
       "      <td>84.000000</td>\n",
       "      <td>1834.000000</td>\n",
       "      <td>391.000000</td>\n",
       "      <td>2333.000000</td>\n",
       "      <td>6</td>\n",
       "    </tr>\n",
       "    <tr>\n",
       "      <th>1047</th>\n",
       "      <td>West Bengal</td>\n",
       "      <td>2010</td>\n",
       "      <td>Total Rape Victims</td>\n",
       "      <td>2311.000000</td>\n",
       "      <td>5.97561</td>\n",
       "      <td>22.000000</td>\n",
       "      <td>51.000000</td>\n",
       "      <td>1779.000000</td>\n",
       "      <td>459.000000</td>\n",
       "      <td>2311.000000</td>\n",
       "      <td>0</td>\n",
       "    </tr>\n",
       "    <tr>\n",
       "      <th>1048</th>\n",
       "      <td>West Bengal</td>\n",
       "      <td>2010</td>\n",
       "      <td>Victims of Incest Rape</td>\n",
       "      <td>4.000000</td>\n",
       "      <td>5.97561</td>\n",
       "      <td>1.000000</td>\n",
       "      <td>73.925729</td>\n",
       "      <td>2.000000</td>\n",
       "      <td>1.000000</td>\n",
       "      <td>4.000000</td>\n",
       "      <td>0</td>\n",
       "    </tr>\n",
       "    <tr>\n",
       "      <th>1049</th>\n",
       "      <td>West Bengal</td>\n",
       "      <td>2010</td>\n",
       "      <td>Victims of Other Rape</td>\n",
       "      <td>2307.000000</td>\n",
       "      <td>5.97561</td>\n",
       "      <td>21.000000</td>\n",
       "      <td>51.000000</td>\n",
       "      <td>1777.000000</td>\n",
       "      <td>458.000000</td>\n",
       "      <td>2307.000000</td>\n",
       "      <td>0</td>\n",
       "    </tr>\n",
       "  </tbody>\n",
       "</table>\n",
       "<p>1050 rows × 11 columns</p>\n",
       "</div>"
      ],
      "text/plain": [
       "                      Area_Name  Year                Subgroup  \\\n",
       "0     Andaman & Nicobar Islands  2001      Total Rape Victims   \n",
       "1     Andaman & Nicobar Islands  2001  Victims of Incest Rape   \n",
       "2     Andaman & Nicobar Islands  2001   Victims of Other Rape   \n",
       "3     Andaman & Nicobar Islands  2002      Total Rape Victims   \n",
       "4     Andaman & Nicobar Islands  2002  Victims of Incest Rape   \n",
       "...                         ...   ...                     ...   \n",
       "1045                West Bengal  2009  Victims of Incest Rape   \n",
       "1046                West Bengal  2009   Victims of Other Rape   \n",
       "1047                West Bengal  2010      Total Rape Victims   \n",
       "1048                West Bengal  2010  Victims of Incest Rape   \n",
       "1049                West Bengal  2010   Victims of Other Rape   \n",
       "\n",
       "      Rape_Cases_Reported  Victims_Above_50_Yrs  Victims_Between_10-14_Yrs  \\\n",
       "0                3.000000               5.97561                  35.947902   \n",
       "1                1.000000               5.97561                  35.947902   \n",
       "2                2.000000               5.97561                  35.947902   \n",
       "3                2.000000               5.97561                  35.947902   \n",
       "4              413.510337               5.97561                  35.947902   \n",
       "...                   ...                   ...                        ...   \n",
       "1045             3.000000               5.97561                  35.947902   \n",
       "1046          2333.000000               5.97561                  18.000000   \n",
       "1047          2311.000000               5.97561                  22.000000   \n",
       "1048             4.000000               5.97561                   1.000000   \n",
       "1049          2307.000000               5.97561                  21.000000   \n",
       "\n",
       "      Victims_Between_14-18_Yrs  Victims_Between_18-30_Yrs  \\\n",
       "0                      3.000000                 267.444976   \n",
       "1                      1.000000                 267.444976   \n",
       "2                      2.000000                 267.444976   \n",
       "3                      1.000000                   1.000000   \n",
       "4                     73.925729                 267.444976   \n",
       "...                         ...                        ...   \n",
       "1045                   1.000000                   1.000000   \n",
       "1046                  84.000000                1834.000000   \n",
       "1047                  51.000000                1779.000000   \n",
       "1048                  73.925729                   2.000000   \n",
       "1049                  51.000000                1777.000000   \n",
       "\n",
       "      Victims_Between_30-50_Yrs  Victims_of_Rape_Total  Victims_Upto_10_Yrs  \n",
       "0                     92.332847               3.000000                    0  \n",
       "1                     92.332847               1.000000                    0  \n",
       "2                     92.332847               2.000000                    0  \n",
       "3                     92.332847               2.000000                    0  \n",
       "4                     92.332847             413.828074                    0  \n",
       "...                         ...                    ...                  ...  \n",
       "1045                   1.000000               3.000000                    0  \n",
       "1046                 391.000000            2333.000000                    6  \n",
       "1047                 459.000000            2311.000000                    0  \n",
       "1048                   1.000000               4.000000                    0  \n",
       "1049                 458.000000            2307.000000                    0  \n",
       "\n",
       "[1050 rows x 11 columns]"
      ]
     },
     "execution_count": 22,
     "metadata": {},
     "output_type": "execute_result"
    }
   ],
   "source": [
    "df"
   ]
  },
  {
   "cell_type": "code",
   "execution_count": 23,
   "metadata": {},
   "outputs": [],
   "source": [
    "df['Victims_Upto_10_Yrs']=df['Victims_Upto_10_Yrs'].replace(0,np.NaN)\n",
    "df['Victims_Upto_10_Yrs']=df['Victims_Upto_10_Yrs'].fillna((df['Victims_Upto_10_Yrs'].mean()))"
   ]
  },
  {
   "cell_type": "code",
   "execution_count": 24,
   "metadata": {},
   "outputs": [],
   "source": [
    "from sklearn.preprocessing import LabelEncoder"
   ]
  },
  {
   "cell_type": "code",
   "execution_count": 25,
   "metadata": {},
   "outputs": [
    {
     "data": {
      "text/html": [
       "<div>\n",
       "<style scoped>\n",
       "    .dataframe tbody tr th:only-of-type {\n",
       "        vertical-align: middle;\n",
       "    }\n",
       "\n",
       "    .dataframe tbody tr th {\n",
       "        vertical-align: top;\n",
       "    }\n",
       "\n",
       "    .dataframe thead th {\n",
       "        text-align: right;\n",
       "    }\n",
       "</style>\n",
       "<table border=\"1\" class=\"dataframe\">\n",
       "  <thead>\n",
       "    <tr style=\"text-align: right;\">\n",
       "      <th></th>\n",
       "      <th>Area_Name</th>\n",
       "      <th>Year</th>\n",
       "      <th>Subgroup</th>\n",
       "      <th>Rape_Cases_Reported</th>\n",
       "      <th>Victims_Above_50_Yrs</th>\n",
       "      <th>Victims_Between_10-14_Yrs</th>\n",
       "      <th>Victims_Between_14-18_Yrs</th>\n",
       "      <th>Victims_Between_18-30_Yrs</th>\n",
       "      <th>Victims_Between_30-50_Yrs</th>\n",
       "      <th>Victims_of_Rape_Total</th>\n",
       "      <th>Victims_Upto_10_Yrs</th>\n",
       "    </tr>\n",
       "  </thead>\n",
       "  <tbody>\n",
       "    <tr>\n",
       "      <th>0</th>\n",
       "      <td>Andaman &amp; Nicobar Islands</td>\n",
       "      <td>2001</td>\n",
       "      <td>0</td>\n",
       "      <td>3.000000</td>\n",
       "      <td>5.97561</td>\n",
       "      <td>35.947902</td>\n",
       "      <td>3.000000</td>\n",
       "      <td>267.444976</td>\n",
       "      <td>92.332847</td>\n",
       "      <td>3.000000</td>\n",
       "      <td>16.645358</td>\n",
       "    </tr>\n",
       "    <tr>\n",
       "      <th>1</th>\n",
       "      <td>Andaman &amp; Nicobar Islands</td>\n",
       "      <td>2001</td>\n",
       "      <td>1</td>\n",
       "      <td>1.000000</td>\n",
       "      <td>5.97561</td>\n",
       "      <td>35.947902</td>\n",
       "      <td>1.000000</td>\n",
       "      <td>267.444976</td>\n",
       "      <td>92.332847</td>\n",
       "      <td>1.000000</td>\n",
       "      <td>16.645358</td>\n",
       "    </tr>\n",
       "    <tr>\n",
       "      <th>2</th>\n",
       "      <td>Andaman &amp; Nicobar Islands</td>\n",
       "      <td>2001</td>\n",
       "      <td>2</td>\n",
       "      <td>2.000000</td>\n",
       "      <td>5.97561</td>\n",
       "      <td>35.947902</td>\n",
       "      <td>2.000000</td>\n",
       "      <td>267.444976</td>\n",
       "      <td>92.332847</td>\n",
       "      <td>2.000000</td>\n",
       "      <td>16.645358</td>\n",
       "    </tr>\n",
       "    <tr>\n",
       "      <th>3</th>\n",
       "      <td>Andaman &amp; Nicobar Islands</td>\n",
       "      <td>2002</td>\n",
       "      <td>0</td>\n",
       "      <td>2.000000</td>\n",
       "      <td>5.97561</td>\n",
       "      <td>35.947902</td>\n",
       "      <td>1.000000</td>\n",
       "      <td>1.000000</td>\n",
       "      <td>92.332847</td>\n",
       "      <td>2.000000</td>\n",
       "      <td>16.645358</td>\n",
       "    </tr>\n",
       "    <tr>\n",
       "      <th>4</th>\n",
       "      <td>Andaman &amp; Nicobar Islands</td>\n",
       "      <td>2002</td>\n",
       "      <td>1</td>\n",
       "      <td>413.510337</td>\n",
       "      <td>5.97561</td>\n",
       "      <td>35.947902</td>\n",
       "      <td>73.925729</td>\n",
       "      <td>267.444976</td>\n",
       "      <td>92.332847</td>\n",
       "      <td>413.828074</td>\n",
       "      <td>16.645358</td>\n",
       "    </tr>\n",
       "    <tr>\n",
       "      <th>...</th>\n",
       "      <td>...</td>\n",
       "      <td>...</td>\n",
       "      <td>...</td>\n",
       "      <td>...</td>\n",
       "      <td>...</td>\n",
       "      <td>...</td>\n",
       "      <td>...</td>\n",
       "      <td>...</td>\n",
       "      <td>...</td>\n",
       "      <td>...</td>\n",
       "      <td>...</td>\n",
       "    </tr>\n",
       "    <tr>\n",
       "      <th>1045</th>\n",
       "      <td>West Bengal</td>\n",
       "      <td>2009</td>\n",
       "      <td>1</td>\n",
       "      <td>3.000000</td>\n",
       "      <td>5.97561</td>\n",
       "      <td>35.947902</td>\n",
       "      <td>1.000000</td>\n",
       "      <td>1.000000</td>\n",
       "      <td>1.000000</td>\n",
       "      <td>3.000000</td>\n",
       "      <td>16.645358</td>\n",
       "    </tr>\n",
       "    <tr>\n",
       "      <th>1046</th>\n",
       "      <td>West Bengal</td>\n",
       "      <td>2009</td>\n",
       "      <td>2</td>\n",
       "      <td>2333.000000</td>\n",
       "      <td>5.97561</td>\n",
       "      <td>18.000000</td>\n",
       "      <td>84.000000</td>\n",
       "      <td>1834.000000</td>\n",
       "      <td>391.000000</td>\n",
       "      <td>2333.000000</td>\n",
       "      <td>6.000000</td>\n",
       "    </tr>\n",
       "    <tr>\n",
       "      <th>1047</th>\n",
       "      <td>West Bengal</td>\n",
       "      <td>2010</td>\n",
       "      <td>0</td>\n",
       "      <td>2311.000000</td>\n",
       "      <td>5.97561</td>\n",
       "      <td>22.000000</td>\n",
       "      <td>51.000000</td>\n",
       "      <td>1779.000000</td>\n",
       "      <td>459.000000</td>\n",
       "      <td>2311.000000</td>\n",
       "      <td>16.645358</td>\n",
       "    </tr>\n",
       "    <tr>\n",
       "      <th>1048</th>\n",
       "      <td>West Bengal</td>\n",
       "      <td>2010</td>\n",
       "      <td>1</td>\n",
       "      <td>4.000000</td>\n",
       "      <td>5.97561</td>\n",
       "      <td>1.000000</td>\n",
       "      <td>73.925729</td>\n",
       "      <td>2.000000</td>\n",
       "      <td>1.000000</td>\n",
       "      <td>4.000000</td>\n",
       "      <td>16.645358</td>\n",
       "    </tr>\n",
       "    <tr>\n",
       "      <th>1049</th>\n",
       "      <td>West Bengal</td>\n",
       "      <td>2010</td>\n",
       "      <td>2</td>\n",
       "      <td>2307.000000</td>\n",
       "      <td>5.97561</td>\n",
       "      <td>21.000000</td>\n",
       "      <td>51.000000</td>\n",
       "      <td>1777.000000</td>\n",
       "      <td>458.000000</td>\n",
       "      <td>2307.000000</td>\n",
       "      <td>16.645358</td>\n",
       "    </tr>\n",
       "  </tbody>\n",
       "</table>\n",
       "<p>1050 rows × 11 columns</p>\n",
       "</div>"
      ],
      "text/plain": [
       "                      Area_Name  Year  Subgroup  Rape_Cases_Reported  \\\n",
       "0     Andaman & Nicobar Islands  2001         0             3.000000   \n",
       "1     Andaman & Nicobar Islands  2001         1             1.000000   \n",
       "2     Andaman & Nicobar Islands  2001         2             2.000000   \n",
       "3     Andaman & Nicobar Islands  2002         0             2.000000   \n",
       "4     Andaman & Nicobar Islands  2002         1           413.510337   \n",
       "...                         ...   ...       ...                  ...   \n",
       "1045                West Bengal  2009         1             3.000000   \n",
       "1046                West Bengal  2009         2          2333.000000   \n",
       "1047                West Bengal  2010         0          2311.000000   \n",
       "1048                West Bengal  2010         1             4.000000   \n",
       "1049                West Bengal  2010         2          2307.000000   \n",
       "\n",
       "      Victims_Above_50_Yrs  Victims_Between_10-14_Yrs  \\\n",
       "0                  5.97561                  35.947902   \n",
       "1                  5.97561                  35.947902   \n",
       "2                  5.97561                  35.947902   \n",
       "3                  5.97561                  35.947902   \n",
       "4                  5.97561                  35.947902   \n",
       "...                    ...                        ...   \n",
       "1045               5.97561                  35.947902   \n",
       "1046               5.97561                  18.000000   \n",
       "1047               5.97561                  22.000000   \n",
       "1048               5.97561                   1.000000   \n",
       "1049               5.97561                  21.000000   \n",
       "\n",
       "      Victims_Between_14-18_Yrs  Victims_Between_18-30_Yrs  \\\n",
       "0                      3.000000                 267.444976   \n",
       "1                      1.000000                 267.444976   \n",
       "2                      2.000000                 267.444976   \n",
       "3                      1.000000                   1.000000   \n",
       "4                     73.925729                 267.444976   \n",
       "...                         ...                        ...   \n",
       "1045                   1.000000                   1.000000   \n",
       "1046                  84.000000                1834.000000   \n",
       "1047                  51.000000                1779.000000   \n",
       "1048                  73.925729                   2.000000   \n",
       "1049                  51.000000                1777.000000   \n",
       "\n",
       "      Victims_Between_30-50_Yrs  Victims_of_Rape_Total  Victims_Upto_10_Yrs  \n",
       "0                     92.332847               3.000000            16.645358  \n",
       "1                     92.332847               1.000000            16.645358  \n",
       "2                     92.332847               2.000000            16.645358  \n",
       "3                     92.332847               2.000000            16.645358  \n",
       "4                     92.332847             413.828074            16.645358  \n",
       "...                         ...                    ...                  ...  \n",
       "1045                   1.000000               3.000000            16.645358  \n",
       "1046                 391.000000            2333.000000             6.000000  \n",
       "1047                 459.000000            2311.000000            16.645358  \n",
       "1048                   1.000000               4.000000            16.645358  \n",
       "1049                 458.000000            2307.000000            16.645358  \n",
       "\n",
       "[1050 rows x 11 columns]"
      ]
     },
     "execution_count": 25,
     "metadata": {},
     "output_type": "execute_result"
    }
   ],
   "source": [
    "le=LabelEncoder()\n",
    "df['Subgroup']=le.fit_transform(df['Subgroup'])\n",
    "df"
   ]
  },
  {
   "cell_type": "code",
   "execution_count": 26,
   "metadata": {},
   "outputs": [],
   "source": [
    "df.drop('Area_Name',axis=1,inplace=True)"
   ]
  },
  {
   "cell_type": "code",
   "execution_count": 27,
   "metadata": {},
   "outputs": [],
   "source": [
    "df.drop('Year',axis=1,inplace=True)"
   ]
  },
  {
   "cell_type": "code",
   "execution_count": 28,
   "metadata": {},
   "outputs": [
    {
     "data": {
      "text/html": [
       "<div>\n",
       "<style scoped>\n",
       "    .dataframe tbody tr th:only-of-type {\n",
       "        vertical-align: middle;\n",
       "    }\n",
       "\n",
       "    .dataframe tbody tr th {\n",
       "        vertical-align: top;\n",
       "    }\n",
       "\n",
       "    .dataframe thead th {\n",
       "        text-align: right;\n",
       "    }\n",
       "</style>\n",
       "<table border=\"1\" class=\"dataframe\">\n",
       "  <thead>\n",
       "    <tr style=\"text-align: right;\">\n",
       "      <th></th>\n",
       "      <th>Subgroup</th>\n",
       "      <th>Rape_Cases_Reported</th>\n",
       "      <th>Victims_Above_50_Yrs</th>\n",
       "      <th>Victims_Between_10-14_Yrs</th>\n",
       "      <th>Victims_Between_14-18_Yrs</th>\n",
       "      <th>Victims_Between_18-30_Yrs</th>\n",
       "      <th>Victims_Between_30-50_Yrs</th>\n",
       "      <th>Victims_of_Rape_Total</th>\n",
       "      <th>Victims_Upto_10_Yrs</th>\n",
       "    </tr>\n",
       "  </thead>\n",
       "  <tbody>\n",
       "    <tr>\n",
       "      <th>0</th>\n",
       "      <td>0</td>\n",
       "      <td>3.000000</td>\n",
       "      <td>5.97561</td>\n",
       "      <td>35.947902</td>\n",
       "      <td>3.000000</td>\n",
       "      <td>267.444976</td>\n",
       "      <td>92.332847</td>\n",
       "      <td>3.000000</td>\n",
       "      <td>16.645358</td>\n",
       "    </tr>\n",
       "    <tr>\n",
       "      <th>1</th>\n",
       "      <td>1</td>\n",
       "      <td>1.000000</td>\n",
       "      <td>5.97561</td>\n",
       "      <td>35.947902</td>\n",
       "      <td>1.000000</td>\n",
       "      <td>267.444976</td>\n",
       "      <td>92.332847</td>\n",
       "      <td>1.000000</td>\n",
       "      <td>16.645358</td>\n",
       "    </tr>\n",
       "    <tr>\n",
       "      <th>2</th>\n",
       "      <td>2</td>\n",
       "      <td>2.000000</td>\n",
       "      <td>5.97561</td>\n",
       "      <td>35.947902</td>\n",
       "      <td>2.000000</td>\n",
       "      <td>267.444976</td>\n",
       "      <td>92.332847</td>\n",
       "      <td>2.000000</td>\n",
       "      <td>16.645358</td>\n",
       "    </tr>\n",
       "    <tr>\n",
       "      <th>3</th>\n",
       "      <td>0</td>\n",
       "      <td>2.000000</td>\n",
       "      <td>5.97561</td>\n",
       "      <td>35.947902</td>\n",
       "      <td>1.000000</td>\n",
       "      <td>1.000000</td>\n",
       "      <td>92.332847</td>\n",
       "      <td>2.000000</td>\n",
       "      <td>16.645358</td>\n",
       "    </tr>\n",
       "    <tr>\n",
       "      <th>4</th>\n",
       "      <td>1</td>\n",
       "      <td>413.510337</td>\n",
       "      <td>5.97561</td>\n",
       "      <td>35.947902</td>\n",
       "      <td>73.925729</td>\n",
       "      <td>267.444976</td>\n",
       "      <td>92.332847</td>\n",
       "      <td>413.828074</td>\n",
       "      <td>16.645358</td>\n",
       "    </tr>\n",
       "    <tr>\n",
       "      <th>...</th>\n",
       "      <td>...</td>\n",
       "      <td>...</td>\n",
       "      <td>...</td>\n",
       "      <td>...</td>\n",
       "      <td>...</td>\n",
       "      <td>...</td>\n",
       "      <td>...</td>\n",
       "      <td>...</td>\n",
       "      <td>...</td>\n",
       "    </tr>\n",
       "    <tr>\n",
       "      <th>1045</th>\n",
       "      <td>1</td>\n",
       "      <td>3.000000</td>\n",
       "      <td>5.97561</td>\n",
       "      <td>35.947902</td>\n",
       "      <td>1.000000</td>\n",
       "      <td>1.000000</td>\n",
       "      <td>1.000000</td>\n",
       "      <td>3.000000</td>\n",
       "      <td>16.645358</td>\n",
       "    </tr>\n",
       "    <tr>\n",
       "      <th>1046</th>\n",
       "      <td>2</td>\n",
       "      <td>2333.000000</td>\n",
       "      <td>5.97561</td>\n",
       "      <td>18.000000</td>\n",
       "      <td>84.000000</td>\n",
       "      <td>1834.000000</td>\n",
       "      <td>391.000000</td>\n",
       "      <td>2333.000000</td>\n",
       "      <td>6.000000</td>\n",
       "    </tr>\n",
       "    <tr>\n",
       "      <th>1047</th>\n",
       "      <td>0</td>\n",
       "      <td>2311.000000</td>\n",
       "      <td>5.97561</td>\n",
       "      <td>22.000000</td>\n",
       "      <td>51.000000</td>\n",
       "      <td>1779.000000</td>\n",
       "      <td>459.000000</td>\n",
       "      <td>2311.000000</td>\n",
       "      <td>16.645358</td>\n",
       "    </tr>\n",
       "    <tr>\n",
       "      <th>1048</th>\n",
       "      <td>1</td>\n",
       "      <td>4.000000</td>\n",
       "      <td>5.97561</td>\n",
       "      <td>1.000000</td>\n",
       "      <td>73.925729</td>\n",
       "      <td>2.000000</td>\n",
       "      <td>1.000000</td>\n",
       "      <td>4.000000</td>\n",
       "      <td>16.645358</td>\n",
       "    </tr>\n",
       "    <tr>\n",
       "      <th>1049</th>\n",
       "      <td>2</td>\n",
       "      <td>2307.000000</td>\n",
       "      <td>5.97561</td>\n",
       "      <td>21.000000</td>\n",
       "      <td>51.000000</td>\n",
       "      <td>1777.000000</td>\n",
       "      <td>458.000000</td>\n",
       "      <td>2307.000000</td>\n",
       "      <td>16.645358</td>\n",
       "    </tr>\n",
       "  </tbody>\n",
       "</table>\n",
       "<p>1050 rows × 9 columns</p>\n",
       "</div>"
      ],
      "text/plain": [
       "      Subgroup  Rape_Cases_Reported  Victims_Above_50_Yrs  \\\n",
       "0            0             3.000000               5.97561   \n",
       "1            1             1.000000               5.97561   \n",
       "2            2             2.000000               5.97561   \n",
       "3            0             2.000000               5.97561   \n",
       "4            1           413.510337               5.97561   \n",
       "...        ...                  ...                   ...   \n",
       "1045         1             3.000000               5.97561   \n",
       "1046         2          2333.000000               5.97561   \n",
       "1047         0          2311.000000               5.97561   \n",
       "1048         1             4.000000               5.97561   \n",
       "1049         2          2307.000000               5.97561   \n",
       "\n",
       "      Victims_Between_10-14_Yrs  Victims_Between_14-18_Yrs  \\\n",
       "0                     35.947902                   3.000000   \n",
       "1                     35.947902                   1.000000   \n",
       "2                     35.947902                   2.000000   \n",
       "3                     35.947902                   1.000000   \n",
       "4                     35.947902                  73.925729   \n",
       "...                         ...                        ...   \n",
       "1045                  35.947902                   1.000000   \n",
       "1046                  18.000000                  84.000000   \n",
       "1047                  22.000000                  51.000000   \n",
       "1048                   1.000000                  73.925729   \n",
       "1049                  21.000000                  51.000000   \n",
       "\n",
       "      Victims_Between_18-30_Yrs  Victims_Between_30-50_Yrs  \\\n",
       "0                    267.444976                  92.332847   \n",
       "1                    267.444976                  92.332847   \n",
       "2                    267.444976                  92.332847   \n",
       "3                      1.000000                  92.332847   \n",
       "4                    267.444976                  92.332847   \n",
       "...                         ...                        ...   \n",
       "1045                   1.000000                   1.000000   \n",
       "1046                1834.000000                 391.000000   \n",
       "1047                1779.000000                 459.000000   \n",
       "1048                   2.000000                   1.000000   \n",
       "1049                1777.000000                 458.000000   \n",
       "\n",
       "      Victims_of_Rape_Total  Victims_Upto_10_Yrs  \n",
       "0                  3.000000            16.645358  \n",
       "1                  1.000000            16.645358  \n",
       "2                  2.000000            16.645358  \n",
       "3                  2.000000            16.645358  \n",
       "4                413.828074            16.645358  \n",
       "...                     ...                  ...  \n",
       "1045               3.000000            16.645358  \n",
       "1046            2333.000000             6.000000  \n",
       "1047            2311.000000            16.645358  \n",
       "1048               4.000000            16.645358  \n",
       "1049            2307.000000            16.645358  \n",
       "\n",
       "[1050 rows x 9 columns]"
      ]
     },
     "execution_count": 28,
     "metadata": {},
     "output_type": "execute_result"
    }
   ],
   "source": [
    "df"
   ]
  },
  {
   "cell_type": "markdown",
   "metadata": {},
   "source": [
    "# EDA\n",
    "Scatterplot"
   ]
  },
  {
   "cell_type": "code",
   "execution_count": 29,
   "metadata": {},
   "outputs": [],
   "source": [
    "import seaborn as sns"
   ]
  },
  {
   "cell_type": "code",
   "execution_count": 30,
   "metadata": {},
   "outputs": [
    {
     "data": {
      "text/plain": [
       "Index(['Subgroup', 'Rape_Cases_Reported', 'Victims_Above_50_Yrs',\n",
       "       'Victims_Between_10-14_Yrs', 'Victims_Between_14-18_Yrs',\n",
       "       'Victims_Between_18-30_Yrs', 'Victims_Between_30-50_Yrs',\n",
       "       'Victims_of_Rape_Total', 'Victims_Upto_10_Yrs'],\n",
       "      dtype='object')"
      ]
     },
     "execution_count": 30,
     "metadata": {},
     "output_type": "execute_result"
    }
   ],
   "source": [
    "df.columns"
   ]
  },
  {
   "cell_type": "code",
   "execution_count": 31,
   "metadata": {},
   "outputs": [
    {
     "data": {
      "text/plain": [
       "<matplotlib.axes._subplots.AxesSubplot at 0x242a0e034c0>"
      ]
     },
     "execution_count": 31,
     "metadata": {},
     "output_type": "execute_result"
    },
    {
     "data": {
      "image/png": "[encoded data removed]",
      "text/plain": [
       "<Figure size 432x288 with 1 Axes>"
      ]
     },
     "metadata": {
      "needs_background": "light"
     },
     "output_type": "display_data"
    }
   ],
   "source": [
    "sns.scatterplot(x=\"Rape_Cases_Reported\" ,y=\"Victims_Upto_10_Yrs\",data=df)"
   ]
  },
  {
   "cell_type": "code",
   "execution_count": 32,
   "metadata": {},
   "outputs": [
    {
     "data": {
      "text/plain": [
       "<matplotlib.axes._subplots.AxesSubplot at 0x242a1555eb0>"
      ]
     },
     "execution_count": 32,
     "metadata": {},
     "output_type": "execute_result"
    },
    {
     "data": {
      "image/png": "[encoded data removed]",
      "text/plain": [
       "<Figure size 432x288 with 1 Axes>"
      ]
     },
     "metadata": {
      "needs_background": "light"
     },
     "output_type": "display_data"
    }
   ],
   "source": [
    "sns.scatterplot(x=\"Subgroup\" ,y=\"Victims_Upto_10_Yrs\",data=df)"
   ]
  },
  {
   "cell_type": "code",
   "execution_count": 33,
   "metadata": {},
   "outputs": [
    {
     "data": {
      "text/plain": [
       "<matplotlib.axes._subplots.AxesSubplot at 0x242a1537160>"
      ]
     },
     "execution_count": 33,
     "metadata": {},
     "output_type": "execute_result"
    },
    {
     "data": {
      "image/png": "[encoded data removed]",
      "text/plain": [
       "<Figure size 432x288 with 1 Axes>"
      ]
     },
     "metadata": {
      "needs_background": "light"
     },
     "output_type": "display_data"
    }
   ],
   "source": [
    "sns.scatterplot(x=\"Victims_Above_50_Yrs\" ,y=\"Victims_Upto_10_Yrs\",data=df)"
   ]
  },
  {
   "cell_type": "code",
   "execution_count": 34,
   "metadata": {},
   "outputs": [
    {
     "data": {
      "text/plain": [
       "<matplotlib.axes._subplots.AxesSubplot at 0x242a162b2e0>"
      ]
     },
     "execution_count": 34,
     "metadata": {},
     "output_type": "execute_result"
    },
    {
     "data": {
      "image/png": "[encoded data removed]",
      "text/plain": [
       "<Figure size 432x288 with 1 Axes>"
      ]
     },
     "metadata": {
      "needs_background": "light"
     },
     "output_type": "display_data"
    }
   ],
   "source": [
    "sns.scatterplot(x=\"Victims_Between_10-14_Yrs\" ,y=\"Victims_Upto_10_Yrs\",data=df)"
   ]
  },
  {
   "cell_type": "code",
   "execution_count": 35,
   "metadata": {},
   "outputs": [
    {
     "data": {
      "text/plain": [
       "<matplotlib.axes._subplots.AxesSubplot at 0x242a167f610>"
      ]
     },
     "execution_count": 35,
     "metadata": {},
     "output_type": "execute_result"
    },
    {
     "data": {
      "image/png": "[encoded data removed]",
      "text/plain": [
       "<Figure size 432x288 with 1 Axes>"
      ]
     },
     "metadata": {
      "needs_background": "light"
     },
     "output_type": "display_data"
    }
   ],
   "source": [
    "sns.scatterplot(x=\"Victims_Between_14-18_Yrs\" ,y=\"Victims_Upto_10_Yrs\",data=df)"
   ]
  },
  {
   "cell_type": "code",
   "execution_count": 36,
   "metadata": {},
   "outputs": [
    {
     "data": {
      "text/plain": [
       "<matplotlib.axes._subplots.AxesSubplot at 0x242a16c4640>"
      ]
     },
     "execution_count": 36,
     "metadata": {},
     "output_type": "execute_result"
    },
    {
     "data": {
      "image/png": "[encoded data removed]",
      "text/plain": [
       "<Figure size 432x288 with 1 Axes>"
      ]
     },
     "metadata": {
      "needs_background": "light"
     },
     "output_type": "display_data"
    }
   ],
   "source": [
    "sns.scatterplot(x=\"Victims_Between_18-30_Yrs\" ,y=\"Victims_Upto_10_Yrs\",data=df)"
   ]
  },
  {
   "cell_type": "code",
   "execution_count": 37,
   "metadata": {},
   "outputs": [
    {
     "data": {
      "text/plain": [
       "<matplotlib.axes._subplots.AxesSubplot at 0x242a1735f40>"
      ]
     },
     "execution_count": 37,
     "metadata": {},
     "output_type": "execute_result"
    },
    {
     "data": {
      "image/png": "[encoded data removed]",
      "text/plain": [
       "<Figure size 432x288 with 1 Axes>"
      ]
     },
     "metadata": {
      "needs_background": "light"
     },
     "output_type": "display_data"
    }
   ],
   "source": [
    "sns.scatterplot(x=\"Victims_Between_30-50_Yrs\" ,y=\"Victims_Upto_10_Yrs\",data=df)"
   ]
  },
  {
   "cell_type": "code",
   "execution_count": 38,
   "metadata": {},
   "outputs": [
    {
     "data": {
      "text/plain": [
       "<matplotlib.axes._subplots.AxesSubplot at 0x242a1735c10>"
      ]
     },
     "execution_count": 38,
     "metadata": {},
     "output_type": "execute_result"
    },
    {
     "data": {
      "image/png": "[encoded data removed]",
      "text/plain": [
       "<Figure size 432x288 with 1 Axes>"
      ]
     },
     "metadata": {
      "needs_background": "light"
     },
     "output_type": "display_data"
    }
   ],
   "source": [
    "sns.scatterplot(x=\"Victims_of_Rape_Total\" ,y=\"Victims_Upto_10_Yrs\",data=df)"
   ]
  },
  {
   "cell_type": "markdown",
   "metadata": {},
   "source": [
    "# Correlation"
   ]
  },
  {
   "cell_type": "code",
   "execution_count": 39,
   "metadata": {},
   "outputs": [
    {
     "data": {
      "text/html": [
       "<div>\n",
       "<style scoped>\n",
       "    .dataframe tbody tr th:only-of-type {\n",
       "        vertical-align: middle;\n",
       "    }\n",
       "\n",
       "    .dataframe tbody tr th {\n",
       "        vertical-align: top;\n",
       "    }\n",
       "\n",
       "    .dataframe thead th {\n",
       "        text-align: right;\n",
       "    }\n",
       "</style>\n",
       "<table border=\"1\" class=\"dataframe\">\n",
       "  <thead>\n",
       "    <tr style=\"text-align: right;\">\n",
       "      <th></th>\n",
       "      <th>Subgroup</th>\n",
       "      <th>Rape_Cases_Reported</th>\n",
       "      <th>Victims_Above_50_Yrs</th>\n",
       "      <th>Victims_Between_10-14_Yrs</th>\n",
       "      <th>Victims_Between_14-18_Yrs</th>\n",
       "      <th>Victims_Between_18-30_Yrs</th>\n",
       "      <th>Victims_Between_30-50_Yrs</th>\n",
       "      <th>Victims_of_Rape_Total</th>\n",
       "      <th>Victims_Upto_10_Yrs</th>\n",
       "    </tr>\n",
       "  </thead>\n",
       "  <tbody>\n",
       "    <tr>\n",
       "      <th>Subgroup</th>\n",
       "      <td>1.000000</td>\n",
       "      <td>-0.008539</td>\n",
       "      <td>-0.004405</td>\n",
       "      <td>-0.009029</td>\n",
       "      <td>-0.007902</td>\n",
       "      <td>-0.006593</td>\n",
       "      <td>-0.005493</td>\n",
       "      <td>-0.008542</td>\n",
       "      <td>-0.013492</td>\n",
       "    </tr>\n",
       "    <tr>\n",
       "      <th>Rape_Cases_Reported</th>\n",
       "      <td>-0.008539</td>\n",
       "      <td>1.000000</td>\n",
       "      <td>0.408043</td>\n",
       "      <td>0.702632</td>\n",
       "      <td>0.734990</td>\n",
       "      <td>0.941340</td>\n",
       "      <td>0.844041</td>\n",
       "      <td>0.999998</td>\n",
       "      <td>0.590668</td>\n",
       "    </tr>\n",
       "    <tr>\n",
       "      <th>Victims_Above_50_Yrs</th>\n",
       "      <td>-0.004405</td>\n",
       "      <td>0.408043</td>\n",
       "      <td>1.000000</td>\n",
       "      <td>0.409790</td>\n",
       "      <td>0.392500</td>\n",
       "      <td>0.336504</td>\n",
       "      <td>0.455022</td>\n",
       "      <td>0.407883</td>\n",
       "      <td>0.265470</td>\n",
       "    </tr>\n",
       "    <tr>\n",
       "      <th>Victims_Between_10-14_Yrs</th>\n",
       "      <td>-0.009029</td>\n",
       "      <td>0.702632</td>\n",
       "      <td>0.409790</td>\n",
       "      <td>1.000000</td>\n",
       "      <td>0.780137</td>\n",
       "      <td>0.549577</td>\n",
       "      <td>0.519155</td>\n",
       "      <td>0.702819</td>\n",
       "      <td>0.757034</td>\n",
       "    </tr>\n",
       "    <tr>\n",
       "      <th>Victims_Between_14-18_Yrs</th>\n",
       "      <td>-0.007902</td>\n",
       "      <td>0.734990</td>\n",
       "      <td>0.392500</td>\n",
       "      <td>0.780137</td>\n",
       "      <td>1.000000</td>\n",
       "      <td>0.552271</td>\n",
       "      <td>0.519818</td>\n",
       "      <td>0.735392</td>\n",
       "      <td>0.713011</td>\n",
       "    </tr>\n",
       "    <tr>\n",
       "      <th>Victims_Between_18-30_Yrs</th>\n",
       "      <td>-0.006593</td>\n",
       "      <td>0.941340</td>\n",
       "      <td>0.336504</td>\n",
       "      <td>0.549577</td>\n",
       "      <td>0.552271</td>\n",
       "      <td>1.000000</td>\n",
       "      <td>0.834480</td>\n",
       "      <td>0.941184</td>\n",
       "      <td>0.438297</td>\n",
       "    </tr>\n",
       "    <tr>\n",
       "      <th>Victims_Between_30-50_Yrs</th>\n",
       "      <td>-0.005493</td>\n",
       "      <td>0.844041</td>\n",
       "      <td>0.455022</td>\n",
       "      <td>0.519155</td>\n",
       "      <td>0.519818</td>\n",
       "      <td>0.834480</td>\n",
       "      <td>1.000000</td>\n",
       "      <td>0.843717</td>\n",
       "      <td>0.353516</td>\n",
       "    </tr>\n",
       "    <tr>\n",
       "      <th>Victims_of_Rape_Total</th>\n",
       "      <td>-0.008542</td>\n",
       "      <td>0.999998</td>\n",
       "      <td>0.407883</td>\n",
       "      <td>0.702819</td>\n",
       "      <td>0.735392</td>\n",
       "      <td>0.941184</td>\n",
       "      <td>0.843717</td>\n",
       "      <td>1.000000</td>\n",
       "      <td>0.591610</td>\n",
       "    </tr>\n",
       "    <tr>\n",
       "      <th>Victims_Upto_10_Yrs</th>\n",
       "      <td>-0.013492</td>\n",
       "      <td>0.590668</td>\n",
       "      <td>0.265470</td>\n",
       "      <td>0.757034</td>\n",
       "      <td>0.713011</td>\n",
       "      <td>0.438297</td>\n",
       "      <td>0.353516</td>\n",
       "      <td>0.591610</td>\n",
       "      <td>1.000000</td>\n",
       "    </tr>\n",
       "  </tbody>\n",
       "</table>\n",
       "</div>"
      ],
      "text/plain": [
       "                           Subgroup  Rape_Cases_Reported  \\\n",
       "Subgroup                   1.000000            -0.008539   \n",
       "Rape_Cases_Reported       -0.008539             1.000000   \n",
       "Victims_Above_50_Yrs      -0.004405             0.408043   \n",
       "Victims_Between_10-14_Yrs -0.009029             0.702632   \n",
       "Victims_Between_14-18_Yrs -0.007902             0.734990   \n",
       "Victims_Between_18-30_Yrs -0.006593             0.941340   \n",
       "Victims_Between_30-50_Yrs -0.005493             0.844041   \n",
       "Victims_of_Rape_Total     -0.008542             0.999998   \n",
       "Victims_Upto_10_Yrs       -0.013492             0.590668   \n",
       "\n",
       "                           Victims_Above_50_Yrs  Victims_Between_10-14_Yrs  \\\n",
       "Subgroup                              -0.004405                  -0.009029   \n",
       "Rape_Cases_Reported                    0.408043                   0.702632   \n",
       "Victims_Above_50_Yrs                   1.000000                   0.409790   \n",
       "Victims_Between_10-14_Yrs              0.409790                   1.000000   \n",
       "Victims_Between_14-18_Yrs              0.392500                   0.780137   \n",
       "Victims_Between_18-30_Yrs              0.336504                   0.549577   \n",
       "Victims_Between_30-50_Yrs              0.455022                   0.519155   \n",
       "Victims_of_Rape_Total                  0.407883                   0.702819   \n",
       "Victims_Upto_10_Yrs                    0.265470                   0.757034   \n",
       "\n",
       "                           Victims_Between_14-18_Yrs  \\\n",
       "Subgroup                                   -0.007902   \n",
       "Rape_Cases_Reported                         0.734990   \n",
       "Victims_Above_50_Yrs                        0.392500   \n",
       "Victims_Between_10-14_Yrs                   0.780137   \n",
       "Victims_Between_14-18_Yrs                   1.000000   \n",
       "Victims_Between_18-30_Yrs                   0.552271   \n",
       "Victims_Between_30-50_Yrs                   0.519818   \n",
       "Victims_of_Rape_Total                       0.735392   \n",
       "Victims_Upto_10_Yrs                         0.713011   \n",
       "\n",
       "                           Victims_Between_18-30_Yrs  \\\n",
       "Subgroup                                   -0.006593   \n",
       "Rape_Cases_Reported                         0.941340   \n",
       "Victims_Above_50_Yrs                        0.336504   \n",
       "Victims_Between_10-14_Yrs                   0.549577   \n",
       "Victims_Between_14-18_Yrs                   0.552271   \n",
       "Victims_Between_18-30_Yrs                   1.000000   \n",
       "Victims_Between_30-50_Yrs                   0.834480   \n",
       "Victims_of_Rape_Total                       0.941184   \n",
       "Victims_Upto_10_Yrs                         0.438297   \n",
       "\n",
       "                           Victims_Between_30-50_Yrs  Victims_of_Rape_Total  \\\n",
       "Subgroup                                   -0.005493              -0.008542   \n",
       "Rape_Cases_Reported                         0.844041               0.999998   \n",
       "Victims_Above_50_Yrs                        0.455022               0.407883   \n",
       "Victims_Between_10-14_Yrs                   0.519155               0.702819   \n",
       "Victims_Between_14-18_Yrs                   0.519818               0.735392   \n",
       "Victims_Between_18-30_Yrs                   0.834480               0.941184   \n",
       "Victims_Between_30-50_Yrs                   1.000000               0.843717   \n",
       "Victims_of_Rape_Total                       0.843717               1.000000   \n",
       "Victims_Upto_10_Yrs                         0.353516               0.591610   \n",
       "\n",
       "                           Victims_Upto_10_Yrs  \n",
       "Subgroup                             -0.013492  \n",
       "Rape_Cases_Reported                   0.590668  \n",
       "Victims_Above_50_Yrs                  0.265470  \n",
       "Victims_Between_10-14_Yrs             0.757034  \n",
       "Victims_Between_14-18_Yrs             0.713011  \n",
       "Victims_Between_18-30_Yrs             0.438297  \n",
       "Victims_Between_30-50_Yrs             0.353516  \n",
       "Victims_of_Rape_Total                 0.591610  \n",
       "Victims_Upto_10_Yrs                   1.000000  "
      ]
     },
     "execution_count": 39,
     "metadata": {},
     "output_type": "execute_result"
    }
   ],
   "source": [
    "df.corr()"
   ]
  },
  {
   "cell_type": "code",
   "execution_count": 40,
   "metadata": {},
   "outputs": [],
   "source": [
    "import seaborn as sns"
   ]
  },
  {
   "cell_type": "code",
   "execution_count": 41,
   "metadata": {},
   "outputs": [
    {
     "data": {
      "text/plain": [
       "<matplotlib.axes._subplots.AxesSubplot at 0x242a17e10a0>"
      ]
     },
     "execution_count": 41,
     "metadata": {},
     "output_type": "execute_result"
    },
    {
     "data": {
      "image/png": "[encoded data removed]",
      "text/plain": [
       "<Figure size 1080x504 with 2 Axes>"
      ]
     },
     "metadata": {
      "needs_background": "light"
     },
     "output_type": "display_data"
    }
   ],
   "source": [
    "import matplotlib.pyplot as plt\n",
    "plt.figure(figsize=(15,7))\n",
    "sns.heatmap(df.corr(), annot=True, linewidths=8.5, linecolor=\"black\", fmt= '.2f')\n"
   ]
  },
  {
   "cell_type": "markdown",
   "metadata": {},
   "source": [
    "Correlation define :- Positive Correlation =\n",
    "All Columns are positive Correlation except subgroup"
   ]
  },
  {
   "cell_type": "code",
   "execution_count": 42,
   "metadata": {},
   "outputs": [],
   "source": [
    "df.drop('Subgroup',axis=1,inplace=True)"
   ]
  },
  {
   "cell_type": "markdown",
   "metadata": {},
   "source": [
    "Describe Heatmap"
   ]
  },
  {
   "cell_type": "code",
   "execution_count": 43,
   "metadata": {},
   "outputs": [
    {
     "data": {
      "image/png": "[encoded data removed]",
      "text/plain": [
       "<Figure size 1080x864 with 2 Axes>"
      ]
     },
     "metadata": {
      "needs_background": "light"
     },
     "output_type": "display_data"
    }
   ],
   "source": [
    "plt.figure(figsize=(15,12))\n",
    "sns.heatmap(round(df.describe()[1:].transpose(),2), linewidth=2, annot=True,fmt=\"f\")\n",
    "plt.xticks(fontsize=18)\n",
    "plt.yticks(fontsize=12)\n",
    "plt.title(\"variables Summary\")\n",
    "plt.show()"
   ]
  },
  {
   "cell_type": "code",
   "execution_count": 44,
   "metadata": {},
   "outputs": [
    {
     "data": {
      "text/html": [
       "<div>\n",
       "<style scoped>\n",
       "    .dataframe tbody tr th:only-of-type {\n",
       "        vertical-align: middle;\n",
       "    }\n",
       "\n",
       "    .dataframe tbody tr th {\n",
       "        vertical-align: top;\n",
       "    }\n",
       "\n",
       "    .dataframe thead th {\n",
       "        text-align: right;\n",
       "    }\n",
       "</style>\n",
       "<table border=\"1\" class=\"dataframe\">\n",
       "  <thead>\n",
       "    <tr style=\"text-align: right;\">\n",
       "      <th></th>\n",
       "      <th>Rape_Cases_Reported</th>\n",
       "      <th>Victims_Above_50_Yrs</th>\n",
       "      <th>Victims_Between_10-14_Yrs</th>\n",
       "      <th>Victims_Between_14-18_Yrs</th>\n",
       "      <th>Victims_Between_18-30_Yrs</th>\n",
       "      <th>Victims_Between_30-50_Yrs</th>\n",
       "      <th>Victims_of_Rape_Total</th>\n",
       "      <th>Victims_Upto_10_Yrs</th>\n",
       "    </tr>\n",
       "  </thead>\n",
       "  <tbody>\n",
       "    <tr>\n",
       "      <th>count</th>\n",
       "      <td>1050.000000</td>\n",
       "      <td>1050.000000</td>\n",
       "      <td>1050.000000</td>\n",
       "      <td>1050.000000</td>\n",
       "      <td>1050.000000</td>\n",
       "      <td>1050.000000</td>\n",
       "      <td>1050.000000</td>\n",
       "      <td>1050.000000</td>\n",
       "    </tr>\n",
       "    <tr>\n",
       "      <th>mean</th>\n",
       "      <td>413.510337</td>\n",
       "      <td>5.975610</td>\n",
       "      <td>35.947902</td>\n",
       "      <td>73.925729</td>\n",
       "      <td>267.444976</td>\n",
       "      <td>92.332847</td>\n",
       "      <td>413.828074</td>\n",
       "      <td>16.645358</td>\n",
       "    </tr>\n",
       "    <tr>\n",
       "      <th>std</th>\n",
       "      <td>576.184394</td>\n",
       "      <td>3.722219</td>\n",
       "      <td>47.719591</td>\n",
       "      <td>110.213753</td>\n",
       "      <td>333.132471</td>\n",
       "      <td>109.840981</td>\n",
       "      <td>576.403579</td>\n",
       "      <td>17.793069</td>\n",
       "    </tr>\n",
       "    <tr>\n",
       "      <th>min</th>\n",
       "      <td>1.000000</td>\n",
       "      <td>1.000000</td>\n",
       "      <td>1.000000</td>\n",
       "      <td>1.000000</td>\n",
       "      <td>1.000000</td>\n",
       "      <td>1.000000</td>\n",
       "      <td>1.000000</td>\n",
       "      <td>1.000000</td>\n",
       "    </tr>\n",
       "    <tr>\n",
       "      <th>25%</th>\n",
       "      <td>16.000000</td>\n",
       "      <td>5.975610</td>\n",
       "      <td>5.000000</td>\n",
       "      <td>6.000000</td>\n",
       "      <td>11.000000</td>\n",
       "      <td>16.000000</td>\n",
       "      <td>16.000000</td>\n",
       "      <td>4.000000</td>\n",
       "    </tr>\n",
       "    <tr>\n",
       "      <th>50%</th>\n",
       "      <td>160.000000</td>\n",
       "      <td>5.975610</td>\n",
       "      <td>35.947902</td>\n",
       "      <td>51.000000</td>\n",
       "      <td>217.500000</td>\n",
       "      <td>92.332847</td>\n",
       "      <td>160.000000</td>\n",
       "      <td>16.645358</td>\n",
       "    </tr>\n",
       "    <tr>\n",
       "      <th>75%</th>\n",
       "      <td>527.500000</td>\n",
       "      <td>5.975610</td>\n",
       "      <td>35.947902</td>\n",
       "      <td>73.925729</td>\n",
       "      <td>308.000000</td>\n",
       "      <td>92.332847</td>\n",
       "      <td>531.500000</td>\n",
       "      <td>16.645358</td>\n",
       "    </tr>\n",
       "    <tr>\n",
       "      <th>max</th>\n",
       "      <td>3135.000000</td>\n",
       "      <td>43.000000</td>\n",
       "      <td>416.000000</td>\n",
       "      <td>826.000000</td>\n",
       "      <td>1835.000000</td>\n",
       "      <td>811.000000</td>\n",
       "      <td>3136.000000</td>\n",
       "      <td>131.000000</td>\n",
       "    </tr>\n",
       "  </tbody>\n",
       "</table>\n",
       "</div>"
      ],
      "text/plain": [
       "       Rape_Cases_Reported  Victims_Above_50_Yrs  Victims_Between_10-14_Yrs  \\\n",
       "count          1050.000000           1050.000000                1050.000000   \n",
       "mean            413.510337              5.975610                  35.947902   \n",
       "std             576.184394              3.722219                  47.719591   \n",
       "min               1.000000              1.000000                   1.000000   \n",
       "25%              16.000000              5.975610                   5.000000   \n",
       "50%             160.000000              5.975610                  35.947902   \n",
       "75%             527.500000              5.975610                  35.947902   \n",
       "max            3135.000000             43.000000                 416.000000   \n",
       "\n",
       "       Victims_Between_14-18_Yrs  Victims_Between_18-30_Yrs  \\\n",
       "count                1050.000000                1050.000000   \n",
       "mean                   73.925729                 267.444976   \n",
       "std                   110.213753                 333.132471   \n",
       "min                     1.000000                   1.000000   \n",
       "25%                     6.000000                  11.000000   \n",
       "50%                    51.000000                 217.500000   \n",
       "75%                    73.925729                 308.000000   \n",
       "max                   826.000000                1835.000000   \n",
       "\n",
       "       Victims_Between_30-50_Yrs  Victims_of_Rape_Total  Victims_Upto_10_Yrs  \n",
       "count                1050.000000            1050.000000          1050.000000  \n",
       "mean                   92.332847             413.828074            16.645358  \n",
       "std                   109.840981             576.403579            17.793069  \n",
       "min                     1.000000               1.000000             1.000000  \n",
       "25%                    16.000000              16.000000             4.000000  \n",
       "50%                    92.332847             160.000000            16.645358  \n",
       "75%                    92.332847             531.500000            16.645358  \n",
       "max                   811.000000            3136.000000           131.000000  "
      ]
     },
     "execution_count": 44,
     "metadata": {},
     "output_type": "execute_result"
    }
   ],
   "source": [
    "df.describe()"
   ]
  },
  {
   "cell_type": "code",
   "execution_count": 45,
   "metadata": {},
   "outputs": [
    {
     "data": {
      "image/png": "[encoded data removed]",
      "text/plain": [
       "<Figure size 936x1800 with 8 Axes>"
      ]
     },
     "metadata": {
      "needs_background": "light"
     },
     "output_type": "display_data"
    }
   ],
   "source": [
    "import itertools\n",
    "cols= ['Rape_Cases_Reported', 'Victims_Above_50_Yrs',\n",
    "       'Victims_Between_10-14_Yrs', 'Victims_Between_14-18_Yrs',\n",
    "       'Victims_Between_18-30_Yrs', 'Victims_Between_30-50_Yrs',\n",
    "       'Victims_of_Rape_Total', 'Victims_Upto_10_Yrs']\n",
    "length =len(cols)\n",
    "cs=[\"r\"]\n",
    "fig = plt.figure(figsize=(13,25))\n",
    "\n",
    "for i,j,k in itertools.zip_longest(cols,range(length),cs):\n",
    "    plt.subplot(4,2,j+1)\n",
    "    ax= sns.distplot(df[i],color=k,rug=True)\n",
    "    ax.set_facecolor=(\"w\")\n",
    "    plt.axvline(df[i].mean(),linestyle=\"dashed\", label=\"mean\", color=\"k\")\n",
    "    plt.legend(loc=\"best\")\n",
    "    plt.title(i, color=\"b\")\n",
    "    plt.xlabel(\"\")\n",
    "    \n",
    "    import warnings\n",
    "    warnings.filterwarnings('ignore')\n"
   ]
  },
  {
   "cell_type": "code",
   "execution_count": 46,
   "metadata": {},
   "outputs": [
    {
     "data": {
      "text/plain": [
       "array([[<matplotlib.axes._subplots.AxesSubplot object at 0x00000242A24F95B0>,\n",
       "        <matplotlib.axes._subplots.AxesSubplot object at 0x00000242A2588D90>,\n",
       "        <matplotlib.axes._subplots.AxesSubplot object at 0x00000242A336E5E0>],\n",
       "       [<matplotlib.axes._subplots.AxesSubplot object at 0x00000242A1676910>,\n",
       "        <matplotlib.axes._subplots.AxesSubplot object at 0x00000242A1607FD0>,\n",
       "        <matplotlib.axes._subplots.AxesSubplot object at 0x00000242A1AEA160>],\n",
       "       [<matplotlib.axes._subplots.AxesSubplot object at 0x00000242A1AEA370>,\n",
       "        <matplotlib.axes._subplots.AxesSubplot object at 0x00000242A155D370>,\n",
       "        <matplotlib.axes._subplots.AxesSubplot object at 0x00000242A1DDFA30>]],\n",
       "      dtype=object)"
      ]
     },
     "execution_count": 46,
     "metadata": {},
     "output_type": "execute_result"
    },
    {
     "data": {
      "image/png": "[encoded data removed]",
      "text/plain": [
       "<Figure size 1440x1440 with 9 Axes>"
      ]
     },
     "metadata": {
      "needs_background": "light"
     },
     "output_type": "display_data"
    }
   ],
   "source": [
    "df.hist(edgecolor='red', linewidth=1.5, figsize=(20,20))"
   ]
  },
  {
   "cell_type": "code",
   "execution_count": 47,
   "metadata": {},
   "outputs": [
    {
     "data": {
      "text/plain": [
       "Rape_Cases_Reported          0\n",
       "Victims_Above_50_Yrs         0\n",
       "Victims_Between_10-14_Yrs    0\n",
       "Victims_Between_14-18_Yrs    0\n",
       "Victims_Between_18-30_Yrs    0\n",
       "Victims_Between_30-50_Yrs    0\n",
       "Victims_of_Rape_Total        0\n",
       "Victims_Upto_10_Yrs          0\n",
       "dtype: int64"
      ]
     },
     "execution_count": 47,
     "metadata": {},
     "output_type": "execute_result"
    }
   ],
   "source": [
    "df.isnull().sum()"
   ]
  },
  {
   "cell_type": "code",
   "execution_count": 48,
   "metadata": {},
   "outputs": [
    {
     "data": {
      "text/plain": [
       "Rape_Cases_Reported          2.180660\n",
       "Victims_Above_50_Yrs         4.390177\n",
       "Victims_Between_10-14_Yrs    3.513554\n",
       "Victims_Between_14-18_Yrs    3.251018\n",
       "Victims_Between_18-30_Yrs    1.983985\n",
       "Victims_Between_30-50_Yrs    2.794168\n",
       "Victims_of_Rape_Total        2.178968\n",
       "Victims_Upto_10_Yrs          2.760191\n",
       "dtype: float64"
      ]
     },
     "execution_count": 48,
     "metadata": {},
     "output_type": "execute_result"
    }
   ],
   "source": [
    "df.skew()"
   ]
  },
  {
   "cell_type": "markdown",
   "metadata": {},
   "source": [
    "High Skewness shows"
   ]
  },
  {
   "cell_type": "markdown",
   "metadata": {},
   "source": [
    "# Data Transformation:"
   ]
  },
  {
   "cell_type": "markdown",
   "metadata": {},
   "source": [
    "Outliers Check and Remove"
   ]
  },
  {
   "cell_type": "code",
   "execution_count": 49,
   "metadata": {},
   "outputs": [
    {
     "data": {
      "text/plain": [
       "<matplotlib.axes._subplots.AxesSubplot at 0x242a200e280>"
      ]
     },
     "execution_count": 49,
     "metadata": {},
     "output_type": "execute_result"
    },
    {
     "data": {
      "image/png": "[encoded data removed]",
      "text/plain": [
       "<Figure size 432x288 with 1 Axes>"
      ]
     },
     "metadata": {
      "needs_background": "light"
     },
     "output_type": "display_data"
    }
   ],
   "source": [
    "df['Rape_Cases_Reported'].plot.box()"
   ]
  },
  {
   "cell_type": "code",
   "execution_count": 50,
   "metadata": {},
   "outputs": [
    {
     "data": {
      "text/plain": [
       "<matplotlib.axes._subplots.AxesSubplot at 0x242a2064190>"
      ]
     },
     "execution_count": 50,
     "metadata": {},
     "output_type": "execute_result"
    },
    {
     "data": {
      "image/png": "[encoded data removed]",
      "text/plain": [
       "<Figure size 432x288 with 1 Axes>"
      ]
     },
     "metadata": {
      "needs_background": "light"
     },
     "output_type": "display_data"
    }
   ],
   "source": [
    "df['Victims_Above_50_Yrs'].plot.box()"
   ]
  },
  {
   "cell_type": "code",
   "execution_count": 51,
   "metadata": {},
   "outputs": [
    {
     "data": {
      "text/plain": [
       "<matplotlib.axes._subplots.AxesSubplot at 0x242a205ff40>"
      ]
     },
     "execution_count": 51,
     "metadata": {},
     "output_type": "execute_result"
    },
    {
     "data": {
      "image/png": "[encoded data removed]",
      "text/plain": [
       "<Figure size 432x288 with 1 Axes>"
      ]
     },
     "metadata": {
      "needs_background": "light"
     },
     "output_type": "display_data"
    }
   ],
   "source": [
    "df['Victims_Between_10-14_Yrs'].plot.box()"
   ]
  },
  {
   "cell_type": "code",
   "execution_count": 52,
   "metadata": {},
   "outputs": [
    {
     "data": {
      "text/plain": [
       "<matplotlib.axes._subplots.AxesSubplot at 0x242a2121460>"
      ]
     },
     "execution_count": 52,
     "metadata": {},
     "output_type": "execute_result"
    },
    {
     "data": {
      "image/png": "[encoded data removed]",
      "text/plain": [
       "<Figure size 432x288 with 1 Axes>"
      ]
     },
     "metadata": {
      "needs_background": "light"
     },
     "output_type": "display_data"
    }
   ],
   "source": [
    "df['Victims_Between_14-18_Yrs'].plot.box()"
   ]
  },
  {
   "cell_type": "code",
   "execution_count": 53,
   "metadata": {},
   "outputs": [
    {
     "data": {
      "text/plain": [
       "<matplotlib.axes._subplots.AxesSubplot at 0x242a216d160>"
      ]
     },
     "execution_count": 53,
     "metadata": {},
     "output_type": "execute_result"
    },
    {
     "data": {
      "image/png": "[encoded data removed]",
      "text/plain": [
       "<Figure size 432x288 with 1 Axes>"
      ]
     },
     "metadata": {
      "needs_background": "light"
     },
     "output_type": "display_data"
    }
   ],
   "source": [
    "df['Victims_Between_18-30_Yrs'].plot.box()"
   ]
  },
  {
   "cell_type": "code",
   "execution_count": 54,
   "metadata": {},
   "outputs": [
    {
     "data": {
      "text/plain": [
       "<matplotlib.axes._subplots.AxesSubplot at 0x242a21c6610>"
      ]
     },
     "execution_count": 54,
     "metadata": {},
     "output_type": "execute_result"
    },
    {
     "data": {
      "image/png": "[encoded data removed]",
      "text/plain": [
       "<Figure size 432x288 with 1 Axes>"
      ]
     },
     "metadata": {
      "needs_background": "light"
     },
     "output_type": "display_data"
    }
   ],
   "source": [
    "df['Victims_Between_30-50_Yrs'].plot.box()"
   ]
  },
  {
   "cell_type": "code",
   "execution_count": 55,
   "metadata": {},
   "outputs": [
    {
     "data": {
      "text/plain": [
       "<matplotlib.axes._subplots.AxesSubplot at 0x242a2224ca0>"
      ]
     },
     "execution_count": 55,
     "metadata": {},
     "output_type": "execute_result"
    },
    {
     "data": {
      "image/png": "[encoded data removed]",
      "text/plain": [
       "<Figure size 432x288 with 1 Axes>"
      ]
     },
     "metadata": {
      "needs_background": "light"
     },
     "output_type": "display_data"
    }
   ],
   "source": [
    "df['Victims_of_Rape_Total'].plot.box()"
   ]
  },
  {
   "cell_type": "code",
   "execution_count": 56,
   "metadata": {},
   "outputs": [
    {
     "data": {
      "text/plain": [
       "<matplotlib.axes._subplots.AxesSubplot at 0x242a2283190>"
      ]
     },
     "execution_count": 56,
     "metadata": {},
     "output_type": "execute_result"
    },
    {
     "data": {
      "image/png": "[encoded data removed]",
      "text/plain": [
       "<Figure size 432x288 with 1 Axes>"
      ]
     },
     "metadata": {
      "needs_background": "light"
     },
     "output_type": "display_data"
    }
   ],
   "source": [
    "df['Victims_Upto_10_Yrs'].plot.box()"
   ]
  },
  {
   "cell_type": "code",
   "execution_count": 57,
   "metadata": {},
   "outputs": [
    {
     "data": {
      "text/plain": [
       "(array([ 108,  110,  111,  111,  113,  113,  117,  119,  141,  143,  180,\n",
       "         182,  195,  197,  204,  204,  206,  206,  285,  288,  290,  291,\n",
       "         570,  570,  570,  570,  570,  570,  570,  572,  572,  572,  572,\n",
       "         572,  572,  572,  573,  573,  573,  573,  573,  573,  575,  575,\n",
       "         575,  575,  575,  576,  576,  576,  576,  576,  576,  578,  578,\n",
       "         578,  578,  578,  579,  579,  579,  579,  579,  579,  581,  581,\n",
       "         581,  581,  581,  581,  582,  582,  582,  582,  582,  582,  582,\n",
       "         582,  584,  584,  584,  584,  584,  584,  584,  584,  585,  585,\n",
       "         585,  585,  585,  587,  587,  587,  587,  587,  588,  588,  588,\n",
       "         588,  588,  588,  588,  590,  590,  590,  590,  590,  590,  590,\n",
       "         591,  591,  591,  591,  591,  591,  591,  593,  593,  593,  593,\n",
       "         593,  593,  593,  594,  594,  594,  594,  594,  594,  594,  596,\n",
       "         596,  596,  596,  596,  596,  596,  597,  597,  597,  597,  597,\n",
       "         597,  599,  599,  599,  599,  599,  599,  600,  600,  602,  602,\n",
       "         606,  606,  608,  608,  609,  609,  611,  612,  612,  614,  614,\n",
       "         615,  615,  617,  617,  618,  620,  621,  621,  623,  623,  624,\n",
       "         626,  627,  627,  629,  629,  867,  869,  960,  962,  981,  983,\n",
       "         984,  986, 1029, 1031, 1032, 1034, 1035, 1037, 1038, 1038, 1040,\n",
       "        1040, 1041, 1041, 1041, 1041, 1043, 1043, 1043, 1043, 1044, 1044,\n",
       "        1044, 1046, 1046, 1046, 1047, 1047, 1047, 1047, 1049, 1049, 1049,\n",
       "        1049], dtype=int64),\n",
       " array([5, 5, 1, 5, 1, 5, 5, 5, 1, 1, 2, 2, 1, 1, 2, 7, 2, 7, 7, 7, 7, 7,\n",
       "        0, 1, 2, 3, 5, 6, 7, 0, 1, 2, 3, 5, 6, 7, 0, 2, 4, 5, 6, 7, 0, 4,\n",
       "        5, 6, 7, 0, 2, 3, 4, 5, 6, 0, 2, 4, 5, 6, 0, 2, 4, 5, 6, 7, 0, 2,\n",
       "        4, 5, 6, 7, 0, 1, 2, 3, 4, 5, 6, 7, 0, 1, 2, 3, 4, 5, 6, 7, 0, 3,\n",
       "        4, 5, 6, 0, 3, 4, 5, 6, 0, 1, 2, 3, 4, 5, 6, 0, 1, 2, 3, 4, 5, 6,\n",
       "        0, 1, 2, 3, 4, 5, 6, 0, 1, 2, 3, 4, 5, 6, 0, 2, 3, 4, 5, 6, 7, 0,\n",
       "        2, 3, 4, 5, 6, 7, 0, 2, 3, 4, 5, 6, 0, 2, 3, 4, 5, 6, 3, 7, 3, 7,\n",
       "        3, 7, 3, 7, 3, 7, 7, 3, 7, 3, 7, 3, 7, 3, 7, 7, 7, 3, 7, 3, 7, 7,\n",
       "        7, 3, 7, 3, 7, 1, 1, 3, 3, 3, 3, 2, 2, 5, 5, 4, 4, 4, 4, 4, 5, 4,\n",
       "        5, 0, 4, 5, 6, 0, 4, 5, 6, 0, 4, 6, 0, 4, 6, 0, 4, 5, 6, 0, 4, 5,\n",
       "        6], dtype=int64))"
      ]
     },
     "execution_count": 57,
     "metadata": {},
     "output_type": "execute_result"
    }
   ],
   "source": [
    "from scipy.stats import zscore\n",
    "import numpy as np\n",
    "z=np.abs(zscore(df))\n",
    "threshold =3\n",
    "np.where(z>3)"
   ]
  },
  {
   "cell_type": "code",
   "execution_count": 58,
   "metadata": {},
   "outputs": [],
   "source": [
    "df_new=df[(z<3).all(axis=1)]"
   ]
  },
  {
   "cell_type": "code",
   "execution_count": 59,
   "metadata": {},
   "outputs": [
    {
     "data": {
      "text/html": [
       "<div>\n",
       "<style scoped>\n",
       "    .dataframe tbody tr th:only-of-type {\n",
       "        vertical-align: middle;\n",
       "    }\n",
       "\n",
       "    .dataframe tbody tr th {\n",
       "        vertical-align: top;\n",
       "    }\n",
       "\n",
       "    .dataframe thead th {\n",
       "        text-align: right;\n",
       "    }\n",
       "</style>\n",
       "<table border=\"1\" class=\"dataframe\">\n",
       "  <thead>\n",
       "    <tr style=\"text-align: right;\">\n",
       "      <th></th>\n",
       "      <th>Rape_Cases_Reported</th>\n",
       "      <th>Victims_Above_50_Yrs</th>\n",
       "      <th>Victims_Between_10-14_Yrs</th>\n",
       "      <th>Victims_Between_14-18_Yrs</th>\n",
       "      <th>Victims_Between_18-30_Yrs</th>\n",
       "      <th>Victims_Between_30-50_Yrs</th>\n",
       "      <th>Victims_of_Rape_Total</th>\n",
       "      <th>Victims_Upto_10_Yrs</th>\n",
       "    </tr>\n",
       "  </thead>\n",
       "  <tbody>\n",
       "    <tr>\n",
       "      <th>0</th>\n",
       "      <td>3.000000</td>\n",
       "      <td>5.97561</td>\n",
       "      <td>35.947902</td>\n",
       "      <td>3.000000</td>\n",
       "      <td>267.444976</td>\n",
       "      <td>92.332847</td>\n",
       "      <td>3.000000</td>\n",
       "      <td>16.645358</td>\n",
       "    </tr>\n",
       "    <tr>\n",
       "      <th>1</th>\n",
       "      <td>1.000000</td>\n",
       "      <td>5.97561</td>\n",
       "      <td>35.947902</td>\n",
       "      <td>1.000000</td>\n",
       "      <td>267.444976</td>\n",
       "      <td>92.332847</td>\n",
       "      <td>1.000000</td>\n",
       "      <td>16.645358</td>\n",
       "    </tr>\n",
       "    <tr>\n",
       "      <th>2</th>\n",
       "      <td>2.000000</td>\n",
       "      <td>5.97561</td>\n",
       "      <td>35.947902</td>\n",
       "      <td>2.000000</td>\n",
       "      <td>267.444976</td>\n",
       "      <td>92.332847</td>\n",
       "      <td>2.000000</td>\n",
       "      <td>16.645358</td>\n",
       "    </tr>\n",
       "    <tr>\n",
       "      <th>3</th>\n",
       "      <td>2.000000</td>\n",
       "      <td>5.97561</td>\n",
       "      <td>35.947902</td>\n",
       "      <td>1.000000</td>\n",
       "      <td>1.000000</td>\n",
       "      <td>92.332847</td>\n",
       "      <td>2.000000</td>\n",
       "      <td>16.645358</td>\n",
       "    </tr>\n",
       "    <tr>\n",
       "      <th>4</th>\n",
       "      <td>413.510337</td>\n",
       "      <td>5.97561</td>\n",
       "      <td>35.947902</td>\n",
       "      <td>73.925729</td>\n",
       "      <td>267.444976</td>\n",
       "      <td>92.332847</td>\n",
       "      <td>413.828074</td>\n",
       "      <td>16.645358</td>\n",
       "    </tr>\n",
       "    <tr>\n",
       "      <th>...</th>\n",
       "      <td>...</td>\n",
       "      <td>...</td>\n",
       "      <td>...</td>\n",
       "      <td>...</td>\n",
       "      <td>...</td>\n",
       "      <td>...</td>\n",
       "      <td>...</td>\n",
       "      <td>...</td>\n",
       "    </tr>\n",
       "    <tr>\n",
       "      <th>1036</th>\n",
       "      <td>6.000000</td>\n",
       "      <td>5.97561</td>\n",
       "      <td>35.947902</td>\n",
       "      <td>73.925729</td>\n",
       "      <td>6.000000</td>\n",
       "      <td>92.332847</td>\n",
       "      <td>6.000000</td>\n",
       "      <td>16.645358</td>\n",
       "    </tr>\n",
       "    <tr>\n",
       "      <th>1039</th>\n",
       "      <td>114.000000</td>\n",
       "      <td>5.97561</td>\n",
       "      <td>2.000000</td>\n",
       "      <td>3.000000</td>\n",
       "      <td>81.000000</td>\n",
       "      <td>25.000000</td>\n",
       "      <td>114.000000</td>\n",
       "      <td>3.000000</td>\n",
       "    </tr>\n",
       "    <tr>\n",
       "      <th>1042</th>\n",
       "      <td>9.000000</td>\n",
       "      <td>5.97561</td>\n",
       "      <td>2.000000</td>\n",
       "      <td>1.000000</td>\n",
       "      <td>1.000000</td>\n",
       "      <td>92.332847</td>\n",
       "      <td>9.000000</td>\n",
       "      <td>5.000000</td>\n",
       "    </tr>\n",
       "    <tr>\n",
       "      <th>1045</th>\n",
       "      <td>3.000000</td>\n",
       "      <td>5.97561</td>\n",
       "      <td>35.947902</td>\n",
       "      <td>1.000000</td>\n",
       "      <td>1.000000</td>\n",
       "      <td>1.000000</td>\n",
       "      <td>3.000000</td>\n",
       "      <td>16.645358</td>\n",
       "    </tr>\n",
       "    <tr>\n",
       "      <th>1048</th>\n",
       "      <td>4.000000</td>\n",
       "      <td>5.97561</td>\n",
       "      <td>1.000000</td>\n",
       "      <td>73.925729</td>\n",
       "      <td>2.000000</td>\n",
       "      <td>1.000000</td>\n",
       "      <td>4.000000</td>\n",
       "      <td>16.645358</td>\n",
       "    </tr>\n",
       "  </tbody>\n",
       "</table>\n",
       "<p>972 rows × 8 columns</p>\n",
       "</div>"
      ],
      "text/plain": [
       "      Rape_Cases_Reported  Victims_Above_50_Yrs  Victims_Between_10-14_Yrs  \\\n",
       "0                3.000000               5.97561                  35.947902   \n",
       "1                1.000000               5.97561                  35.947902   \n",
       "2                2.000000               5.97561                  35.947902   \n",
       "3                2.000000               5.97561                  35.947902   \n",
       "4              413.510337               5.97561                  35.947902   \n",
       "...                   ...                   ...                        ...   \n",
       "1036             6.000000               5.97561                  35.947902   \n",
       "1039           114.000000               5.97561                   2.000000   \n",
       "1042             9.000000               5.97561                   2.000000   \n",
       "1045             3.000000               5.97561                  35.947902   \n",
       "1048             4.000000               5.97561                   1.000000   \n",
       "\n",
       "      Victims_Between_14-18_Yrs  Victims_Between_18-30_Yrs  \\\n",
       "0                      3.000000                 267.444976   \n",
       "1                      1.000000                 267.444976   \n",
       "2                      2.000000                 267.444976   \n",
       "3                      1.000000                   1.000000   \n",
       "4                     73.925729                 267.444976   \n",
       "...                         ...                        ...   \n",
       "1036                  73.925729                   6.000000   \n",
       "1039                   3.000000                  81.000000   \n",
       "1042                   1.000000                   1.000000   \n",
       "1045                   1.000000                   1.000000   \n",
       "1048                  73.925729                   2.000000   \n",
       "\n",
       "      Victims_Between_30-50_Yrs  Victims_of_Rape_Total  Victims_Upto_10_Yrs  \n",
       "0                     92.332847               3.000000            16.645358  \n",
       "1                     92.332847               1.000000            16.645358  \n",
       "2                     92.332847               2.000000            16.645358  \n",
       "3                     92.332847               2.000000            16.645358  \n",
       "4                     92.332847             413.828074            16.645358  \n",
       "...                         ...                    ...                  ...  \n",
       "1036                  92.332847               6.000000            16.645358  \n",
       "1039                  25.000000             114.000000             3.000000  \n",
       "1042                  92.332847               9.000000             5.000000  \n",
       "1045                   1.000000               3.000000            16.645358  \n",
       "1048                   1.000000               4.000000            16.645358  \n",
       "\n",
       "[972 rows x 8 columns]"
      ]
     },
     "execution_count": 59,
     "metadata": {},
     "output_type": "execute_result"
    }
   ],
   "source": [
    "df_new"
   ]
  },
  {
   "cell_type": "code",
   "execution_count": 60,
   "metadata": {},
   "outputs": [
    {
     "data": {
      "text/plain": [
       "(1050, 8)"
      ]
     },
     "execution_count": 60,
     "metadata": {},
     "output_type": "execute_result"
    }
   ],
   "source": [
    "df.shape"
   ]
  },
  {
   "cell_type": "markdown",
   "metadata": {},
   "source": [
    "#Percentage loss of Data after removing outliers"
   ]
  },
  {
   "cell_type": "code",
   "execution_count": 61,
   "metadata": {},
   "outputs": [
    {
     "name": "stdout",
     "output_type": "stream",
     "text": [
      "7.428571428571429\n"
     ]
    }
   ],
   "source": [
    "percentage_loss=((1050-972)/1050)*100\n",
    "print(percentage_loss)"
   ]
  },
  {
   "cell_type": "code",
   "execution_count": 62,
   "metadata": {},
   "outputs": [],
   "source": [
    "x=df.iloc[:, 0:-1]"
   ]
  },
  {
   "cell_type": "code",
   "execution_count": 63,
   "metadata": {},
   "outputs": [
    {
     "data": {
      "text/html": [
       "<div>\n",
       "<style scoped>\n",
       "    .dataframe tbody tr th:only-of-type {\n",
       "        vertical-align: middle;\n",
       "    }\n",
       "\n",
       "    .dataframe tbody tr th {\n",
       "        vertical-align: top;\n",
       "    }\n",
       "\n",
       "    .dataframe thead th {\n",
       "        text-align: right;\n",
       "    }\n",
       "</style>\n",
       "<table border=\"1\" class=\"dataframe\">\n",
       "  <thead>\n",
       "    <tr style=\"text-align: right;\">\n",
       "      <th></th>\n",
       "      <th>Rape_Cases_Reported</th>\n",
       "      <th>Victims_Above_50_Yrs</th>\n",
       "      <th>Victims_Between_10-14_Yrs</th>\n",
       "      <th>Victims_Between_14-18_Yrs</th>\n",
       "      <th>Victims_Between_18-30_Yrs</th>\n",
       "      <th>Victims_Between_30-50_Yrs</th>\n",
       "      <th>Victims_of_Rape_Total</th>\n",
       "    </tr>\n",
       "  </thead>\n",
       "  <tbody>\n",
       "    <tr>\n",
       "      <th>0</th>\n",
       "      <td>3.000000</td>\n",
       "      <td>5.97561</td>\n",
       "      <td>35.947902</td>\n",
       "      <td>3.000000</td>\n",
       "      <td>267.444976</td>\n",
       "      <td>92.332847</td>\n",
       "      <td>3.000000</td>\n",
       "    </tr>\n",
       "    <tr>\n",
       "      <th>1</th>\n",
       "      <td>1.000000</td>\n",
       "      <td>5.97561</td>\n",
       "      <td>35.947902</td>\n",
       "      <td>1.000000</td>\n",
       "      <td>267.444976</td>\n",
       "      <td>92.332847</td>\n",
       "      <td>1.000000</td>\n",
       "    </tr>\n",
       "    <tr>\n",
       "      <th>2</th>\n",
       "      <td>2.000000</td>\n",
       "      <td>5.97561</td>\n",
       "      <td>35.947902</td>\n",
       "      <td>2.000000</td>\n",
       "      <td>267.444976</td>\n",
       "      <td>92.332847</td>\n",
       "      <td>2.000000</td>\n",
       "    </tr>\n",
       "    <tr>\n",
       "      <th>3</th>\n",
       "      <td>2.000000</td>\n",
       "      <td>5.97561</td>\n",
       "      <td>35.947902</td>\n",
       "      <td>1.000000</td>\n",
       "      <td>1.000000</td>\n",
       "      <td>92.332847</td>\n",
       "      <td>2.000000</td>\n",
       "    </tr>\n",
       "    <tr>\n",
       "      <th>4</th>\n",
       "      <td>413.510337</td>\n",
       "      <td>5.97561</td>\n",
       "      <td>35.947902</td>\n",
       "      <td>73.925729</td>\n",
       "      <td>267.444976</td>\n",
       "      <td>92.332847</td>\n",
       "      <td>413.828074</td>\n",
       "    </tr>\n",
       "    <tr>\n",
       "      <th>...</th>\n",
       "      <td>...</td>\n",
       "      <td>...</td>\n",
       "      <td>...</td>\n",
       "      <td>...</td>\n",
       "      <td>...</td>\n",
       "      <td>...</td>\n",
       "      <td>...</td>\n",
       "    </tr>\n",
       "    <tr>\n",
       "      <th>1045</th>\n",
       "      <td>3.000000</td>\n",
       "      <td>5.97561</td>\n",
       "      <td>35.947902</td>\n",
       "      <td>1.000000</td>\n",
       "      <td>1.000000</td>\n",
       "      <td>1.000000</td>\n",
       "      <td>3.000000</td>\n",
       "    </tr>\n",
       "    <tr>\n",
       "      <th>1046</th>\n",
       "      <td>2333.000000</td>\n",
       "      <td>5.97561</td>\n",
       "      <td>18.000000</td>\n",
       "      <td>84.000000</td>\n",
       "      <td>1834.000000</td>\n",
       "      <td>391.000000</td>\n",
       "      <td>2333.000000</td>\n",
       "    </tr>\n",
       "    <tr>\n",
       "      <th>1047</th>\n",
       "      <td>2311.000000</td>\n",
       "      <td>5.97561</td>\n",
       "      <td>22.000000</td>\n",
       "      <td>51.000000</td>\n",
       "      <td>1779.000000</td>\n",
       "      <td>459.000000</td>\n",
       "      <td>2311.000000</td>\n",
       "    </tr>\n",
       "    <tr>\n",
       "      <th>1048</th>\n",
       "      <td>4.000000</td>\n",
       "      <td>5.97561</td>\n",
       "      <td>1.000000</td>\n",
       "      <td>73.925729</td>\n",
       "      <td>2.000000</td>\n",
       "      <td>1.000000</td>\n",
       "      <td>4.000000</td>\n",
       "    </tr>\n",
       "    <tr>\n",
       "      <th>1049</th>\n",
       "      <td>2307.000000</td>\n",
       "      <td>5.97561</td>\n",
       "      <td>21.000000</td>\n",
       "      <td>51.000000</td>\n",
       "      <td>1777.000000</td>\n",
       "      <td>458.000000</td>\n",
       "      <td>2307.000000</td>\n",
       "    </tr>\n",
       "  </tbody>\n",
       "</table>\n",
       "<p>1050 rows × 7 columns</p>\n",
       "</div>"
      ],
      "text/plain": [
       "      Rape_Cases_Reported  Victims_Above_50_Yrs  Victims_Between_10-14_Yrs  \\\n",
       "0                3.000000               5.97561                  35.947902   \n",
       "1                1.000000               5.97561                  35.947902   \n",
       "2                2.000000               5.97561                  35.947902   \n",
       "3                2.000000               5.97561                  35.947902   \n",
       "4              413.510337               5.97561                  35.947902   \n",
       "...                   ...                   ...                        ...   \n",
       "1045             3.000000               5.97561                  35.947902   \n",
       "1046          2333.000000               5.97561                  18.000000   \n",
       "1047          2311.000000               5.97561                  22.000000   \n",
       "1048             4.000000               5.97561                   1.000000   \n",
       "1049          2307.000000               5.97561                  21.000000   \n",
       "\n",
       "      Victims_Between_14-18_Yrs  Victims_Between_18-30_Yrs  \\\n",
       "0                      3.000000                 267.444976   \n",
       "1                      1.000000                 267.444976   \n",
       "2                      2.000000                 267.444976   \n",
       "3                      1.000000                   1.000000   \n",
       "4                     73.925729                 267.444976   \n",
       "...                         ...                        ...   \n",
       "1045                   1.000000                   1.000000   \n",
       "1046                  84.000000                1834.000000   \n",
       "1047                  51.000000                1779.000000   \n",
       "1048                  73.925729                   2.000000   \n",
       "1049                  51.000000                1777.000000   \n",
       "\n",
       "      Victims_Between_30-50_Yrs  Victims_of_Rape_Total  \n",
       "0                     92.332847               3.000000  \n",
       "1                     92.332847               1.000000  \n",
       "2                     92.332847               2.000000  \n",
       "3                     92.332847               2.000000  \n",
       "4                     92.332847             413.828074  \n",
       "...                         ...                    ...  \n",
       "1045                   1.000000               3.000000  \n",
       "1046                 391.000000            2333.000000  \n",
       "1047                 459.000000            2311.000000  \n",
       "1048                   1.000000               4.000000  \n",
       "1049                 458.000000            2307.000000  \n",
       "\n",
       "[1050 rows x 7 columns]"
      ]
     },
     "execution_count": 63,
     "metadata": {},
     "output_type": "execute_result"
    }
   ],
   "source": [
    "x"
   ]
  },
  {
   "cell_type": "code",
   "execution_count": 64,
   "metadata": {},
   "outputs": [],
   "source": [
    "y=df.iloc[:,-1]"
   ]
  },
  {
   "cell_type": "code",
   "execution_count": 65,
   "metadata": {},
   "outputs": [
    {
     "data": {
      "text/plain": [
       "0       16.645358\n",
       "1       16.645358\n",
       "2       16.645358\n",
       "3       16.645358\n",
       "4       16.645358\n",
       "          ...    \n",
       "1045    16.645358\n",
       "1046     6.000000\n",
       "1047    16.645358\n",
       "1048    16.645358\n",
       "1049    16.645358\n",
       "Name: Victims_Upto_10_Yrs, Length: 1050, dtype: float64"
      ]
     },
     "execution_count": 65,
     "metadata": {},
     "output_type": "execute_result"
    }
   ],
   "source": [
    "y"
   ]
  },
  {
   "cell_type": "markdown",
   "metadata": {},
   "source": [
    "Removing Skewness"
   ]
  },
  {
   "cell_type": "code",
   "execution_count": 66,
   "metadata": {},
   "outputs": [],
   "source": [
    "from sklearn.preprocessing import power_transform\n",
    "x=power_transform(x,method='yeo-johnson')"
   ]
  },
  {
   "cell_type": "code",
   "execution_count": 67,
   "metadata": {},
   "outputs": [
    {
     "data": {
      "text/plain": [
       "Rape_Cases_Reported          1.403384\n",
       "Victims_Above_50_Yrs         0.923877\n",
       "Victims_Between_10-14_Yrs    2.013058\n",
       "Victims_Between_14-18_Yrs    1.950956\n",
       "Victims_Between_18-30_Yrs    1.397499\n",
       "Victims_Between_30-50_Yrs    1.587363\n",
       "Victims_of_Rape_Total        1.402023\n",
       "Victims_Upto_10_Yrs          1.476966\n",
       "dtype: float64"
      ]
     },
     "execution_count": 67,
     "metadata": {},
     "output_type": "execute_result"
    }
   ],
   "source": [
    "df_new.skew()"
   ]
  },
  {
   "cell_type": "markdown",
   "metadata": {},
   "source": [
    "# Regressor Model Building"
   ]
  },
  {
   "cell_type": "markdown",
   "metadata": {},
   "source": [
    "Linear Regression"
   ]
  },
  {
   "cell_type": "code",
   "execution_count": 68,
   "metadata": {},
   "outputs": [],
   "source": [
    "from sklearn.preprocessing import StandardScaler\n",
    "sc=StandardScaler()\n",
    "x_t=sc.fit_transform(x)\n",
    "from sklearn.model_selection import train_test_split \n",
    "from sklearn.linear_model import LinearRegression\n",
    "lr=LinearRegression()\n",
    "from sklearn.metrics import r2_score"
   ]
  },
  {
   "cell_type": "code",
   "execution_count": 69,
   "metadata": {},
   "outputs": [
    {
     "name": "stdout",
     "output_type": "stream",
     "text": [
      "At Random_State 435 The Model Perform well\n",
      "At random_state:- 435\n",
      "Training r2_score is:- 48.05096770612226\n",
      "Testing r2_score is:- 48.04577060327113\n"
     ]
    }
   ],
   "source": [
    "max_scr=0\n",
    "for i in range(0,1000):\n",
    "    x_train,x_test,y_train,y_test=train_test_split(x_t,y,random_state=i,test_size=0.20)\n",
    "    lr.fit(x_train,y_train)\n",
    "    pred_train=lr.predict(x_train)\n",
    "    pred_test=lr.predict(x_test)\n",
    "    if round(r2_score(y_train,pred_train)*100,2)==round(r2_score(y_test,pred_test)*100,2):\n",
    "        print(\"At Random_State\",i,\"The Model Perform well\")\n",
    "        print(\"At random_state:-\",i)\n",
    "        print(\"Training r2_score is:-\",r2_score(y_train,pred_train)*100)\n",
    "        print(\"Testing r2_score is:-\",r2_score(y_test,pred_test)*100)\n",
    "        "
   ]
  },
  {
   "cell_type": "code",
   "execution_count": 70,
   "metadata": {},
   "outputs": [],
   "source": [
    "x_train_b,x_test_b,y_train_b,y_test_b=train_test_split(x_t,y,random_state=435,test_size=0.20)"
   ]
  },
  {
   "cell_type": "markdown",
   "metadata": {},
   "source": [
    "Random_State 140 The Model Perform well"
   ]
  },
  {
   "cell_type": "markdown",
   "metadata": {},
   "source": [
    "# Regularization"
   ]
  },
  {
   "cell_type": "markdown",
   "metadata": {},
   "source": [
    "1. Lasso"
   ]
  },
  {
   "cell_type": "code",
   "execution_count": 71,
   "metadata": {},
   "outputs": [],
   "source": [
    "from sklearn.model_selection import GridSearchCV\n",
    "from sklearn.model_selection import cross_val_score\n",
    "import warnings\n",
    "warnings.filterwarnings('ignore')"
   ]
  },
  {
   "cell_type": "code",
   "execution_count": 72,
   "metadata": {},
   "outputs": [
    {
     "name": "stdout",
     "output_type": "stream",
     "text": [
      "{'alpha': 0.1, 'random_state': 1}\n"
     ]
    }
   ],
   "source": [
    "from sklearn.linear_model import Lasso\n",
    "parameters ={'alpha' :[.0001, .001, .01, .1, 1, 10], 'random_state':list(range(1,10))}\n",
    "ls=Lasso()\n",
    "clf=GridSearchCV(ls,parameters)\n",
    "clf.fit(x_train_b,y_train_b)\n",
    "\n",
    "print(clf.best_params_)"
   ]
  },
  {
   "cell_type": "code",
   "execution_count": 73,
   "metadata": {},
   "outputs": [
    {
     "name": "stdout",
     "output_type": "stream",
     "text": [
      "At cv:- 2\n",
      "Cross validation score is:- 29.772987525344174\n",
      "R2_score is:- 46.460903918436294\n",
      "\n",
      "\n",
      "At cv:- 3\n",
      "Cross validation score is:- 22.058338817702595\n",
      "R2_score is:- 46.460903918436294\n",
      "\n",
      "\n",
      "At cv:- 4\n",
      "Cross validation score is:- 26.43837887334801\n",
      "R2_score is:- 46.460903918436294\n",
      "\n",
      "\n",
      "At cv:- 5\n",
      "Cross validation score is:- 13.832935807781407\n",
      "R2_score is:- 46.460903918436294\n",
      "\n",
      "\n",
      "At cv:- 6\n",
      "Cross validation score is:- 8.72793228600046\n",
      "R2_score is:- 46.460903918436294\n",
      "\n",
      "\n",
      "At cv:- 7\n",
      "Cross validation score is:- 17.46368567201752\n",
      "R2_score is:- 46.460903918436294\n",
      "\n",
      "\n",
      "At cv:- 8\n",
      "Cross validation score is:- 4.945741819703266\n",
      "R2_score is:- 46.460903918436294\n",
      "\n",
      "\n",
      "At cv:- 9\n",
      "Cross validation score is:- 1.79504969591445\n",
      "R2_score is:- 46.460903918436294\n",
      "\n",
      "\n"
     ]
    }
   ],
   "source": [
    "ls = Lasso(alpha=0.1,random_state=1)\n",
    "ls.fit(x_train_b,y_train_b)\n",
    "ls.score(x_train_b,y_train_b)\n",
    "pred_ls= ls.predict(x_test_b)\n",
    "\n",
    "lss =r2_score(y_test_b,pred_ls)\n",
    "for j in range(2,10):\n",
    "    lsscore = cross_val_score(ls,x_t,y,cv=j)\n",
    "    lsc= lsscore.mean()\n",
    "    print(\"At cv:-\",j)\n",
    "    print(\"Cross validation score is:-\",lsc*100)\n",
    "    print(\"R2_score is:-\", lss*100)\n",
    "    print(\"\\n\")\n"
   ]
  },
  {
   "cell_type": "code",
   "execution_count": 74,
   "metadata": {},
   "outputs": [
    {
     "name": "stdout",
     "output_type": "stream",
     "text": [
      "At cv:- 3\n",
      "Cross validation score is:- 29.7729\n",
      "R2_Score is:- 46.4609\n"
     ]
    }
   ],
   "source": [
    "print(\"At cv:-\",3)\n",
    "print(\"Cross validation score is:-\",29.7729)\n",
    "print(\"R2_Score is:-\",46.4609)"
   ]
  },
  {
   "cell_type": "code",
   "execution_count": 75,
   "metadata": {},
   "outputs": [],
   "source": [
    "from sklearn.metrics import mean_absolute_error\n",
    "from sklearn.metrics import mean_squared_error\n",
    "import numpy as np"
   ]
  },
  {
   "cell_type": "code",
   "execution_count": 76,
   "metadata": {},
   "outputs": [
    {
     "name": "stdout",
     "output_type": "stream",
     "text": [
      "Error:\n",
      "Mean Absuolute Error: 8.656980101058094\n",
      "Mean Squared Error: 174.37719160376355\n",
      "root mean squared Error: 13.205195629136417\n"
     ]
    }
   ],
   "source": [
    "print('Error:')\n",
    "\n",
    "print(\"Mean Absuolute Error:\", mean_absolute_error(y_test_b,pred_ls))\n",
    "print(\"Mean Squared Error:\", mean_squared_error(y_test_b,pred_ls))\n",
    "print(\"root mean squared Error:\", np.sqrt(mean_squared_error(y_test_b,pred_ls)))"
   ]
  },
  {
   "cell_type": "code",
   "execution_count": 77,
   "metadata": {},
   "outputs": [
    {
     "data": {
      "image/png": "[encoded data removed]",
      "text/plain": [
       "<Figure size 576x432 with 1 Axes>"
      ]
     },
     "metadata": {
      "needs_background": "light"
     },
     "output_type": "display_data"
    }
   ],
   "source": [
    "plt.figure(figsize=(8,6))\n",
    "plt.scatter(x=y_test_b, y=pred_ls, color='r')\n",
    "plt.plot(y_test_b,y_test_b, color='g')\n",
    "plt.xlabel('Actual Class', fontsize=14)\n",
    "plt.ylabel('Predicted Class',fontsize=14)\n",
    "plt.title('Lasso Regression', fontsize=18)\n",
    "plt.show()"
   ]
  },
  {
   "cell_type": "markdown",
   "metadata": {},
   "source": [
    "2. Ridge Regression"
   ]
  },
  {
   "cell_type": "code",
   "execution_count": 78,
   "metadata": {},
   "outputs": [],
   "source": [
    "from sklearn.linear_model import Ridge"
   ]
  },
  {
   "cell_type": "code",
   "execution_count": 79,
   "metadata": {},
   "outputs": [
    {
     "name": "stdout",
     "output_type": "stream",
     "text": [
      "{'alpha': 0.001, 'copy_X': True, 'fit_intercept': True, 'normalize': False, 'random_state': 0, 'tol': 0.001}\n"
     ]
    }
   ],
   "source": [
    "parameters ={'alpha':[.0001, .001, .01,.1 ,1],'fit_intercept':[True,False],'normalize':[True,False],'copy_X':[True,False],'tol':[1e-3], 'random_state':list(range(0,10))}\n",
    "rd=Ridge()\n",
    "clf =GridSearchCV(rd,parameters)\n",
    "clf.fit(x_train_b,y_train_b)\n",
    "\n",
    "print(clf.best_params_)\n"
   ]
  },
  {
   "cell_type": "code",
   "execution_count": 80,
   "metadata": {},
   "outputs": [
    {
     "name": "stdout",
     "output_type": "stream",
     "text": [
      "At cv:- 2\n",
      "Cross validation score is:- 30.32817640003809\n",
      "R2_score is:- 47.96468619197238\n",
      "\n",
      "\n",
      "At cv:- 3\n",
      "Cross validation score is:- 23.387108030064073\n",
      "R2_score is:- 47.96468619197238\n",
      "\n",
      "\n",
      "At cv:- 4\n",
      "Cross validation score is:- 27.263686717567854\n",
      "R2_score is:- 47.96468619197238\n",
      "\n",
      "\n",
      "At cv:- 5\n",
      "Cross validation score is:- 13.607933391083263\n",
      "R2_score is:- 47.96468619197238\n",
      "\n",
      "\n",
      "At cv:- 6\n",
      "Cross validation score is:- 8.919839341604522\n",
      "R2_score is:- 47.96468619197238\n",
      "\n",
      "\n",
      "At cv:- 7\n",
      "Cross validation score is:- 17.34589527632022\n",
      "R2_score is:- 47.96468619197238\n",
      "\n",
      "\n",
      "At cv:- 8\n",
      "Cross validation score is:- 4.9311637917202775\n",
      "R2_score is:- 47.96468619197238\n",
      "\n",
      "\n",
      "At cv:- 9\n",
      "Cross validation score is:- 1.620735553308598\n",
      "R2_score is:- 47.96468619197238\n",
      "\n",
      "\n"
     ]
    }
   ],
   "source": [
    "rd = Ridge(alpha=0.001, copy_X=True, fit_intercept=True, normalize=False, random_state=0, tol=0.001)\n",
    "rd.fit(x_train_b,y_train_b)\n",
    "rd.score(x_train_b,y_train_b)\n",
    "pred_rd= rd.predict(x_test_b)\n",
    "\n",
    "rds =r2_score(y_test_b,pred_rd)\n",
    "for j in range(2,10):\n",
    "    rdscore = cross_val_score(rd,x_t,y,cv=j)\n",
    "    rdc= rdscore.mean()\n",
    "    print(\"At cv:-\",j)\n",
    "    print(\"Cross validation score is:-\",rdc*100)\n",
    "    print(\"R2_score is:-\", rds*100)\n",
    "    print(\"\\n\")"
   ]
  },
  {
   "cell_type": "code",
   "execution_count": 81,
   "metadata": {},
   "outputs": [
    {
     "name": "stdout",
     "output_type": "stream",
     "text": [
      "At cv:- 3\n",
      "Cross validation score is:- 30.3281\n",
      "R2_Score is:- 47.9646\n"
     ]
    }
   ],
   "source": [
    "print(\"At cv:-\",3)\n",
    "print(\"Cross validation score is:-\",30.3281)\n",
    "print(\"R2_Score is:-\",47.9646)\n"
   ]
  },
  {
   "cell_type": "code",
   "execution_count": 82,
   "metadata": {},
   "outputs": [],
   "source": [
    "from sklearn.metrics import mean_absolute_error\n",
    "from sklearn.metrics import mean_squared_error\n",
    "import numpy as np\n"
   ]
  },
  {
   "cell_type": "code",
   "execution_count": 83,
   "metadata": {},
   "outputs": [
    {
     "name": "stdout",
     "output_type": "stream",
     "text": [
      "Error:\n",
      "Mean Absuolute Error: 8.603516458058705\n",
      "Mean Squared Error: 169.47936274906527\n",
      "root mean squared Error: 13.018423973318171\n"
     ]
    }
   ],
   "source": [
    "print('Error:')\n",
    "\n",
    "print(\"Mean Absuolute Error:\", mean_absolute_error(y_test_b,pred_rd))\n",
    "print(\"Mean Squared Error:\", mean_squared_error(y_test_b,pred_rd))\n",
    "print(\"root mean squared Error:\", np.sqrt(mean_squared_error(y_test_b,pred_rd)))\n"
   ]
  },
  {
   "cell_type": "code",
   "execution_count": 84,
   "metadata": {},
   "outputs": [
    {
     "data": {
      "image/png": "[encoded data removed]",
      "text/plain": [
       "<Figure size 576x432 with 1 Axes>"
      ]
     },
     "metadata": {
      "needs_background": "light"
     },
     "output_type": "display_data"
    }
   ],
   "source": [
    "plt.figure(figsize=(8,6))\n",
    "plt.scatter(x=y_test_b, y=pred_rd, color='r')\n",
    "plt.plot(y_test_b,y_test_b, color='g')\n",
    "plt.xlabel('Actual Class', fontsize=14)\n",
    "plt.ylabel('Predicted Class',fontsize=14)\n",
    "plt.title('Ridge Regression', fontsize=18)\n",
    "plt.show()"
   ]
  },
  {
   "cell_type": "markdown",
   "metadata": {},
   "source": [
    "# EnsambleTechnique"
   ]
  },
  {
   "cell_type": "code",
   "execution_count": 85,
   "metadata": {},
   "outputs": [],
   "source": [
    "from sklearn.tree import DecisionTreeRegressor"
   ]
  },
  {
   "cell_type": "code",
   "execution_count": 86,
   "metadata": {},
   "outputs": [
    {
     "name": "stdout",
     "output_type": "stream",
     "text": [
      "{'criterion': 'mse', 'splitter': 'random'}\n"
     ]
    }
   ],
   "source": [
    "parameters ={'criterion':['mse','friedman_mse','mae'], 'splitter':['best','random']}\n",
    "dt=DecisionTreeRegressor()\n",
    "clf =GridSearchCV(dt,parameters)\n",
    "clf.fit(x_train_b,y_train_b)\n",
    "\n",
    "print(clf.best_params_)\n"
   ]
  },
  {
   "cell_type": "code",
   "execution_count": 97,
   "metadata": {},
   "outputs": [
    {
     "name": "stdout",
     "output_type": "stream",
     "text": [
      "R2_score is:- 82.06183997320964\n",
      "Cross validation score is:- -48.82222331354353\n",
      "\n",
      "\n"
     ]
    }
   ],
   "source": [
    "dt=DecisionTreeRegressor(criterion='mse', splitter='random')\n",
    "dt.fit(x_train_b,y_train_b)\n",
    "dt.score(x_train_b,y_train_b)\n",
    "pred_decision= dt.predict(x_test_b)\n",
    "\n",
    "dts =r2_score(y_test_b,pred_decision)\n",
    "print(\"R2_score is:-\", dts*100)\n",
    "\n",
    "dtscore = cross_val_score(dt,x_t,y,cv=3)\n",
    "dtc= dtscore.mean()\n",
    "print(\"Cross validation score is:-\",dtc*100)\n",
    "print(\"\\n\")"
   ]
  },
  {
   "cell_type": "code",
   "execution_count": 88,
   "metadata": {},
   "outputs": [
    {
     "name": "stdout",
     "output_type": "stream",
     "text": [
      "Error:\n",
      "Mean Absuolute Error: 3.8107704573458023\n",
      "Mean Squared Error: 102.10298616744272\n",
      "root mean squared Error: 10.104602227076667\n"
     ]
    }
   ],
   "source": [
    "print('Error:')\n",
    "\n",
    "print(\"Mean Absuolute Error:\", mean_absolute_error(y_test_b,pred_decision))\n",
    "print(\"Mean Squared Error:\", mean_squared_error(y_test_b,pred_decision))\n",
    "print(\"root mean squared Error:\", np.sqrt(mean_squared_error(y_test_b,pred_decision)))"
   ]
  },
  {
   "cell_type": "code",
   "execution_count": 89,
   "metadata": {},
   "outputs": [
    {
     "data": {
      "image/png": "[encoded data removed]",
      "text/plain": [
       "<Figure size 576x432 with 1 Axes>"
      ]
     },
     "metadata": {
      "needs_background": "light"
     },
     "output_type": "display_data"
    }
   ],
   "source": [
    "plt.figure(figsize=(8,6))\n",
    "plt.scatter(x=y_test_b, y=pred_decision, color='r')\n",
    "plt.plot(y_test_b,y_test_b, color='g')\n",
    "plt.xlabel('Actual Class', fontsize=14)\n",
    "plt.ylabel('Predicted Class',fontsize=14)\n",
    "plt.title('DecisionTreeRegressor', fontsize=18)\n",
    "plt.show()"
   ]
  },
  {
   "cell_type": "code",
   "execution_count": 90,
   "metadata": {},
   "outputs": [],
   "source": [
    "from sklearn.ensemble import RandomForestRegressor"
   ]
  },
  {
   "cell_type": "code",
   "execution_count": 91,
   "metadata": {},
   "outputs": [
    {
     "name": "stdout",
     "output_type": "stream",
     "text": [
      "{'criterion': 'friedman_mse', 'n_estimators': 100}\n"
     ]
    }
   ],
   "source": [
    "parameters ={'criterion':['friedman_mse','mae'], 'n_estimators':[100,200,300]}\n",
    "rf=RandomForestRegressor()\n",
    "clf =GridSearchCV(rf,parameters)\n",
    "clf.fit(x_train_b,y_train_b)\n",
    "\n",
    "print(clf.best_params_)"
   ]
  },
  {
   "cell_type": "code",
   "execution_count": 92,
   "metadata": {},
   "outputs": [
    {
     "name": "stdout",
     "output_type": "stream",
     "text": [
      "R2 score is:- 87.14919341427822\n",
      "Cross validation score is:- 24.79098282803078\n",
      "\n",
      "\n"
     ]
    }
   ],
   "source": [
    "rf=RandomForestRegressor(criterion='friedman_mse', n_estimators=100)\n",
    "rf.fit(x_train_b,y_train_b)\n",
    "rf.score(x_train_b,y_train_b)\n",
    "pred_random= rf.predict(x_test_b)\n",
    "\n",
    "rfs =r2_score(y_test_b,pred_random)\n",
    "print(\"R2 score is:-\",rfs*100)\n",
    "\n",
    "rfscore = cross_val_score(rf,x_t,y,cv=3)\n",
    "rfc= rfscore.mean()\n",
    "print(\"Cross validation score is:-\",rfc*100)\n",
    "print(\"\\n\")"
   ]
  },
  {
   "cell_type": "code",
   "execution_count": 93,
   "metadata": {},
   "outputs": [
    {
     "data": {
      "image/png": "[encoded data removed]",
      "text/plain": [
       "<Figure size 576x432 with 1 Axes>"
      ]
     },
     "metadata": {
      "needs_background": "light"
     },
     "output_type": "display_data"
    }
   ],
   "source": [
    "plt.figure(figsize=(8,6))\n",
    "plt.scatter(x=y_test_b, y=pred_random, color='r')\n",
    "plt.plot(y_test_b,y_test_b, color='g')\n",
    "plt.xlabel('Actual Class', fontsize=14)\n",
    "plt.ylabel('Predicted Class',fontsize=14)\n",
    "plt.title('RandomForestRegressor', fontsize=18)\n",
    "plt.show()"
   ]
  },
  {
   "cell_type": "code",
   "execution_count": 94,
   "metadata": {},
   "outputs": [],
   "source": [
    "from sklearn.datasets import make_regression\n",
    "from sklearn.ensemble import GradientBoostingRegressor"
   ]
  },
  {
   "cell_type": "code",
   "execution_count": 95,
   "metadata": {},
   "outputs": [
    {
     "name": "stdout",
     "output_type": "stream",
     "text": [
      "{'criterion': 'mse', 'loss': 'huber', 'n_estimators': 200}\n"
     ]
    }
   ],
   "source": [
    "parameters = {'loss': ['ls','lad', 'huber', 'quantile'],'n_estimators':[50,100,200],'criterion':['friedman_mse', 'mse']}\n",
    "gbr=GradientBoostingRegressor()\n",
    "clf =GridSearchCV(gbr,parameters)\n",
    "clf.fit(x_train_b,y_train_b)\n",
    "\n",
    "print(clf.best_params_)"
   ]
  },
  {
   "cell_type": "code",
   "execution_count": 96,
   "metadata": {},
   "outputs": [
    {
     "name": "stdout",
     "output_type": "stream",
     "text": [
      "R2 score is:- 65.89599583255905\n",
      "Cross validation score is:- 27.862901378279474\n",
      "\n",
      "\n"
     ]
    }
   ],
   "source": [
    "gbr=GradientBoostingRegressor(criterion='mse', loss='lad', n_estimators=200)\n",
    "gbr.fit(x_train_b,y_train_b)\n",
    "gbr.score(x_train_b,y_train_b)\n",
    "pred_random= gbr.predict(x_test_b)\n",
    "\n",
    "gbrs =r2_score(y_test_b,pred_random)\n",
    "print(\"R2 score is:-\",gbrs*100)\n",
    "\n",
    "gbrscore = cross_val_score(gbr,x_t,y,cv=3)\n",
    "gbrc= gbrscore.mean()\n",
    "print(\"Cross validation score is:-\",gbrc*100)\n",
    "print(\"\\n\")"
   ]
  },
  {
   "cell_type": "code",
   "execution_count": 98,
   "metadata": {},
   "outputs": [
    {
     "data": {
      "image/png": "[encoded data removed]",
      "text/plain": [
       "<Figure size 576x432 with 1 Axes>"
      ]
     },
     "metadata": {
      "needs_background": "light"
     },
     "output_type": "display_data"
    }
   ],
   "source": [
    "plt.figure(figsize=(8,6))\n",
    "plt.scatter(x=y_test_b, y=pred_random, color='r')\n",
    "plt.plot(y_test_b,y_test_b, color='g')\n",
    "plt.xlabel('Actual Class', fontsize=14)\n",
    "plt.ylabel('Predicted Class',fontsize=14)\n",
    "plt.title('Gradient Boost Regressorr', fontsize=18)\n",
    "plt.show()"
   ]
  },
  {
   "cell_type": "code",
   "execution_count": 99,
   "metadata": {},
   "outputs": [],
   "source": [
    "from sklearn.svm import SVR"
   ]
  },
  {
   "cell_type": "code",
   "execution_count": 100,
   "metadata": {},
   "outputs": [
    {
     "name": "stdout",
     "output_type": "stream",
     "text": [
      "{'kernel': 'poly'}\n"
     ]
    }
   ],
   "source": [
    "parameters= {'kernel':['linear','poly','rbf','sigmoid']} #'gamma':['auto','scale']\n",
    "sv= SVR()\n",
    "clf=GridSearchCV(sv,parameters)\n",
    "clf.fit(x_train_b,y_train_b)\n",
    "\n",
    "print(clf.best_params_)\n"
   ]
  },
  {
   "cell_type": "code",
   "execution_count": 101,
   "metadata": {},
   "outputs": [
    {
     "name": "stdout",
     "output_type": "stream",
     "text": [
      "{'gamma': 'auto'}\n"
     ]
    }
   ],
   "source": [
    "parameters= {'gamma':['auto','scale']}\n",
    "sv= SVR()\n",
    "clf=GridSearchCV(sv,parameters)\n",
    "clf.fit(x_train_b,y_train_b)\n",
    "\n",
    "print(clf.best_params_)"
   ]
  },
  {
   "cell_type": "code",
   "execution_count": 102,
   "metadata": {},
   "outputs": [
    {
     "name": "stdout",
     "output_type": "stream",
     "text": [
      "R2 score is:- 47.011127863380075\n",
      "Cross validation score is:- 37.25992836813351\n",
      "\n",
      "\n"
     ]
    }
   ],
   "source": [
    "sv=SVR(kernel='poly', gamma='auto')\n",
    "sv.fit(x_train_b,y_train_b)\n",
    "sv.score(x_train_b,y_train_b)\n",
    "pred_vector= sv.predict(x_test_b)\n",
    "\n",
    "svs =r2_score(y_test_b,pred_vector)\n",
    "print(\"R2 score is:-\",svs*100)\n",
    "\n",
    "svscore = cross_val_score(sv,x_t,y,cv=3)\n",
    "svc= svscore.mean()\n",
    "print(\"Cross validation score is:-\",svc*100)\n",
    "print(\"\\n\")"
   ]
  },
  {
   "cell_type": "code",
   "execution_count": 103,
   "metadata": {},
   "outputs": [
    {
     "data": {
      "image/png": "[encoded data removed]",
      "text/plain": [
       "<Figure size 576x432 with 1 Axes>"
      ]
     },
     "metadata": {
      "needs_background": "light"
     },
     "output_type": "display_data"
    }
   ],
   "source": [
    "plt.figure(figsize=(8,6))\n",
    "plt.scatter(x=y_test_b, y=pred_random, color='r')\n",
    "plt.plot(y_test_b,y_test_b, color='g')\n",
    "plt.xlabel('Actual Class', fontsize=14)\n",
    "plt.ylabel('Predicted Class',fontsize=14)\n",
    "plt.title('SVR', fontsize=18)\n",
    "plt.show()"
   ]
  },
  {
   "cell_type": "markdown",
   "metadata": {},
   "source": [
    "# The Best Model is Lasso because of the difference between the percentage score of cross Val and r2_score is optimum and Deaths figure is Low."
   ]
  },
  {
   "cell_type": "markdown",
   "metadata": {},
   "source": [
    "model saving"
   ]
  },
  {
   "cell_type": "code",
   "execution_count": 104,
   "metadata": {},
   "outputs": [],
   "source": [
    "import pickle\n",
    "filename= 'Project_20_RapeVictim.pkl'\n",
    "pickle.dump(ls,open(filename,'wb'))"
   ]
  },
  {
   "cell_type": "markdown",
   "metadata": {},
   "source": [
    "Conclusion"
   ]
  },
  {
   "cell_type": "code",
   "execution_count": 105,
   "metadata": {},
   "outputs": [
    {
     "data": {
      "text/plain": [
       "array([ 16.64535769,  16.64535769,  16.64535769,  16.64535769,\n",
       "        16.64535769,  16.64535769,  16.64535769,  10.        ,\n",
       "        16.64535769,   1.        ,  15.        ,  16.64535769,\n",
       "         8.        ,  19.        ,  16.64535769,  16.64535769,\n",
       "         1.        ,   1.        ,  10.        ,  16.64535769,\n",
       "        16.64535769,  20.        ,  10.        ,  23.        ,\n",
       "        16.64535769,  16.64535769,  26.        ,  23.        ,\n",
       "         1.        ,  74.        ,  88.        ,  75.        ,\n",
       "        21.        ,  16.64535769,  17.        ,  16.64535769,\n",
       "        16.64535769,  16.64535769,   8.        ,  16.64535769,\n",
       "         6.        ,  67.        ,   1.        ,   1.        ,\n",
       "        16.64535769,   2.        ,  16.64535769,  16.64535769,\n",
       "        46.        ,   2.        ,  17.        ,   8.        ,\n",
       "        75.        ,  24.        ,  16.64535769,  33.        ,\n",
       "         2.        ,  16.64535769,  86.        ,  16.64535769,\n",
       "        16.64535769,   3.        ,  30.        ,   1.        ,\n",
       "         1.        ,  16.64535769,  63.        ,  16.64535769,\n",
       "        16.64535769,   3.        ,  16.64535769,   3.        ,\n",
       "        16.64535769,  16.64535769,   1.        ,  16.64535769,\n",
       "        16.64535769,  18.        ,  16.64535769,  16.64535769,\n",
       "        16.64535769,   4.        ,  16.64535769,   3.        ,\n",
       "         1.        ,   9.        ,   1.        ,   6.        ,\n",
       "        22.        ,  44.        ,   6.        ,  11.        ,\n",
       "        16.64535769,   1.        ,   3.        ,  34.        ,\n",
       "        27.        ,  16.64535769,  20.        ,   8.        ,\n",
       "         1.        ,   8.        ,  34.        ,  15.        ,\n",
       "         4.        ,  16.64535769,   1.        ,  79.        ,\n",
       "         8.        ,  16.64535769,  33.        ,   2.        ,\n",
       "         1.        ,  16.64535769,   1.        ,   2.        ,\n",
       "        16.64535769,  12.        ,  16.64535769,   2.        ,\n",
       "         1.        ,  16.64535769,  24.        ,  16.64535769,\n",
       "        16.64535769,   2.        ,  16.64535769,  16.64535769,\n",
       "        32.        ,  10.        ,   1.        ,  27.        ,\n",
       "       126.        ,  16.64535769,  16.64535769,  11.        ,\n",
       "        16.64535769,  16.64535769,   8.        ,  21.        ,\n",
       "        16.64535769,   1.        ,  23.        ,  16.64535769,\n",
       "         8.        ,  80.        ,  23.        ,  16.64535769,\n",
       "         2.        ,   4.        ,   2.        ,  16.64535769,\n",
       "        16.64535769,   4.        ,  16.64535769,  16.64535769,\n",
       "        16.64535769, 114.        ,   1.        ,   8.        ,\n",
       "        14.        ,  22.        ,   4.        ,  16.64535769,\n",
       "        16.64535769,  10.        ,  16.64535769,   5.        ,\n",
       "         2.        ,   1.        ,   1.        ,  44.        ,\n",
       "        27.        ,   4.        ,   9.        ,  18.        ,\n",
       "         2.        ,   6.        ,  16.64535769,   1.        ,\n",
       "         6.        ,  17.        ,  16.64535769,  16.64535769,\n",
       "        23.        ,   1.        ,  33.        ,   1.        ,\n",
       "        16.64535769,  16.64535769,  16.64535769,  82.        ,\n",
       "         4.        ,  17.        ,   1.        ,   3.        ,\n",
       "        16.64535769,  28.        ,   1.        ,  16.64535769,\n",
       "        16.64535769,  16.64535769,  16.64535769,  16.64535769,\n",
       "        22.        ,  16.64535769,  25.        ,   2.        ,\n",
       "        16.64535769,  16.64535769])"
      ]
     },
     "execution_count": 105,
     "metadata": {},
     "output_type": "execute_result"
    }
   ],
   "source": [
    "import numpy as np\n",
    "a=np.array(y_test)\n",
    "a"
   ]
  },
  {
   "cell_type": "code",
   "execution_count": 106,
   "metadata": {},
   "outputs": [
    {
     "data": {
      "text/plain": [
       "array([24.39724476, 13.11072519,  2.05456845, 21.94919693, 21.52603696,\n",
       "       20.98388053, 19.42941506, 19.62984962,  1.53887305, 11.79537469,\n",
       "       30.25002716, 24.39724476, 18.06715123, 25.6479609 , 24.39724476,\n",
       "       24.39724476, 16.56524052, 12.01481615, 18.71413996, -1.81888009,\n",
       "       24.39724476, 21.83371028, 16.38804457, 16.19319289, 24.39724476,\n",
       "        7.39203016, 30.45586097, 23.08856264,  5.20288592, 32.1163889 ,\n",
       "       40.41616185, 38.4595497 , 27.47341968, 20.36262424, 21.03642507,\n",
       "       20.24202132, 22.40015112, 24.39724476, 22.18383885, 24.39724476,\n",
       "       12.45447707, 34.62836291,  1.80528894,  4.65424442, 20.9662638 ,\n",
       "       12.88475663, 24.39724476, 12.27111642, 39.22579609, -2.70244007,\n",
       "       21.43796034,  3.23897509, 50.81638602, 33.53995947, 10.60890509,\n",
       "       31.52526615,  7.34919523,  8.0181213 , 52.97705423,  8.0181213 ,\n",
       "       12.54863166, -0.1401603 , 41.38495148,  9.75628136, 13.22074012,\n",
       "        7.49925026, 45.8433593 , 20.12703929, 24.39724476,  3.95313935,\n",
       "        1.3636423 ,  0.31817198, 24.97331084, 24.39724476,  0.74032027,\n",
       "       11.49553943, 24.39724476, 14.87426291, 24.39724476, 24.39724476,\n",
       "       24.39724476,  7.19857891, -4.29622538, 15.83911867,  3.65376873,\n",
       "       24.62578325, 13.13699904, 19.80926112, 25.31127213, 35.9782221 ,\n",
       "       -1.74530148, 16.8058705 , 24.39724476, 10.01869947, 15.8647216 ,\n",
       "       25.88469638, 23.89354003, 20.98388053, 40.55695439, 31.77500846,\n",
       "       13.22074012, 24.6350975 , 26.19139762, 19.06808768,  4.0308216 ,\n",
       "       24.39724476,  0.15596469, 38.59161241, 21.00007384,  1.53887305,\n",
       "       29.7644536 , 14.66246353, -4.08190162,  6.07138823, 18.17354051,\n",
       "        3.9262848 , 21.48689634, 31.85482639,  3.89347898, 11.62667764,\n",
       "        2.0751117 , 24.39724476, 28.60122544, 20.90288585, 19.42941506,\n",
       "       15.72918878,  9.39842996, 24.39724476, 35.5467194 , 19.58291531,\n",
       "       18.17354051, 29.05062048, 39.61904284,  5.55569031, 20.24202132,\n",
       "       14.46420522, 13.99114808, 24.39724476, 14.57380969, 18.24371169,\n",
       "       24.39724476,  4.9198971 , 22.05067655, 19.71994079, 12.47923617,\n",
       "       40.46662144, 27.13123474, 19.42941506, 14.62095296,  4.00232406,\n",
       "       12.4784387 ,  1.83196968, 14.49862529, 21.71608385, 24.39724476,\n",
       "       12.12832394, 13.97058899, 39.77307037, 18.17354051, 13.35645359,\n",
       "       24.95461148, 21.87872506,  4.29679271, 12.19960896,  5.68033484,\n",
       "       25.09987263, 24.39724476,  2.37821016, 16.38114471,  1.3168939 ,\n",
       "       18.17354051, 44.52604183,  0.45827672, 22.04546689,  2.69253722,\n",
       "       21.18024243,  2.68014464,  9.40334636, 16.09774651, 21.19813734,\n",
       "       22.39026221, 28.22687956,  9.39842996, -4.08783977, 14.80051241,\n",
       "        7.00866845, 38.38573765, 19.78726645, 24.39724476,  6.48113561,\n",
       "        9.39842996, 39.71855062, -1.2678677 , 19.2081249 , 18.17354051,\n",
       "       -1.47007821, 13.97058899, 32.04554257, 21.19813734, 24.39724476,\n",
       "        9.39842996, 22.69994917, 24.39724476, 18.01134038, 19.99241568,\n",
       "       20.53664225, 40.08110621, -1.03197183, 24.39724476, 24.39724476])"
      ]
     },
     "execution_count": 106,
     "metadata": {},
     "output_type": "execute_result"
    }
   ],
   "source": [
    "predicted=np.array(ls.predict(x_test))\n",
    "predicted"
   ]
  },
  {
   "cell_type": "code",
   "execution_count": 107,
   "metadata": {},
   "outputs": [],
   "source": [
    "df_com=pd.DataFrame({\"original\":a,\"predicted\":predicted},index= range(len(a)))"
   ]
  },
  {
   "cell_type": "code",
   "execution_count": 108,
   "metadata": {},
   "outputs": [
    {
     "data": {
      "text/html": [
       "<div>\n",
       "<style scoped>\n",
       "    .dataframe tbody tr th:only-of-type {\n",
       "        vertical-align: middle;\n",
       "    }\n",
       "\n",
       "    .dataframe tbody tr th {\n",
       "        vertical-align: top;\n",
       "    }\n",
       "\n",
       "    .dataframe thead th {\n",
       "        text-align: right;\n",
       "    }\n",
       "</style>\n",
       "<table border=\"1\" class=\"dataframe\">\n",
       "  <thead>\n",
       "    <tr style=\"text-align: right;\">\n",
       "      <th></th>\n",
       "      <th>original</th>\n",
       "      <th>predicted</th>\n",
       "    </tr>\n",
       "  </thead>\n",
       "  <tbody>\n",
       "    <tr>\n",
       "      <th>0</th>\n",
       "      <td>16.645358</td>\n",
       "      <td>24.397245</td>\n",
       "    </tr>\n",
       "    <tr>\n",
       "      <th>1</th>\n",
       "      <td>16.645358</td>\n",
       "      <td>13.110725</td>\n",
       "    </tr>\n",
       "    <tr>\n",
       "      <th>2</th>\n",
       "      <td>16.645358</td>\n",
       "      <td>2.054568</td>\n",
       "    </tr>\n",
       "    <tr>\n",
       "      <th>3</th>\n",
       "      <td>16.645358</td>\n",
       "      <td>21.949197</td>\n",
       "    </tr>\n",
       "    <tr>\n",
       "      <th>4</th>\n",
       "      <td>16.645358</td>\n",
       "      <td>21.526037</td>\n",
       "    </tr>\n",
       "    <tr>\n",
       "      <th>...</th>\n",
       "      <td>...</td>\n",
       "      <td>...</td>\n",
       "    </tr>\n",
       "    <tr>\n",
       "      <th>205</th>\n",
       "      <td>16.645358</td>\n",
       "      <td>20.536642</td>\n",
       "    </tr>\n",
       "    <tr>\n",
       "      <th>206</th>\n",
       "      <td>25.000000</td>\n",
       "      <td>40.081106</td>\n",
       "    </tr>\n",
       "    <tr>\n",
       "      <th>207</th>\n",
       "      <td>2.000000</td>\n",
       "      <td>-1.031972</td>\n",
       "    </tr>\n",
       "    <tr>\n",
       "      <th>208</th>\n",
       "      <td>16.645358</td>\n",
       "      <td>24.397245</td>\n",
       "    </tr>\n",
       "    <tr>\n",
       "      <th>209</th>\n",
       "      <td>16.645358</td>\n",
       "      <td>24.397245</td>\n",
       "    </tr>\n",
       "  </tbody>\n",
       "</table>\n",
       "<p>210 rows × 2 columns</p>\n",
       "</div>"
      ],
      "text/plain": [
       "      original  predicted\n",
       "0    16.645358  24.397245\n",
       "1    16.645358  13.110725\n",
       "2    16.645358   2.054568\n",
       "3    16.645358  21.949197\n",
       "4    16.645358  21.526037\n",
       "..         ...        ...\n",
       "205  16.645358  20.536642\n",
       "206  25.000000  40.081106\n",
       "207   2.000000  -1.031972\n",
       "208  16.645358  24.397245\n",
       "209  16.645358  24.397245\n",
       "\n",
       "[210 rows x 2 columns]"
      ]
     },
     "execution_count": 108,
     "metadata": {},
     "output_type": "execute_result"
    }
   ],
   "source": [
    "df_com"
   ]
  },
  {
   "cell_type": "code",
   "execution_count": null,
   "metadata": {},
   "outputs": [],
   "source": []
  }
 ],
 "metadata": {
  "kernelspec": {
   "display_name": "Python 3",
   "language": "python",
   "name": "python3"
  },
  "language_info": {
   "codemirror_mode": {
    "name": "ipython",
    "version": 3
   },
   "file_extension": ".py",
   "mimetype": "text/x-python",
   "name": "python",
   "nbconvert_exporter": "python",
   "pygments_lexer": "ipython3",
   "version": "3.8.3"
  }
 },
 "nbformat": 4,
 "nbformat_minor": 4
}
